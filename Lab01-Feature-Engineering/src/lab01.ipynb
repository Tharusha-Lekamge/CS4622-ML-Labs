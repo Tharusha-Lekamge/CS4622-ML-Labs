{
 "cells": [
  {
   "cell_type": "code",
   "execution_count": 10,
   "metadata": {},
   "outputs": [],
   "source": [
    "import pandas as pd\n",
    "import numpy as np          # For mathematical calculations\n",
    "import matplotlib.pyplot as plt  # For plotting graphs\n",
    "from datetime import datetime    # To access datetime\n",
    "from pandas import Series        # To work on series\n",
    "%matplotlib inline\n",
    "import warnings                   # To ignore the warnings\n",
    "warnings.filterwarnings(\"ignore\")\n",
    "import seaborn as sns\n",
    "import math\n",
    "\n",
    "from sklearn.model_selection import train_test_split\n",
    "from sklearn.linear_model import LinearRegression\n",
    "from sklearn.metrics import mean_squared_error\n",
    "from sklearn.tree import DecisionTreeClassifier\n",
    "from sklearn.metrics import accuracy_score"
   ]
  },
  {
   "cell_type": "code",
   "execution_count": 2,
   "metadata": {},
   "outputs": [],
   "source": [
    "# Data extraction\n",
    "train = pd.read_csv('../data/train.csv')\n",
    "valid = pd.read_csv('../data/valid.csv')"
   ]
  },
  {
   "cell_type": "code",
   "execution_count": 17,
   "metadata": {},
   "outputs": [
    {
     "data": {
      "text/html": [
       "<div>\n",
       "<style scoped>\n",
       "    .dataframe tbody tr th:only-of-type {\n",
       "        vertical-align: middle;\n",
       "    }\n",
       "\n",
       "    .dataframe tbody tr th {\n",
       "        vertical-align: top;\n",
       "    }\n",
       "\n",
       "    .dataframe thead th {\n",
       "        text-align: right;\n",
       "    }\n",
       "</style>\n",
       "<table border=\"1\" class=\"dataframe\">\n",
       "  <thead>\n",
       "    <tr style=\"text-align: right;\">\n",
       "      <th></th>\n",
       "      <th>feature_1</th>\n",
       "      <th>feature_2</th>\n",
       "      <th>feature_3</th>\n",
       "      <th>feature_4</th>\n",
       "      <th>feature_5</th>\n",
       "      <th>feature_6</th>\n",
       "      <th>feature_7</th>\n",
       "      <th>feature_8</th>\n",
       "      <th>feature_9</th>\n",
       "      <th>feature_10</th>\n",
       "      <th>...</th>\n",
       "      <th>feature_251</th>\n",
       "      <th>feature_252</th>\n",
       "      <th>feature_253</th>\n",
       "      <th>feature_254</th>\n",
       "      <th>feature_255</th>\n",
       "      <th>feature_256</th>\n",
       "      <th>label_1</th>\n",
       "      <th>label_2</th>\n",
       "      <th>label_3</th>\n",
       "      <th>label_4</th>\n",
       "    </tr>\n",
       "  </thead>\n",
       "  <tbody>\n",
       "    <tr>\n",
       "      <th>count</th>\n",
       "      <td>28520.000000</td>\n",
       "      <td>28520.000000</td>\n",
       "      <td>28520.000000</td>\n",
       "      <td>28520.000000</td>\n",
       "      <td>28520.000000</td>\n",
       "      <td>28520.000000</td>\n",
       "      <td>28520.000000</td>\n",
       "      <td>28520.000000</td>\n",
       "      <td>28520.000000</td>\n",
       "      <td>28520.000000</td>\n",
       "      <td>...</td>\n",
       "      <td>28520.000000</td>\n",
       "      <td>28520.000000</td>\n",
       "      <td>28520.000000</td>\n",
       "      <td>28520.000000</td>\n",
       "      <td>28520.000000</td>\n",
       "      <td>28520.000000</td>\n",
       "      <td>28520.000000</td>\n",
       "      <td>28040.000000</td>\n",
       "      <td>28520.000000</td>\n",
       "      <td>28520.000000</td>\n",
       "    </tr>\n",
       "    <tr>\n",
       "      <th>mean</th>\n",
       "      <td>-0.225478</td>\n",
       "      <td>-0.616421</td>\n",
       "      <td>-0.212878</td>\n",
       "      <td>0.336330</td>\n",
       "      <td>0.105467</td>\n",
       "      <td>-0.339634</td>\n",
       "      <td>-0.201756</td>\n",
       "      <td>0.742262</td>\n",
       "      <td>0.942325</td>\n",
       "      <td>-1.957584</td>\n",
       "      <td>...</td>\n",
       "      <td>-0.028098</td>\n",
       "      <td>0.296340</td>\n",
       "      <td>1.724439</td>\n",
       "      <td>-1.476765</td>\n",
       "      <td>0.687445</td>\n",
       "      <td>-1.563062</td>\n",
       "      <td>30.498843</td>\n",
       "      <td>27.975107</td>\n",
       "      <td>0.799299</td>\n",
       "      <td>5.997125</td>\n",
       "    </tr>\n",
       "    <tr>\n",
       "      <th>std</th>\n",
       "      <td>0.990632</td>\n",
       "      <td>1.005573</td>\n",
       "      <td>1.075468</td>\n",
       "      <td>1.248919</td>\n",
       "      <td>0.831132</td>\n",
       "      <td>1.073267</td>\n",
       "      <td>0.943505</td>\n",
       "      <td>1.055721</td>\n",
       "      <td>0.940459</td>\n",
       "      <td>0.876939</td>\n",
       "      <td>...</td>\n",
       "      <td>0.989497</td>\n",
       "      <td>1.173378</td>\n",
       "      <td>0.968611</td>\n",
       "      <td>1.032811</td>\n",
       "      <td>1.028328</td>\n",
       "      <td>1.243758</td>\n",
       "      <td>17.328389</td>\n",
       "      <td>5.735913</td>\n",
       "      <td>0.400532</td>\n",
       "      <td>2.375567</td>\n",
       "    </tr>\n",
       "    <tr>\n",
       "      <th>min</th>\n",
       "      <td>-4.023911</td>\n",
       "      <td>-5.582544</td>\n",
       "      <td>-4.679888</td>\n",
       "      <td>-4.284380</td>\n",
       "      <td>-3.010300</td>\n",
       "      <td>-5.034355</td>\n",
       "      <td>-4.355222</td>\n",
       "      <td>-3.806574</td>\n",
       "      <td>-2.922614</td>\n",
       "      <td>-5.203347</td>\n",
       "      <td>...</td>\n",
       "      <td>-3.679602</td>\n",
       "      <td>-3.905801</td>\n",
       "      <td>-3.301683</td>\n",
       "      <td>-5.490267</td>\n",
       "      <td>-3.810144</td>\n",
       "      <td>-6.056032</td>\n",
       "      <td>1.000000</td>\n",
       "      <td>22.000000</td>\n",
       "      <td>0.000000</td>\n",
       "      <td>0.000000</td>\n",
       "    </tr>\n",
       "    <tr>\n",
       "      <th>25%</th>\n",
       "      <td>-0.869656</td>\n",
       "      <td>-1.287018</td>\n",
       "      <td>-0.913419</td>\n",
       "      <td>-0.478661</td>\n",
       "      <td>-0.437171</td>\n",
       "      <td>-1.075753</td>\n",
       "      <td>-0.823699</td>\n",
       "      <td>0.064072</td>\n",
       "      <td>0.298269</td>\n",
       "      <td>-2.556436</td>\n",
       "      <td>...</td>\n",
       "      <td>-0.692262</td>\n",
       "      <td>-0.550897</td>\n",
       "      <td>1.121631</td>\n",
       "      <td>-2.130906</td>\n",
       "      <td>-0.008394</td>\n",
       "      <td>-2.404028</td>\n",
       "      <td>15.000000</td>\n",
       "      <td>25.000000</td>\n",
       "      <td>1.000000</td>\n",
       "      <td>6.000000</td>\n",
       "    </tr>\n",
       "    <tr>\n",
       "      <th>50%</th>\n",
       "      <td>-0.190790</td>\n",
       "      <td>-0.609782</td>\n",
       "      <td>-0.218800</td>\n",
       "      <td>0.295881</td>\n",
       "      <td>0.117310</td>\n",
       "      <td>-0.329571</td>\n",
       "      <td>-0.193263</td>\n",
       "      <td>0.755193</td>\n",
       "      <td>0.940786</td>\n",
       "      <td>-1.949847</td>\n",
       "      <td>...</td>\n",
       "      <td>-0.018218</td>\n",
       "      <td>0.295523</td>\n",
       "      <td>1.783432</td>\n",
       "      <td>-1.449978</td>\n",
       "      <td>0.639575</td>\n",
       "      <td>-1.650610</td>\n",
       "      <td>30.000000</td>\n",
       "      <td>27.000000</td>\n",
       "      <td>1.000000</td>\n",
       "      <td>6.000000</td>\n",
       "    </tr>\n",
       "    <tr>\n",
       "      <th>75%</th>\n",
       "      <td>0.457509</td>\n",
       "      <td>0.063174</td>\n",
       "      <td>0.490262</td>\n",
       "      <td>1.119242</td>\n",
       "      <td>0.657941</td>\n",
       "      <td>0.393339</td>\n",
       "      <td>0.417146</td>\n",
       "      <td>1.461846</td>\n",
       "      <td>1.579200</td>\n",
       "      <td>-1.345999</td>\n",
       "      <td>...</td>\n",
       "      <td>0.644112</td>\n",
       "      <td>1.128566</td>\n",
       "      <td>2.383575</td>\n",
       "      <td>-0.799414</td>\n",
       "      <td>1.347263</td>\n",
       "      <td>-0.805710</td>\n",
       "      <td>46.000000</td>\n",
       "      <td>30.000000</td>\n",
       "      <td>1.000000</td>\n",
       "      <td>6.000000</td>\n",
       "    </tr>\n",
       "    <tr>\n",
       "      <th>max</th>\n",
       "      <td>4.322171</td>\n",
       "      <td>3.876604</td>\n",
       "      <td>4.267163</td>\n",
       "      <td>5.828656</td>\n",
       "      <td>3.884939</td>\n",
       "      <td>3.890622</td>\n",
       "      <td>3.799406</td>\n",
       "      <td>4.817545</td>\n",
       "      <td>4.615069</td>\n",
       "      <td>1.147192</td>\n",
       "      <td>...</td>\n",
       "      <td>3.915582</td>\n",
       "      <td>4.458014</td>\n",
       "      <td>5.261775</td>\n",
       "      <td>2.861117</td>\n",
       "      <td>5.531152</td>\n",
       "      <td>3.338544</td>\n",
       "      <td>60.000000</td>\n",
       "      <td>61.000000</td>\n",
       "      <td>1.000000</td>\n",
       "      <td>13.000000</td>\n",
       "    </tr>\n",
       "  </tbody>\n",
       "</table>\n",
       "<p>8 rows × 260 columns</p>\n",
       "</div>"
      ],
      "text/plain": [
       "          feature_1     feature_2     feature_3     feature_4     feature_5  \\\n",
       "count  28520.000000  28520.000000  28520.000000  28520.000000  28520.000000   \n",
       "mean      -0.225478     -0.616421     -0.212878      0.336330      0.105467   \n",
       "std        0.990632      1.005573      1.075468      1.248919      0.831132   \n",
       "min       -4.023911     -5.582544     -4.679888     -4.284380     -3.010300   \n",
       "25%       -0.869656     -1.287018     -0.913419     -0.478661     -0.437171   \n",
       "50%       -0.190790     -0.609782     -0.218800      0.295881      0.117310   \n",
       "75%        0.457509      0.063174      0.490262      1.119242      0.657941   \n",
       "max        4.322171      3.876604      4.267163      5.828656      3.884939   \n",
       "\n",
       "          feature_6     feature_7     feature_8     feature_9    feature_10  \\\n",
       "count  28520.000000  28520.000000  28520.000000  28520.000000  28520.000000   \n",
       "mean      -0.339634     -0.201756      0.742262      0.942325     -1.957584   \n",
       "std        1.073267      0.943505      1.055721      0.940459      0.876939   \n",
       "min       -5.034355     -4.355222     -3.806574     -2.922614     -5.203347   \n",
       "25%       -1.075753     -0.823699      0.064072      0.298269     -2.556436   \n",
       "50%       -0.329571     -0.193263      0.755193      0.940786     -1.949847   \n",
       "75%        0.393339      0.417146      1.461846      1.579200     -1.345999   \n",
       "max        3.890622      3.799406      4.817545      4.615069      1.147192   \n",
       "\n",
       "       ...   feature_251   feature_252   feature_253   feature_254  \\\n",
       "count  ...  28520.000000  28520.000000  28520.000000  28520.000000   \n",
       "mean   ...     -0.028098      0.296340      1.724439     -1.476765   \n",
       "std    ...      0.989497      1.173378      0.968611      1.032811   \n",
       "min    ...     -3.679602     -3.905801     -3.301683     -5.490267   \n",
       "25%    ...     -0.692262     -0.550897      1.121631     -2.130906   \n",
       "50%    ...     -0.018218      0.295523      1.783432     -1.449978   \n",
       "75%    ...      0.644112      1.128566      2.383575     -0.799414   \n",
       "max    ...      3.915582      4.458014      5.261775      2.861117   \n",
       "\n",
       "        feature_255   feature_256       label_1       label_2       label_3  \\\n",
       "count  28520.000000  28520.000000  28520.000000  28040.000000  28520.000000   \n",
       "mean       0.687445     -1.563062     30.498843     27.975107      0.799299   \n",
       "std        1.028328      1.243758     17.328389      5.735913      0.400532   \n",
       "min       -3.810144     -6.056032      1.000000     22.000000      0.000000   \n",
       "25%       -0.008394     -2.404028     15.000000     25.000000      1.000000   \n",
       "50%        0.639575     -1.650610     30.000000     27.000000      1.000000   \n",
       "75%        1.347263     -0.805710     46.000000     30.000000      1.000000   \n",
       "max        5.531152      3.338544     60.000000     61.000000      1.000000   \n",
       "\n",
       "            label_4  \n",
       "count  28520.000000  \n",
       "mean       5.997125  \n",
       "std        2.375567  \n",
       "min        0.000000  \n",
       "25%        6.000000  \n",
       "50%        6.000000  \n",
       "75%        6.000000  \n",
       "max       13.000000  \n",
       "\n",
       "[8 rows x 260 columns]"
      ]
     },
     "execution_count": 17,
     "metadata": {},
     "output_type": "execute_result"
    }
   ],
   "source": [
    "train.describe()"
   ]
  },
  {
   "cell_type": "code",
   "execution_count": 3,
   "metadata": {},
   "outputs": [],
   "source": [
    "x_train = train.copy().drop(columns=['label_1', 'label_2', 'label_3', 'label_4'])\n",
    "x_valid = valid.copy().drop(columns=['label_1', 'label_2', 'label_3', 'label_4'])\n",
    "\n",
    "iD_train = train['label_1'].to_frame()\n",
    "age_train = train['label_2'].to_frame()\n",
    "gender_train = train['label_3'].to_frame()\n",
    "accent_train = train['label_4'].to_frame()\n",
    "\n",
    "iD_valid = valid['label_1'].to_frame()\n",
    "age_valid = valid['label_2'].to_frame()\n",
    "gender_valid = valid['label_3'].to_frame()\n",
    "accent_valid = valid['label_4'].to_frame()"
   ]
  },
  {
   "cell_type": "code",
   "execution_count": 4,
   "metadata": {},
   "outputs": [
    {
     "name": "stdout",
     "output_type": "stream",
     "text": [
      "label_1 60 0.21037868162692847\n",
      "label_2 17 0.05960729312762973\n",
      "label_3 2 0.007012622720897616\n",
      "label_4 14 0.049088359046283316\n"
     ]
    }
   ],
   "source": [
    "# Print the unique values of each column in iD_valid and the count of unique values\n",
    "for col in iD_train.columns:\n",
    "    print(col, iD_train[col].nunique(), (iD_train[col].nunique()/28520)*100)\n",
    "\n",
    "for col in age_train.columns:\n",
    "    print(col, age_train[col].nunique(), (age_train[col].nunique()/28520)*100)\n",
    "\n",
    "for col in gender_train.columns:\n",
    "    print(col, gender_train[col].nunique(), (gender_train[col].nunique()/28520)*100)\n",
    "\n",
    "for col in accent_train.columns:\n",
    "    print(col, accent_train[col].nunique(), (accent_train[col].nunique()/28520)*100)\n",
    "\n",
    "# Therefore all can be considered as categorical variables as low percentage\n",
    "# ID is not useful and age can be a continuous variable\n",
    "# Therefore, age is considered as a continuous variable\n"
   ]
  },
  {
   "cell_type": "markdown",
   "metadata": {},
   "source": [
    "## For Age\n",
    "\n",
    "Age is continuous -> Use a regressor -> Using linear regression"
   ]
  },
  {
   "cell_type": "code",
   "execution_count": 5,
   "metadata": {},
   "outputs": [
    {
     "data": {
      "text/plain": [
       "<Axes: >"
      ]
     },
     "execution_count": 5,
     "metadata": {},
     "output_type": "execute_result"
    },
    {
     "data": {
      "image/png": "[encoded data removed]",
      "text/plain": [
       "<Figure size 640x480 with 1 Axes>"
      ]
     },
     "metadata": {},
     "output_type": "display_data"
    }
   ],
   "source": [
    "# Get heatmap for null values in age_train\n",
    "sns.heatmap(age_train.isnull(),yticklabels=False,cbar=False,cmap='viridis')\n",
    "\n",
    "# get the number of zeroes in age valid\n",
    "#age_train[age_train['label_2'].isnull()].shape"
   ]
  },
  {
   "cell_type": "code",
   "execution_count": 22,
   "metadata": {},
   "outputs": [],
   "source": [
    "# Handling NaN values in the age\n",
    "# Combine X and y into a single DataFrame\n",
    "data = pd.concat([x_train, age_train], axis=1)\n",
    "\n",
    "# Remove rows with null values\n",
    "data_cleaned = data.dropna()\n",
    "\n",
    "# Separate X and y again\n",
    "x_train_null_removed_from_age = data_cleaned.drop(columns=['label_2'])\n",
    "age_train_null_removed = data_cleaned['label_2']\n",
    "\n",
    "# For validation set\n",
    "# Combine X and y into a single DataFrame\n",
    "data_valid = pd.concat([x_valid, age_valid], axis=1)\n",
    "\n",
    "# Remove rows with null values\n",
    "data_cleaned_valid = data_valid.dropna()\n",
    "\n",
    "# Separate X and y again\n",
    "x_valid_null_removed_from_age = data_cleaned_valid.drop(columns=['label_2'])\n",
    "age_valid_null_removed = data_cleaned_valid['label_2'].to_frame()"
   ]
  },
  {
   "cell_type": "code",
   "execution_count": 11,
   "metadata": {},
   "outputs": [
    {
     "name": "stdout",
     "output_type": "stream",
     "text": [
      "Root Mean Squared Error: 4.881146590751572\n"
     ]
    }
   ],
   "source": [
    "## Without Any preprocessing\n",
    "\n",
    "# Create a Linear Regression model\n",
    "regression_model = LinearRegression()\n",
    "\n",
    "# Train the model on the training data\n",
    "regression_model.fit(x_train_null_removed_from_age, age_train_null_removed)\n",
    "\n",
    "# Make predictions on the test data\n",
    "y_pred_initial = regression_model.predict(x_valid_null_removed_from_age)\n",
    "\n",
    "# Calculate the Mean Squared Error (MSE) to evaluate the model's performance\n",
    "mse_initial = mean_squared_error(age_valid_null_removed, y_pred_initial)\n",
    "\n",
    "print(\"Root Mean Squared Error for linearRegression:\", math.sqrt(mse_initial))"
   ]
  },
  {
   "cell_type": "markdown",
   "metadata": {},
   "source": [
    "### Using Feature Normalisation\n"
   ]
  },
  {
   "cell_type": "code",
   "execution_count": 32,
   "metadata": {},
   "outputs": [
    {
     "data": {
      "text/plain": [
       "array([[25.],\n",
       "       [25.],\n",
       "       [25.],\n",
       "       [25.],\n",
       "       [25.],\n",
       "       [25.],\n",
       "       [25.],\n",
       "       [25.],\n",
       "       [25.],\n",
       "       [25.]])"
      ]
     },
     "execution_count": 32,
     "metadata": {},
     "output_type": "execute_result"
    }
   ],
   "source": [
    "age_valid_null_removed_values[:10]"
   ]
  },
  {
   "cell_type": "code",
   "execution_count": 35,
   "metadata": {},
   "outputs": [],
   "source": [
    "from sklearn.preprocessing import StandardScaler\n",
    "\n",
    "scaler = StandardScaler()\n",
    "X_train_normalized = scaler.fit_transform(x_train_null_removed_from_age)\n",
    "X_valid_normalized = scaler.transform(x_valid_null_removed_from_age)\n",
    "\n",
    "# You can also normalize the target variable \"age\" separately\n",
    "age_train_null_removed_values = age_train_null_removed.values.reshape(-1, 1)  # Reshape y to a column vector\n",
    "age_train_normalized = scaler.fit_transform(age_train_null_removed_values)\n",
    "\n",
    "age_valid_null_removed_values = age_valid_null_removed.values.reshape(-1, 1)  # Reshape y to a column vector\n",
    "age_valid_normalized = scaler.transform(age_valid_null_removed_values)\n"
   ]
  },
  {
   "cell_type": "code",
   "execution_count": 56,
   "metadata": {},
   "outputs": [],
   "source": [
    "# Create a Linear Regression model\n",
    "regression_model_scaled_data = LinearRegression()\n",
    "\n",
    "# Train the model on the training data\n",
    "regression_model_scaled_data.fit(X_train_normalized, age_train_null_removed_values)\n",
    "\n",
    "# Make predictions on the test data\n",
    "y_pred_initial_scaled = regression_model_scaled_data.predict(X_valid_normalized)"
   ]
  },
  {
   "cell_type": "code",
   "execution_count": 57,
   "metadata": {},
   "outputs": [
    {
     "name": "stdout",
     "output_type": "stream",
     "text": [
      "Root Mean Squared Error for linearRegression: 4.881146590751575\n"
     ]
    }
   ],
   "source": [
    "mse_scaled = mean_squared_error(age_valid_null_removed_values, y_pred_initial_scaled.reshape(-1, 1))\n",
    "\n",
    "print(\"Root Mean Squared Error for linearRegression:\", math.sqrt(mse_scaled))"
   ]
  },
  {
   "cell_type": "code",
   "execution_count": 34,
   "metadata": {},
   "outputs": [
    {
     "data": {
      "text/plain": [
       "array([[219.99689288],\n",
       "       [226.23121708],\n",
       "       [216.87867566],\n",
       "       [235.58183789],\n",
       "       [222.58199595],\n",
       "       [235.56044203],\n",
       "       [273.96638938],\n",
       "       [251.4273359 ],\n",
       "       [297.95484011],\n",
       "       [253.17529794]])"
      ]
     },
     "execution_count": 34,
     "metadata": {},
     "output_type": "execute_result"
    }
   ],
   "source": [
    "age_pred_original[:10]"
   ]
  },
  {
   "cell_type": "markdown",
   "metadata": {},
   "source": [
    "### Feature correlation"
   ]
  },
  {
   "cell_type": "code",
   "execution_count": 42,
   "metadata": {},
   "outputs": [],
   "source": [
    "correlation_matrix = x_train_null_removed_from_age.corr()"
   ]
  },
  {
   "cell_type": "code",
   "execution_count": null,
   "metadata": {},
   "outputs": [],
   "source": [
    "sns.set(style=\"white\")\n",
    "plt.figure(figsize=(10, 8))\n",
    "sns.heatmap(correlation_matrix, annot=True, cmap=\"coolwarm\")\n",
    "plt.title(\"Feature Correlation Heatmap\")\n",
    "plt.show()"
   ]
  },
  {
   "cell_type": "code",
   "execution_count": 82,
   "metadata": {},
   "outputs": [],
   "source": [
    "correlation_threshold = 0.67\n",
    "# Find highly correlated features\n",
    "highly_correlated = set()\n",
    "for i in range(len(correlation_matrix.columns)):\n",
    "    for j in range(i):\n",
    "        if abs(correlation_matrix.iloc[i, j]) > correlation_threshold:\n",
    "            colname_i = correlation_matrix.columns[i]\n",
    "            colname_j = correlation_matrix.columns[j]\n",
    "            highly_correlated.add(colname_i)\n",
    "            highly_correlated.add(colname_j)"
   ]
  },
  {
   "cell_type": "code",
   "execution_count": 86,
   "metadata": {},
   "outputs": [
    {
     "data": {
      "text/plain": [
       "{'feature_233', 'feature_36'}"
      ]
     },
     "execution_count": 86,
     "metadata": {},
     "output_type": "execute_result"
    }
   ],
   "source": [
    "highly_correlated"
   ]
  },
  {
   "cell_type": "code",
   "execution_count": 83,
   "metadata": {},
   "outputs": [],
   "source": [
    "# Remove highly correlated features from X_train\n",
    "X_train_correlation = x_train_null_removed_from_age.copy()\n",
    "X_train_filtered = X_train_correlation.drop(columns=highly_correlated)\n",
    "X_valid_filtered = x_valid_null_removed_from_age.copy().drop(columns=highly_correlated)"
   ]
  },
  {
   "cell_type": "code",
   "execution_count": 84,
   "metadata": {},
   "outputs": [],
   "source": [
    "# Create a Linear Regression model\n",
    "regression_model_correlation = LinearRegression()\n",
    "\n",
    "# Train the model on the training data\n",
    "regression_model_correlation.fit(X_train_filtered, age_train_null_removed_values)\n",
    "\n",
    "# Make predictions on the test data\n",
    "y_pred_initial_correlation = regression_model_correlation.predict(X_valid_filtered)"
   ]
  },
  {
   "cell_type": "code",
   "execution_count": 85,
   "metadata": {},
   "outputs": [
    {
     "name": "stdout",
     "output_type": "stream",
     "text": [
      "Root Mean Squared Error for correlation: 4.8794564852379985\n"
     ]
    }
   ],
   "source": [
    "mse_corr= mean_squared_error(age_valid_null_removed_values, y_pred_initial_correlation.reshape(-1, 1))\n",
    "\n",
    "print(\"Root Mean Squared Error for correlation:\", math.sqrt(mse_corr))"
   ]
  },
  {
   "cell_type": "markdown",
   "metadata": {},
   "source": [
    "### Using PCA"
   ]
  },
  {
   "cell_type": "code",
   "execution_count": 102,
   "metadata": {},
   "outputs": [],
   "source": [
    "scaler_pca = StandardScaler()\n",
    "X_train_normalized_pca = scaler_pca.fit_transform(X_train_filtered)\n",
    "X_valid_normalized_pca = scaler_pca.transform(X_valid_filtered)\n",
    "\n",
    "# You can also normalize the target variable \"age\" separately\n",
    "#age_train_null_removed_values = age_train_null_removed.values.reshape(-1, 1)  # Reshape y to a column vector\n",
    "#age_train_normalized = scaler.fit_transform(age_train_null_removed_values)\n",
    "\n",
    "#age_valid_null_removed_values = age_valid_null_removed.values.reshape(-1, 1)  # Reshape y to a column vector\n",
    "#age_valid_normalized = scaler.transform(age_valid_null_removed_values)"
   ]
  },
  {
   "cell_type": "code",
   "execution_count": 103,
   "metadata": {},
   "outputs": [],
   "source": [
    "from sklearn.decomposition import PCA\n",
    "\n",
    "pca = PCA(n_components=100)\n",
    "\n",
    "pca.fit(X_train_normalized_pca)\n",
    "\n",
    "X_train_pca = pca.transform(X_train_normalized_pca)\n",
    "X_valid_pca = pca.transform(X_valid_normalized_pca)\n"
   ]
  },
  {
   "cell_type": "code",
   "execution_count": 92,
   "metadata": {},
   "outputs": [
    {
     "data": {
      "text/plain": [
       "(28040, 100)"
      ]
     },
     "execution_count": 92,
     "metadata": {},
     "output_type": "execute_result"
    }
   ],
   "source": [
    "X_train_pca.shape"
   ]
  },
  {
   "cell_type": "code",
   "execution_count": 104,
   "metadata": {},
   "outputs": [
    {
     "name": "stdout",
     "output_type": "stream",
     "text": [
      "Root Mean Squared Error for correlation: 5.33437125520369\n"
     ]
    }
   ],
   "source": [
    "# Create a Linear Regression model\n",
    "regression_model_pca = LinearRegression()\n",
    "\n",
    "\n",
    "# Train the model on the training data\n",
    "regression_model_pca.fit(X_train_pca, age_train_null_removed_values)\n",
    "\n",
    "# Make predictions on the test data\n",
    "y_pred_initial_pca = regression_model_pca.predict(X_valid_pca)\n",
    "\n",
    "mse_pca = mean_squared_error(age_valid_null_removed_values, y_pred_initial_pca.reshape(-1, 1))\n",
    "\n",
    "print(\"Root Mean Squared Error for correlation:\", math.sqrt(mse_pca))"
   ]
  },
  {
   "cell_type": "code",
   "execution_count": 88,
   "metadata": {},
   "outputs": [
    {
     "name": "stdout",
     "output_type": "stream",
     "text": [
      "Explained Variance Ratios: [0.16065666 0.12074922 0.09290212 0.08556048 0.07747794 0.06062247\n",
      " 0.05763222 0.05327585 0.04801955 0.04686548 0.03985627 0.03711658\n",
      " 0.0353982  0.03391201 0.02752475 0.0224302 ]\n"
     ]
    }
   ],
   "source": [
    "# Print the explained variance ratios of each component\n",
    "explained_variance_ratios = lda.explained_variance_ratio_\n",
    "print(\"Explained Variance Ratios:\", explained_variance_ratios)"
   ]
  },
  {
   "cell_type": "markdown",
   "metadata": {},
   "source": [
    "## For Gender\n",
    "\n",
    "Age is binary classification -> use logistic regression"
   ]
  },
  {
   "cell_type": "code",
   "execution_count": 18,
   "metadata": {},
   "outputs": [
    {
     "data": {
      "text/plain": [
       "<Axes: >"
      ]
     },
     "execution_count": 18,
     "metadata": {},
     "output_type": "execute_result"
    },
    {
     "data": {
      "image/png": "[encoded data removed]",
      "text/plain": [
       "<Figure size 640x480 with 1 Axes>"
      ]
     },
     "metadata": {},
     "output_type": "display_data"
    }
   ],
   "source": [
    "# Get heatmap for null values in age_train\n",
    "sns.heatmap(gender_train.isnull(),yticklabels=False,cbar=False,cmap='viridis')\n",
    "\n",
    "# get the number of zeroes in age valid\n",
    "#age_train[age_train['label_2'].isnull()].shape"
   ]
  }
 ],
 "metadata": {
  "kernelspec": {
   "display_name": "CS4622",
   "language": "python",
   "name": "python3"
  },
  "language_info": {
   "codemirror_mode": {
    "name": "ipython",
    "version": 3
   },
   "file_extension": ".py",
   "mimetype": "text/x-python",
   "name": "python",
   "nbconvert_exporter": "python",
   "pygments_lexer": "ipython3",
   "version": "3.10.12"
  },
  "orig_nbformat": 4
 },
 "nbformat": 4,
 "nbformat_minor": 2
}
