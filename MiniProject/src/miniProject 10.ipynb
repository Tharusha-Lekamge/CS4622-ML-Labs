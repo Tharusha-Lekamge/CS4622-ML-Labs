{
 "cells": [
  {
   "cell_type": "markdown",
   "metadata": {},
   "source": [
    "# Dataset\n"
   ]
  },
  {
   "cell_type": "code",
   "execution_count": 3,
   "metadata": {},
   "outputs": [],
   "source": [
    "# Imports\n",
    "\n",
    "\n",
    "from sklearn.tree import DecisionTreeClassifier\n",
    "from sklearn.linear_model import LinearRegression\n",
    "from sklearn.ensemble import RandomForestClassifier\n",
    "from sklearn.svm import SVC\n",
    "import joblib\n",
    "\n",
    "import math\n",
    "import seaborn as sns\n",
    "import warnings                   # To ignore the warnings\n",
    "import pandas as pd\n",
    "import numpy as np          # For mathematical calculations\n",
    "import matplotlib.pyplot as plt  # For plotting graphs\n",
    "from datetime import datetime    # To access datetime\n",
    "from pandas import Series        # To work on series\n",
    "\n",
    "from sklearn.preprocessing import LabelEncoder\n",
    "from sklearn.preprocessing import StandardScaler\n",
    "from sklearn.preprocessing import RobustScaler\n",
    "from sklearn.metrics import mean_squared_error\n",
    "from sklearn.decomposition import PCA\n",
    "from sklearn.feature_selection import SelectKBest, f_classif\n",
    "\n",
    "from sklearn.metrics import accuracy_score\n",
    "from sklearn.metrics import confusion_matrix\n",
    "from sklearn.metrics import precision_recall_fscore_support\n",
    "\n",
    "from xgboost import XGBClassifier\n",
    "\n",
    "# import RandomizedSearchCV\n",
    "from sklearn.model_selection import RandomizedSearchCV\n",
    "\n",
    "%matplotlib inline\n",
    "warnings.filterwarnings(\"ignore\")\n"
   ]
  },
  {
   "cell_type": "code",
   "execution_count": 4,
   "metadata": {},
   "outputs": [],
   "source": [
    "# Data extraction\n",
    "\n",
    "train_layer_10 = pd.read_csv(\"../data/layer10/train_10.csv\")\n",
    "test_layer_10 = pd.read_csv(\"../data/layer10/test_10.csv\")\n",
    "valid_layer_10 = pd.read_csv(\"../data/layer10/valid_10.csv\")\n"
   ]
  },
  {
   "cell_type": "code",
   "execution_count": 5,
   "metadata": {},
   "outputs": [],
   "source": [
    "# Extracting x and y\n",
    "\n",
    "x_train = train_layer_10.copy().drop(\n",
    "    columns=[\"label_1\", \"label_2\", \"label_3\", \"label_4\"]\n",
    ")\n",
    "x_valid = valid_layer_10.copy().drop(\n",
    "    columns=[\"label_1\", \"label_2\", \"label_3\", \"label_4\"]\n",
    ")\n",
    "x_feature_names = [\"feature_\" + str(i) for i in range(1, 769)]\n",
    "\n",
    "id_train = train_layer_10[\"label_1\"].to_frame()\n",
    "age_train = train_layer_10[\"label_2\"].to_frame()  # id has NaN\n",
    "gender_train = train_layer_10[\"label_3\"].to_frame()\n",
    "accent_train = train_layer_10[\"label_4\"].to_frame()  # Accent has bias to 6\n",
    "\n",
    "id_valid = valid_layer_10[\"label_1\"].to_frame()\n",
    "age_valid = valid_layer_10[\"label_2\"].to_frame()\n",
    "gender_valid = valid_layer_10[\"label_3\"].to_frame()\n",
    "accent_valid = valid_layer_10[\"label_4\"].to_frame()\n"
   ]
  },
  {
   "cell_type": "code",
   "execution_count": 6,
   "metadata": {},
   "outputs": [],
   "source": [
    "# Scaling using RobustScaler\n",
    "scaler_robust = RobustScaler()\n",
    "scaler_robust.fit(x_train)\n",
    "\n",
    "x_train_scaled = pd.DataFrame(\n",
    "    scaler_robust.transform(x_train), columns=x_feature_names)\n",
    "x_valid_scaled = pd.DataFrame(\n",
    "    scaler_robust.transform(x_valid), columns=x_feature_names)\n",
    "\n",
    "x_test = test_layer_10.copy().drop(\n",
    "    columns=[\"ID\"]\n",
    ")\n",
    "x_test_scaled = pd.DataFrame(\n",
    "    scaler_robust.transform(x_test), columns=x_feature_names)\n"
   ]
  },
  {
   "cell_type": "markdown",
   "metadata": {},
   "source": [
    "### Support Functions\n"
   ]
  },
  {
   "cell_type": "code",
   "execution_count": 7,
   "metadata": {},
   "outputs": [],
   "source": [
    "def validate_model(model, x_valid, y_valid):\n",
    "    y_pred = model.predict(x_valid)\n",
    "    accuracy = accuracy_score(y_valid, y_pred)\n",
    "    print(\"Accuracy: \", accuracy)\n",
    "    cm = confusion_matrix(y_valid, y_pred)\n",
    "    print(\"Confusion matrix: \")\n",
    "    print(cm)\n",
    "    print(\"Precision, recall, f1-score: \")\n",
    "    prfs_ = precision_recall_fscore_support(\n",
    "        y_valid, y_pred, average=\"weighted\")\n",
    "    return prfs_, cm\n"
   ]
  },
  {
   "cell_type": "code",
   "execution_count": 8,
   "metadata": {},
   "outputs": [],
   "source": [
    "def do_pca(train, valid, variance: float = None, n_components: int = None):\n",
    "    pca_obj = PCA(n_components=0.95, svd_solver=\"full\")\n",
    "    if variance:\n",
    "        pca_obj = PCA(n_components=variance, svd_solver=\"full\")\n",
    "    elif n_components:\n",
    "        pca_obj = PCA(n_components=n_components)\n",
    "    pca_obj.fit(train)\n",
    "    n_components = pca_obj.components_.shape[0]\n",
    "\n",
    "    x_train = pd.DataFrame(\n",
    "        pca_obj.transform(train),\n",
    "        columns=[\"feature_pca_\" + str(i) for i in range(1, n_components + 1)],\n",
    "    )\n",
    "    x_valid = pd.DataFrame(\n",
    "        pca_obj.transform(valid),\n",
    "        columns=[\"feature_pca_\" + str(i) for i in range(1, n_components + 1)],\n",
    "    )\n",
    "\n",
    "    return x_train, x_valid, n_components, pca_obj\n"
   ]
  },
  {
   "cell_type": "code",
   "execution_count": 9,
   "metadata": {},
   "outputs": [],
   "source": [
    "def fit_and_score(classifier_models, x_train, x_valid, y_train, y_valid):\n",
    "    \"\"\"\n",
    "    Fits and evaluates given classifier models.\n",
    "    classifier_models : a dict of different Scikit-Learn classifier models\n",
    "    x_train : training data (no labels)\n",
    "    x_valid : validation data (no labels)\n",
    "    y_train : training labels\n",
    "    y_valid : validation labels\n",
    "    \"\"\"\n",
    "    # Set random seed\n",
    "    np.random.seed(42)\n",
    "    # Make a dictionary to keep model scores\n",
    "    classifier_model_scores = {}\n",
    "    # Loop through classifier_models\n",
    "    for name, model in classifier_models.items():\n",
    "        print(f\"Fitting {name}...\")\n",
    "        # Fit the model to the data\n",
    "        model.fit(x_train, y_train)\n",
    "        # Evaluate the model and append its score to classifier_model_scores\n",
    "        classifier_model_scores[name] = model.score(x_valid, y_valid)\n",
    "        print(\"Done fitting and scoring model.\")\n",
    "    return classifier_model_scores\n"
   ]
  },
  {
   "cell_type": "code",
   "execution_count": 10,
   "metadata": {},
   "outputs": [],
   "source": [
    "def tune_hyperparameters(classifier_models, grid, x_train, x_valid, y_train, y_valid):\n",
    "    \"\"\"\n",
    "    Fits and evaluates given classifier models.\n",
    "    classifier_models : a dict of different Scikit-Learn classifier models\n",
    "    grid : a dict of hyperparameters to tune\n",
    "    x_train : training data (no labels)\n",
    "    x_valid : validation data (no labels)\n",
    "    y_train : training labels\n",
    "    y_valid : validation labels\n",
    "    \"\"\"\n",
    "    # Set random seed\n",
    "    np.random.seed(42)\n",
    "    # Make a dictionary to keep model scores\n",
    "    classifier_model_scores = {}\n",
    "    trained_searches = {}\n",
    "    # Loop through classifier_models\n",
    "    for name, model in classifier_models.items():\n",
    "        # Setup random hyperparameter search for model\n",
    "        rs_model = RandomizedSearchCV(\n",
    "            estimator=model,\n",
    "            param_distributions=grid,\n",
    "            n_iter=20,\n",
    "            cv=5,\n",
    "            verbose=3,\n",
    "            random_state=42,\n",
    "            n_jobs=-1,\n",
    "        )\n",
    "        # Fit random hyperparameter search model\n",
    "        fileName = name + \"_rs_model\" + \".pkl\"\n",
    "        rs_model.fit(x_train, y_train)\n",
    "        # Export rs_model using joblib\n",
    "        joblib.dump(rs_model, fileName)\n",
    "        trained_searches[name] = rs_model\n",
    "\n",
    "        # Evaluate the model and append its score to classifier_model_scores\n",
    "        classifier_model_scores[name] = rs_model.score(x_valid, y_valid)\n",
    "        print(\"classifier model scores\", classifier_model_scores)\n",
    "    return trained_searches\n"
   ]
  },
  {
   "cell_type": "code",
   "execution_count": 11,
   "metadata": {},
   "outputs": [],
   "source": [
    "def write_test_pred_to_csv(model, x_test, csv_name=\"test_pred.csv\"):\n",
    "    y_pred = model.predict(x_test)\n",
    "    y_pred = pd.DataFrame(y_pred, columns=[\"label\"])\n",
    "    y_pred.to_csv(csv_name, index=False)\n"
   ]
  },
  {
   "cell_type": "code",
   "execution_count": 12,
   "metadata": {},
   "outputs": [],
   "source": [
    "def find_min_pca_components(\n",
    "    x_train, x_valid, y_train, y_valid, threshold: float = 0.90\n",
    "):\n",
    "    # Find min number of components for 90% accuracy\n",
    "    score = 1\n",
    "\n",
    "    while score > threshold:\n",
    "        x_train, x_valid, id_n_components, id_pca_cat = do_pca(\n",
    "            x_train, x_valid, variance=0.95\n",
    "        )\n",
    "\n",
    "        print(\"Number of components: \", id_n_components)\n",
    "\n",
    "        id_final = SVC()\n",
    "        id_final.fit(x_train, y_train)\n",
    "\n",
    "        precision_recall_fscore_svc_final, cm_final = validate_model(\n",
    "            id_final, x_valid, y_valid\n",
    "        )\n",
    "\n",
    "        print(\"Precision, Recall and F1 Score:\",\n",
    "              precision_recall_fscore_svc_final)\n",
    "\n",
    "        y_pred = id_final.predict(x_valid)\n",
    "        score = accuracy_score(y_valid, y_pred)\n",
    "        print(\"Accuracy: \", score)\n",
    "\n",
    "    print(\"Final number of components: \", id_n_components)\n",
    "    print(\"Final Precision, Recall and F1 Score:\",\n",
    "          precision_recall_fscore_svc_final)\n",
    "    return id_n_components, id_pca_cat\n"
   ]
  },
  {
   "cell_type": "markdown",
   "metadata": {},
   "source": [
    "# Label 1\n"
   ]
  },
  {
   "cell_type": "markdown",
   "metadata": {},
   "source": [
    "use {'kernel': 'rbf', 'gamma': 0.001, 'degree': 5, 'C': 10}"
   ]
  },
  {
   "cell_type": "code",
   "execution_count": 11,
   "metadata": {},
   "outputs": [],
   "source": [
    "# Initial Data\n",
    "id_data_train_cat = pd.concat([x_train_scaled, id_train], axis=1)\n",
    "id_data_valid_cat = pd.concat([x_valid_scaled, id_valid], axis=1)\n",
    "\n",
    "# Remove rows with null values\n",
    "id_data_cleaned_train_cat = id_data_train_cat.dropna()\n",
    "id_data_cleaned_valid_cat = id_data_valid_cat.dropna()\n",
    "\n",
    "# Separate X and y again\n",
    "id_x_train_cat = id_data_cleaned_train_cat.drop(columns=[\"label_1\"])\n",
    "id_y_train_cat = id_data_cleaned_train_cat[\"label_1\"]\n",
    "id_x_valid_cat = id_data_cleaned_valid_cat.drop(columns=[\"label_1\"])\n",
    "id_y_valid_cat = id_data_cleaned_valid_cat[\"label_1\"].to_frame()\n",
    "\n",
    "id_x_test_cat = x_test_scaled\n"
   ]
  },
  {
   "cell_type": "markdown",
   "metadata": {},
   "source": [
    "### Initial Model SVC\n"
   ]
  },
  {
   "cell_type": "code",
   "execution_count": 12,
   "metadata": {},
   "outputs": [
    {
     "data": {
      "text/html": [
       "<style>#sk-container-id-1 {color: black;}#sk-container-id-1 pre{padding: 0;}#sk-container-id-1 div.sk-toggleable {background-color: white;}#sk-container-id-1 label.sk-toggleable__label {cursor: pointer;display: block;width: 100%;margin-bottom: 0;padding: 0.3em;box-sizing: border-box;text-align: center;}#sk-container-id-1 label.sk-toggleable__label-arrow:before {content: \"▸\";float: left;margin-right: 0.25em;color: #696969;}#sk-container-id-1 label.sk-toggleable__label-arrow:hover:before {color: black;}#sk-container-id-1 div.sk-estimator:hover label.sk-toggleable__label-arrow:before {color: black;}#sk-container-id-1 div.sk-toggleable__content {max-height: 0;max-width: 0;overflow: hidden;text-align: left;background-color: #f0f8ff;}#sk-container-id-1 div.sk-toggleable__content pre {margin: 0.2em;color: black;border-radius: 0.25em;background-color: #f0f8ff;}#sk-container-id-1 input.sk-toggleable__control:checked~div.sk-toggleable__content {max-height: 200px;max-width: 100%;overflow: auto;}#sk-container-id-1 input.sk-toggleable__control:checked~label.sk-toggleable__label-arrow:before {content: \"▾\";}#sk-container-id-1 div.sk-estimator input.sk-toggleable__control:checked~label.sk-toggleable__label {background-color: #d4ebff;}#sk-container-id-1 div.sk-label input.sk-toggleable__control:checked~label.sk-toggleable__label {background-color: #d4ebff;}#sk-container-id-1 input.sk-hidden--visually {border: 0;clip: rect(1px 1px 1px 1px);clip: rect(1px, 1px, 1px, 1px);height: 1px;margin: -1px;overflow: hidden;padding: 0;position: absolute;width: 1px;}#sk-container-id-1 div.sk-estimator {font-family: monospace;background-color: #f0f8ff;border: 1px dotted black;border-radius: 0.25em;box-sizing: border-box;margin-bottom: 0.5em;}#sk-container-id-1 div.sk-estimator:hover {background-color: #d4ebff;}#sk-container-id-1 div.sk-parallel-item::after {content: \"\";width: 100%;border-bottom: 1px solid gray;flex-grow: 1;}#sk-container-id-1 div.sk-label:hover label.sk-toggleable__label {background-color: #d4ebff;}#sk-container-id-1 div.sk-serial::before {content: \"\";position: absolute;border-left: 1px solid gray;box-sizing: border-box;top: 0;bottom: 0;left: 50%;z-index: 0;}#sk-container-id-1 div.sk-serial {display: flex;flex-direction: column;align-items: center;background-color: white;padding-right: 0.2em;padding-left: 0.2em;position: relative;}#sk-container-id-1 div.sk-item {position: relative;z-index: 1;}#sk-container-id-1 div.sk-parallel {display: flex;align-items: stretch;justify-content: center;background-color: white;position: relative;}#sk-container-id-1 div.sk-item::before, #sk-container-id-1 div.sk-parallel-item::before {content: \"\";position: absolute;border-left: 1px solid gray;box-sizing: border-box;top: 0;bottom: 0;left: 50%;z-index: -1;}#sk-container-id-1 div.sk-parallel-item {display: flex;flex-direction: column;z-index: 1;position: relative;background-color: white;}#sk-container-id-1 div.sk-parallel-item:first-child::after {align-self: flex-end;width: 50%;}#sk-container-id-1 div.sk-parallel-item:last-child::after {align-self: flex-start;width: 50%;}#sk-container-id-1 div.sk-parallel-item:only-child::after {width: 0;}#sk-container-id-1 div.sk-dashed-wrapped {border: 1px dashed gray;margin: 0 0.4em 0.5em 0.4em;box-sizing: border-box;padding-bottom: 0.4em;background-color: white;}#sk-container-id-1 div.sk-label label {font-family: monospace;font-weight: bold;display: inline-block;line-height: 1.2em;}#sk-container-id-1 div.sk-label-container {text-align: center;}#sk-container-id-1 div.sk-container {/* jupyter's `normalize.less` sets `[hidden] { display: none; }` but bootstrap.min.css set `[hidden] { display: none !important; }` so we also need the `!important` here to be able to override the default hidden behavior on the sphinx rendered scikit-learn.org. See: https://github.com/scikit-learn/scikit-learn/issues/21755 */display: inline-block !important;position: relative;}#sk-container-id-1 div.sk-text-repr-fallback {display: none;}</style><div id=\"sk-container-id-1\" class=\"sk-top-container\"><div class=\"sk-text-repr-fallback\"><pre>SVC(C=20)</pre><b>In a Jupyter environment, please rerun this cell to show the HTML representation or trust the notebook. <br />On GitHub, the HTML representation is unable to render, please try loading this page with nbviewer.org.</b></div><div class=\"sk-container\" hidden><div class=\"sk-item\"><div class=\"sk-estimator sk-toggleable\"><input class=\"sk-toggleable__control sk-hidden--visually\" id=\"sk-estimator-id-1\" type=\"checkbox\" checked><label for=\"sk-estimator-id-1\" class=\"sk-toggleable__label sk-toggleable__label-arrow\">SVC</label><div class=\"sk-toggleable__content\"><pre>SVC(C=20)</pre></div></div></div></div></div>"
      ],
      "text/plain": [
       "SVC(C=20)"
      ]
     },
     "execution_count": 12,
     "metadata": {},
     "output_type": "execute_result"
    }
   ],
   "source": [
    "id_initial = SVC(kernel=\"rbf\", C=20, gamma=\"scale\")\n",
    "id_initial.fit(id_x_train_cat, id_y_train_cat)\n"
   ]
  },
  {
   "cell_type": "code",
   "execution_count": 13,
   "metadata": {},
   "outputs": [
    {
     "name": "stdout",
     "output_type": "stream",
     "text": [
      "Accuracy:  0.968\n",
      "Confusion matrix: \n",
      "[[12  0  0 ...  0  0  0]\n",
      " [ 0  9  0 ...  0  0  0]\n",
      " [ 0  0 12 ...  0  0  0]\n",
      " ...\n",
      " [ 0  0  0 ... 20  0  0]\n",
      " [ 0  0  0 ...  0 10  0]\n",
      " [ 0  0  0 ...  0  0 10]]\n",
      "Precision, recall, f1-score: \n",
      "Precision, Recall and F1 Score: (0.9710426720052107, 0.968, 0.9681729568549567, None)\n"
     ]
    }
   ],
   "source": [
    "precision_recall_fscore_svc_initial, cm_initial = validate_model(\n",
    "    id_initial, id_x_valid_cat, id_y_valid_cat\n",
    ")\n",
    "\n",
    "print(\"Precision, Recall and F1 Score:\", precision_recall_fscore_svc_initial)\n",
    "# Accuracy:  0.9573333333333334 ->\n"
   ]
  },
  {
   "cell_type": "code",
   "execution_count": 14,
   "metadata": {},
   "outputs": [],
   "source": [
    "id_initial_test_preds = id_initial.predict(id_x_test_cat)\n",
    "pd.DataFrame(id_initial_test_preds, columns=[\"label_1\"]).to_csv(\n",
    "    \"id_initial_test_preds.csv\")\n"
   ]
  },
  {
   "cell_type": "code",
   "execution_count": 1,
   "metadata": {},
   "outputs": [
    {
     "name": "stdout",
     "output_type": "stream",
     "text": [
      "Function Initialised\n"
     ]
    }
   ],
   "source": [
    "from tuner10 import get_pca_model\n",
    "%load_ext autoreload\n",
    "%autoreload 2\n"
   ]
  },
  {
   "cell_type": "code",
   "execution_count": 13,
   "metadata": {},
   "outputs": [
    {
     "name": "stdout",
     "output_type": "stream",
     "text": [
      "Final Accuracy:  0.968\n"
     ]
    }
   ],
   "source": [
    "model_params = {\n",
    "    \"C\": 30,\n",
    "    \"gamma\": \"scale\",\n",
    "    \"kernel\": \"rbf\",\n",
    "}\n",
    "\n",
    "id_pca_model, id_pca_score, id_pca_obj = get_pca_model(\n",
    "    \"id\", model_params, 0.99)\n"
   ]
  },
  {
   "cell_type": "markdown",
   "metadata": {},
   "source": [
    "### Data Processing - PCA\n"
   ]
  },
  {
   "cell_type": "code",
   "execution_count": 17,
   "metadata": {},
   "outputs": [],
   "source": [
    "id_x_train_pca, id_x_valid_pca, id_n_components, id_pca_cat = do_pca(\n",
    "    id_x_train_cat, id_x_valid_cat, n_components=70\n",
    ")\n",
    "id_x_test_pca = pd.DataFrame(\n",
    "    id_pca_cat.transform(id_x_test_cat),\n",
    "    columns=[\"feature_pca_\" + str(i) for i in range(1, id_n_components + 1)],\n",
    ")\n"
   ]
  },
  {
   "cell_type": "code",
   "execution_count": 78,
   "metadata": {},
   "outputs": [
    {
     "name": "stdout",
     "output_type": "stream",
     "text": [
      "Number of components:  9\n"
     ]
    }
   ],
   "source": [
    "print(\"Number of components: \", id_n_components)\n"
   ]
  },
  {
   "cell_type": "markdown",
   "metadata": {},
   "source": [
    "### Final Model SVC\n"
   ]
  },
  {
   "cell_type": "code",
   "execution_count": 20,
   "metadata": {},
   "outputs": [
    {
     "data": {
      "text/html": [
       "<style>#sk-container-id-1 {color: black;}#sk-container-id-1 pre{padding: 0;}#sk-container-id-1 div.sk-toggleable {background-color: white;}#sk-container-id-1 label.sk-toggleable__label {cursor: pointer;display: block;width: 100%;margin-bottom: 0;padding: 0.3em;box-sizing: border-box;text-align: center;}#sk-container-id-1 label.sk-toggleable__label-arrow:before {content: \"▸\";float: left;margin-right: 0.25em;color: #696969;}#sk-container-id-1 label.sk-toggleable__label-arrow:hover:before {color: black;}#sk-container-id-1 div.sk-estimator:hover label.sk-toggleable__label-arrow:before {color: black;}#sk-container-id-1 div.sk-toggleable__content {max-height: 0;max-width: 0;overflow: hidden;text-align: left;background-color: #f0f8ff;}#sk-container-id-1 div.sk-toggleable__content pre {margin: 0.2em;color: black;border-radius: 0.25em;background-color: #f0f8ff;}#sk-container-id-1 input.sk-toggleable__control:checked~div.sk-toggleable__content {max-height: 200px;max-width: 100%;overflow: auto;}#sk-container-id-1 input.sk-toggleable__control:checked~label.sk-toggleable__label-arrow:before {content: \"▾\";}#sk-container-id-1 div.sk-estimator input.sk-toggleable__control:checked~label.sk-toggleable__label {background-color: #d4ebff;}#sk-container-id-1 div.sk-label input.sk-toggleable__control:checked~label.sk-toggleable__label {background-color: #d4ebff;}#sk-container-id-1 input.sk-hidden--visually {border: 0;clip: rect(1px 1px 1px 1px);clip: rect(1px, 1px, 1px, 1px);height: 1px;margin: -1px;overflow: hidden;padding: 0;position: absolute;width: 1px;}#sk-container-id-1 div.sk-estimator {font-family: monospace;background-color: #f0f8ff;border: 1px dotted black;border-radius: 0.25em;box-sizing: border-box;margin-bottom: 0.5em;}#sk-container-id-1 div.sk-estimator:hover {background-color: #d4ebff;}#sk-container-id-1 div.sk-parallel-item::after {content: \"\";width: 100%;border-bottom: 1px solid gray;flex-grow: 1;}#sk-container-id-1 div.sk-label:hover label.sk-toggleable__label {background-color: #d4ebff;}#sk-container-id-1 div.sk-serial::before {content: \"\";position: absolute;border-left: 1px solid gray;box-sizing: border-box;top: 0;bottom: 0;left: 50%;z-index: 0;}#sk-container-id-1 div.sk-serial {display: flex;flex-direction: column;align-items: center;background-color: white;padding-right: 0.2em;padding-left: 0.2em;position: relative;}#sk-container-id-1 div.sk-item {position: relative;z-index: 1;}#sk-container-id-1 div.sk-parallel {display: flex;align-items: stretch;justify-content: center;background-color: white;position: relative;}#sk-container-id-1 div.sk-item::before, #sk-container-id-1 div.sk-parallel-item::before {content: \"\";position: absolute;border-left: 1px solid gray;box-sizing: border-box;top: 0;bottom: 0;left: 50%;z-index: -1;}#sk-container-id-1 div.sk-parallel-item {display: flex;flex-direction: column;z-index: 1;position: relative;background-color: white;}#sk-container-id-1 div.sk-parallel-item:first-child::after {align-self: flex-end;width: 50%;}#sk-container-id-1 div.sk-parallel-item:last-child::after {align-self: flex-start;width: 50%;}#sk-container-id-1 div.sk-parallel-item:only-child::after {width: 0;}#sk-container-id-1 div.sk-dashed-wrapped {border: 1px dashed gray;margin: 0 0.4em 0.5em 0.4em;box-sizing: border-box;padding-bottom: 0.4em;background-color: white;}#sk-container-id-1 div.sk-label label {font-family: monospace;font-weight: bold;display: inline-block;line-height: 1.2em;}#sk-container-id-1 div.sk-label-container {text-align: center;}#sk-container-id-1 div.sk-container {/* jupyter's `normalize.less` sets `[hidden] { display: none; }` but bootstrap.min.css set `[hidden] { display: none !important; }` so we also need the `!important` here to be able to override the default hidden behavior on the sphinx rendered scikit-learn.org. See: https://github.com/scikit-learn/scikit-learn/issues/21755 */display: inline-block !important;position: relative;}#sk-container-id-1 div.sk-text-repr-fallback {display: none;}</style><div id=\"sk-container-id-1\" class=\"sk-top-container\"><div class=\"sk-text-repr-fallback\"><pre>SVC(C=10, degree=5, gamma=0.001)</pre><b>In a Jupyter environment, please rerun this cell to show the HTML representation or trust the notebook. <br />On GitHub, the HTML representation is unable to render, please try loading this page with nbviewer.org.</b></div><div class=\"sk-container\" hidden><div class=\"sk-item\"><div class=\"sk-estimator sk-toggleable\"><input class=\"sk-toggleable__control sk-hidden--visually\" id=\"sk-estimator-id-1\" type=\"checkbox\" checked><label for=\"sk-estimator-id-1\" class=\"sk-toggleable__label sk-toggleable__label-arrow\">SVC</label><div class=\"sk-toggleable__content\"><pre>SVC(C=10, degree=5, gamma=0.001)</pre></div></div></div></div></div>"
      ],
      "text/plain": [
       "SVC(C=10, degree=5, gamma=0.001)"
      ]
     },
     "execution_count": 20,
     "metadata": {},
     "output_type": "execute_result"
    }
   ],
   "source": [
    "id_final = SVC(kernel=\"rbf\", C=10, gamma=0.001, degree=5)\n",
    "id_final.fit(id_x_train_pca, id_y_train_cat)\n"
   ]
  },
  {
   "cell_type": "code",
   "execution_count": 21,
   "metadata": {},
   "outputs": [
    {
     "name": "stdout",
     "output_type": "stream",
     "text": [
      "Accuracy:  0.9266666666666666\n",
      "Confusion matrix: \n",
      "[[11  0  0 ...  0  0  0]\n",
      " [ 0  8  0 ...  0  0  0]\n",
      " [ 0  0 12 ...  0  0  0]\n",
      " ...\n",
      " [ 0  0  0 ... 20  0  0]\n",
      " [ 0  0  0 ...  0 10  0]\n",
      " [ 0  0  0 ...  0  0 10]]\n",
      "Precision, recall, f1-score: \n",
      "Precision, Recall and F1 Score: (0.9329381666264019, 0.9266666666666666, 0.9273365017324677, None)\n"
     ]
    }
   ],
   "source": [
    "precision_recall_fscore_svc_final, cm_final = validate_model(\n",
    "    id_final, id_x_valid_pca, id_y_valid_cat\n",
    ")\n",
    "\n",
    "print(\"Precision, Recall and F1 Score:\", precision_recall_fscore_svc_final)\n"
   ]
  },
  {
   "cell_type": "code",
   "execution_count": null,
   "metadata": {},
   "outputs": [],
   "source": [
    "# Find min number of components for 90% accuracy\n",
    "score = 1\n",
    "\n",
    "id_x_train_pca = id_x_train_cat\n",
    "id_x_valid_pca = id_x_valid_cat\n",
    "\n",
    "while score > 0.90:\n",
    "    id_x_train_pca, id_x_valid_pca, id_n_components, id_pca_cat = do_pca(\n",
    "        id_x_train_pca, id_x_valid_pca, variance=0.95\n",
    "    )\n",
    "\n",
    "    print(\"Number of components: \", id_n_components)\n",
    "\n",
    "    id_final = SVC()\n",
    "    id_final.fit(id_x_train_pca, id_y_train_cat)\n",
    "\n",
    "    precision_recall_fscore_svc_final, cm_final = validate_model(\n",
    "        id_final, id_x_valid_pca, id_y_valid_cat\n",
    "    )\n",
    "\n",
    "    print(\"Precision, Recall and F1 Score:\", precision_recall_fscore_svc_final)\n",
    "\n",
    "    y_pred = id_final.predict(id_x_valid_pca)\n",
    "    score = accuracy_score(id_y_valid_cat, y_pred)\n",
    "    print(\"Accuracy: \", score)\n",
    "\n",
    "print(\"Final number of components: \", id_n_components)\n",
    "print(\"Final Precision, Recall and F1 Score:\",\n",
    "      precision_recall_fscore_svc_final)\n"
   ]
  },
  {
   "cell_type": "code",
   "execution_count": 49,
   "metadata": {},
   "outputs": [
    {
     "name": "stdout",
     "output_type": "stream",
     "text": [
      "Function Initialised\n",
      "The autoreload extension is already loaded. To reload it, use:\n",
      "  %reload_ext autoreload\n"
     ]
    }
   ],
   "source": [
    "from tuner import tune_hyperparameters_svc\n",
    "%load_ext autoreload\n",
    "%autoreload 2\n"
   ]
  },
  {
   "cell_type": "code",
   "execution_count": 50,
   "metadata": {},
   "outputs": [
    {
     "name": "stdout",
     "output_type": "stream",
     "text": [
      "Fitting 5 folds for each of 5 candidates, totalling 25 fits\n"
     ]
    }
   ],
   "source": [
    "# FUNCTION TUNER\n",
    "id_grid = {\n",
    "    \"C\": [18, 20, 30, 40, 50],\n",
    "    \"gamma\": [\"scale\"],\n",
    "    \"kernel\": [\"rbf\"],\n",
    "}\n",
    "final_accuracy, final_model, pca_obj = tune_hyperparameters_svc(\"id\", id_grid)\n"
   ]
  },
  {
   "cell_type": "code",
   "execution_count": 55,
   "metadata": {},
   "outputs": [
    {
     "data": {
      "text/plain": [
       "{'kernel': 'rbf', 'gamma': 'scale', 'C': 30}"
      ]
     },
     "execution_count": 55,
     "metadata": {},
     "output_type": "execute_result"
    }
   ],
   "source": [
    "final_model.best_params_\n"
   ]
  },
  {
   "cell_type": "code",
   "execution_count": 56,
   "metadata": {},
   "outputs": [
    {
     "name": "stdout",
     "output_type": "stream",
     "text": [
      "Accuracy:  0.9626666666666667\n",
      "Confusion matrix: \n",
      "[[12  0  0 ...  0  0  0]\n",
      " [ 0  9  0 ...  0  0  0]\n",
      " [ 0  0 12 ...  0  0  0]\n",
      " ...\n",
      " [ 0  0  0 ... 20  0  0]\n",
      " [ 0  0  0 ...  0 10  0]\n",
      " [ 0  0  0 ...  0  0 10]]\n",
      "Precision, recall, f1-score: \n"
     ]
    }
   ],
   "source": [
    "final_final_model = SVC(**final_model.best_params_)\n",
    "final_final_model.fit(id_x_train_cat, id_y_train_cat)\n",
    "\n",
    "precision_recall_fscore_svc_final_final, cm_final_final = validate_model(\n",
    "    final_final_model, id_x_valid_cat, id_y_valid_cat\n",
    ")\n"
   ]
  },
  {
   "cell_type": "code",
   "execution_count": 51,
   "metadata": {},
   "outputs": [
    {
     "name": "stdout",
     "output_type": "stream",
     "text": [
      "Accuracy:  0.912\n",
      "Confusion matrix: \n",
      "[[11  0  0 ...  0  0  0]\n",
      " [ 0  9  0 ...  0  0  0]\n",
      " [ 0  0 11 ...  0  0  0]\n",
      " ...\n",
      " [ 0  0  0 ... 20  0  0]\n",
      " [ 0  0  0 ...  0 10  0]\n",
      " [ 0  0  0 ...  0  0 10]]\n",
      "Precision, recall, f1-score: \n",
      "Precision, Recall and F1 Score: (0.9170892152853453, 0.912, 0.9122559054597893, None)\n"
     ]
    }
   ],
   "source": [
    "precision_recall_fscore_svc_final, cm_final = validate_model(\n",
    "    final_model.best_estimator_, id_x_valid_pca, id_y_valid_cat\n",
    ")\n",
    "\n",
    "print(\"Precision, Recall and F1 Score:\", precision_recall_fscore_svc_final)\n"
   ]
  },
  {
   "cell_type": "code",
   "execution_count": 37,
   "metadata": {},
   "outputs": [
    {
     "name": "stdout",
     "output_type": "stream",
     "text": [
      "Fitting 5 folds for each of 20 candidates, totalling 100 fits\n",
      "classifier model scores {'id_SVC': 0.932}\n",
      "Accuracy:  0.932\n",
      "Confusion matrix: \n",
      "[[12  0  0 ...  0  0  0]\n",
      " [ 0  8  0 ...  0  0  0]\n",
      " [ 0  0 11 ...  0  0  0]\n",
      " ...\n",
      " [ 0  0  0 ... 20  0  0]\n",
      " [ 0  0  0 ...  0 10  0]\n",
      " [ 0  0  0 ...  0  0 10]]\n",
      "Precision, recall, f1-score: \n",
      "{'kernel': 'rbf', 'gamma': 'scale', 'C': 20}\n"
     ]
    },
    {
     "ename": "NameError",
     "evalue": "name 'id_x_test_pca_85' is not defined",
     "output_type": "error",
     "traceback": [
      "\u001b[1;31m---------------------------------------------------------------------------\u001b[0m",
      "\u001b[1;31mNameError\u001b[0m                                 Traceback (most recent call last)",
      "\u001b[1;32md:\\repos\\CS4622-ML-Labs\\MiniProject\\src\\miniProject.ipynb Cell 29\u001b[0m line \u001b[0;36m2\n\u001b[0;32m     <a href='vscode-notebook-cell:/d%3A/repos/CS4622-ML-Labs/MiniProject/src/miniProject.ipynb#X35sZmlsZQ%3D%3D?line=21'>22</a>\u001b[0m id_precision_recall_fscore_svc_final, id_cm_final \u001b[39m=\u001b[39m validate_model(id_rs_model[\u001b[39m\"\u001b[39m\u001b[39mid_SVC\u001b[39m\u001b[39m\"\u001b[39m]\u001b[39m.\u001b[39mbest_estimator_, id_x_valid_pca, id_y_valid_cat)\n\u001b[0;32m     <a href='vscode-notebook-cell:/d%3A/repos/CS4622-ML-Labs/MiniProject/src/miniProject.ipynb#X35sZmlsZQ%3D%3D?line=23'>24</a>\u001b[0m \u001b[39mprint\u001b[39m(id_rs_model[\u001b[39m\"\u001b[39m\u001b[39mid_SVC\u001b[39m\u001b[39m\"\u001b[39m]\u001b[39m.\u001b[39mbest_params_)\n\u001b[1;32m---> <a href='vscode-notebook-cell:/d%3A/repos/CS4622-ML-Labs/MiniProject/src/miniProject.ipynb#X35sZmlsZQ%3D%3D?line=25'>26</a>\u001b[0m id_label_1_final_preds \u001b[39m=\u001b[39m id_rs_model[\u001b[39m\"\u001b[39m\u001b[39mid_SVC\u001b[39m\u001b[39m\"\u001b[39m]\u001b[39m.\u001b[39mbest_estimator_\u001b[39m.\u001b[39mpredict(id_x_test_pca_85)\n\u001b[0;32m     <a href='vscode-notebook-cell:/d%3A/repos/CS4622-ML-Labs/MiniProject/src/miniProject.ipynb#X35sZmlsZQ%3D%3D?line=26'>27</a>\u001b[0m pd\u001b[39m.\u001b[39mDataFrame(id_label_1_final_preds, columns\u001b[39m=\u001b[39m[\u001b[39m\"\u001b[39m\u001b[39mlabel_1\u001b[39m\u001b[39m\"\u001b[39m])\u001b[39m.\u001b[39mto_csv(\u001b[39m\"\u001b[39m\u001b[39mid_label_1_final_preds.csv\u001b[39m\u001b[39m\"\u001b[39m)\n",
      "\u001b[1;31mNameError\u001b[0m: name 'id_x_test_pca_85' is not defined"
     ]
    }
   ],
   "source": [
    "# hyperparameter tuning for svc\n",
    "id_final_models = {\n",
    "    \"id_SVC\": SVC(),\n",
    "}\n",
    "\n",
    "id_grid = {\n",
    "    \"C\": [18, 20, 30, 40, 50],\n",
    "    \"gamma\": [\"scale\"],\n",
    "    \"kernel\": [\"rbf\"],\n",
    "}\n",
    "\n",
    "\n",
    "id_rs_model = tune_hyperparameters(\n",
    "    id_final_models,\n",
    "    id_grid,\n",
    "    id_x_train_pca,\n",
    "    id_x_valid_pca,\n",
    "    id_y_train_cat,\n",
    "    id_y_valid_cat,\n",
    ")\n",
    "\n",
    "id_precision_recall_fscore_svc_final, id_cm_final = validate_model(\n",
    "    id_rs_model[\"id_SVC\"].best_estimator_, id_x_valid_pca, id_y_valid_cat)\n",
    "\n",
    "print(id_rs_model[\"id_SVC\"].best_params_)\n",
    "\n",
    "id_label_1_final_preds = id_rs_model[\"id_SVC\"].best_estimator_.predict(\n",
    "    id_x_test_pca_85)\n",
    "pd.DataFrame(id_label_1_final_preds, columns=[\"label_1\"]).to_csv(\n",
    "    \"id_label_1_final_preds.csv\")\n"
   ]
  },
  {
   "cell_type": "code",
   "execution_count": null,
   "metadata": {},
   "outputs": [],
   "source": [
    "id_initial_test_preds = id_rs_model[\"id_SVC\"].predict(id_x_test_cat)\n",
    "pd.DataFrame(id_initial_test_preds, columns=[\"label_1\"]).to_csv(\n",
    "    \"id_initial_test_preds.csv\")\n"
   ]
  },
  {
   "cell_type": "markdown",
   "metadata": {},
   "source": [
    "# Label 2\n"
   ]
  },
  {
   "cell_type": "markdown",
   "metadata": {},
   "source": [
    "{'kernel': 'rbf', 'gamma': 0.001, 'degree': 5, 'C': 10}"
   ]
  },
  {
   "cell_type": "code",
   "execution_count": 14,
   "metadata": {},
   "outputs": [],
   "source": [
    "# Handling NaN values in the age\n",
    "# Combine X and y into a single DataFrame\n",
    "\n",
    "age_data_train_cat = pd.concat([x_train_scaled, age_train], axis=1)\n",
    "age_data_valid_cat = pd.concat([x_valid_scaled, age_valid], axis=1)\n",
    "\n",
    "# Remove rows with null values\n",
    "age_data_cleaned_train_cat = age_data_train_cat.dropna()\n",
    "age_data_cleaned_valid_cat = age_data_valid_cat.dropna()\n",
    "\n",
    "# Separate X and y again\n",
    "age_x_train_cat = age_data_cleaned_train_cat.drop(columns=[\"label_2\"])\n",
    "age_y_train_cat = age_data_cleaned_train_cat[\"label_2\"]\n",
    "age_x_valid_cat = age_data_cleaned_valid_cat.drop(columns=[\"label_2\"])\n",
    "age_y_valid_cat = age_data_cleaned_valid_cat[\"label_2\"].to_frame()\n",
    "\n",
    "age_x_test_cat = x_test_scaled\n"
   ]
  },
  {
   "cell_type": "code",
   "execution_count": 16,
   "metadata": {},
   "outputs": [],
   "source": [
    "age_x_test_cat = x_test_scaled\n",
    "\n",
    "age_initial = SVC(kernel=\"rbf\", C=20, gamma=\"scale\")\n",
    "\n",
    "age_initial.fit(age_x_train_cat, age_y_train_cat)\n",
    "\n",
    "age_initial_test_preds = age_initial.predict(age_x_test_cat)\n",
    "pd.DataFrame(age_initial_test_preds, columns=[\"label_2\"]).to_csv(\n",
    "    \"age_initial_test_preds.csv\")\n"
   ]
  },
  {
   "cell_type": "code",
   "execution_count": 95,
   "metadata": {},
   "outputs": [
    {
     "name": "stdout",
     "output_type": "stream",
     "text": [
      "Number of components:  307\n",
      "Accuracy:  0.9089673913043478\n",
      "Confusion matrix: \n",
      "[[ 34   0   0   0   2   0   0   0   0   0   0   0   0   0   0   0   0]\n",
      " [  0  66   0   0   3   0   1   0   1   0   0   0   0   0   0   0   0]\n",
      " [  1   0  44   0   1   0   0   0   0   0   0   0   0   0   0   0   0]\n",
      " [  0   2   0  65  10   0   1   0   0   1   0   0   0   0   0   0   0]\n",
      " [  0   1   0   2 110   1   1   0   0   0   0   0   0   0   0   0   0]\n",
      " [  0   1   0   1   7  69   0   0   1   2   0   0   0   0   0   0   0]\n",
      " [  1   0   0   0   1   1  43   0   0   0   0   0   0   0   0   0   0]\n",
      " [  1   0   0   0   2   0   0  41   0   1   0   0   0   0   0   0   0]\n",
      " [  0   0   0   0   3   0   0   0  45   0   0   0   0   0   0   0   0]\n",
      " [  1   2   0   0   1   0   1   0   0  60   0   0   0   0   0   0   0]\n",
      " [  0   0   0   0   1   0   0   0   0   0  10   0   0   0   0   0   0]\n",
      " [  0   0   1   1   2   0   0   0   0   0   0  26   0   0   0   0   0]\n",
      " [  0   0   1   0   0   0   0   0   0   0   0   0  10   0   0   0   0]\n",
      " [  0   1   0   0   0   0   0   0   0   0   0   0   0  10   0   0   0]\n",
      " [  0   0   0   0   0   0   0   0   0   0   0   0   0   0   8   0   0]\n",
      " [  0   1   0   0   3   0   0   0   0   0   0   0   0   0   0  10   0]\n",
      " [  0   0   0   0   0   0   1   0   0   0   0   0   0   0   0   0  18]]\n",
      "Precision, recall, f1-score: \n",
      "Precision, Recall and F1 Score: (0.9190496822182385, 0.9089673913043478, 0.9102602532225754, None)\n",
      "Accuracy:  0.9089673913043478\n",
      "Number of components:  188\n",
      "Accuracy:  0.9021739130434783\n",
      "Confusion matrix: \n",
      "[[ 34   0   0   0   2   0   0   0   0   0   0   0   0   0   0   0   0]\n",
      " [  0  66   0   0   3   0   1   0   1   0   0   0   0   0   0   0   0]\n",
      " [  1   1  42   0   2   0   0   0   0   0   0   0   0   0   0   0   0]\n",
      " [  0   2   0  66   9   0   1   0   0   1   0   0   0   0   0   0   0]\n",
      " [  0   1   0   2 110   1   0   0   0   1   0   0   0   0   0   0   0]\n",
      " [  0   1   0   1   8  69   0   0   1   1   0   0   0   0   0   0   0]\n",
      " [  1   0   0   0   1   1  43   0   0   0   0   0   0   0   0   0   0]\n",
      " [  1   0   0   0   1   0   0  41   1   1   0   0   0   0   0   0   0]\n",
      " [  0   0   0   0   3   0   0   0  45   0   0   0   0   0   0   0   0]\n",
      " [  1   2   1   0   2   0   1   0   0  58   0   0   0   0   0   0   0]\n",
      " [  0   0   0   0   2   0   0   0   0   0   9   0   0   0   0   0   0]\n",
      " [  0   0   1   1   3   0   0   0   0   0   0  25   0   0   0   0   0]\n",
      " [  0   0   1   0   0   0   0   0   0   0   0   0  10   0   0   0   0]\n",
      " [  0   0   0   0   0   0   0   1   0   0   0   0   0  10   0   0   0]\n",
      " [  0   0   0   0   0   0   0   0   0   0   0   0   0   0   8   0   0]\n",
      " [  0   0   0   0   3   1   0   0   0   0   0   0   0   0   0  10   0]\n",
      " [  0   0   0   0   0   0   1   0   0   0   0   0   0   0   0   0  18]]\n",
      "Precision, recall, f1-score: \n",
      "Precision, Recall and F1 Score: (0.9132687677177563, 0.9021739130434783, 0.9036745306390969, None)\n",
      "Accuracy:  0.9021739130434783\n",
      "Number of components:  128\n",
      "Accuracy:  0.8953804347826086\n",
      "Confusion matrix: \n",
      "[[ 32   1   0   0   3   0   0   0   0   0   0   0   0   0   0   0   0]\n",
      " [  1  65   0   0   3   0   1   0   1   0   0   0   0   0   0   0   0]\n",
      " [  1   1  41   0   3   0   0   0   0   0   0   0   0   0   0   0   0]\n",
      " [  0   2   0  65   9   0   1   0   0   2   0   0   0   0   0   0   0]\n",
      " [  0   1   0   1 111   0   1   0   0   1   0   0   0   0   0   0   0]\n",
      " [  0   0   0   1   7  70   0   0   1   2   0   0   0   0   0   0   0]\n",
      " [  1   1   0   0   2   1  41   0   0   0   0   0   0   0   0   0   0]\n",
      " [  1   0   0   0   1   0   0  41   1   1   0   0   0   0   0   0   0]\n",
      " [  0   0   0   0   3   0   0   0  45   0   0   0   0   0   0   0   0]\n",
      " [  1   2   1   0   2   0   1   0   0  58   0   0   0   0   0   0   0]\n",
      " [  0   0   0   0   2   0   0   0   0   0   9   0   0   0   0   0   0]\n",
      " [  0   0   1   1   3   0   0   0   0   0   0  25   0   0   0   0   0]\n",
      " [  0   0   1   0   0   0   0   0   0   0   0   0  10   0   0   0   0]\n",
      " [  0   0   0   0   0   0   0   1   0   0   0   0   0  10   0   0   0]\n",
      " [  0   0   0   0   0   0   0   0   0   0   0   0   0   0   8   0   0]\n",
      " [  0   1   0   0   3   0   0   0   0   0   0   0   0   0   0  10   0]\n",
      " [  0   0   0   0   0   0   1   0   0   0   0   0   0   0   0   0  18]]\n",
      "Precision, recall, f1-score: \n",
      "Precision, Recall and F1 Score: (0.9083594860897187, 0.8953804347826086, 0.8972238865618845, None)\n",
      "Accuracy:  0.8953804347826086\n",
      "Final number of components:  128\n",
      "Final Precision, Recall and F1 Score: (0.9083594860897187, 0.8953804347826086, 0.8972238865618845, None)\n"
     ]
    }
   ],
   "source": [
    "n_pca, pca_cat = find_min_pca_components(\n",
    "    age_x_train_cat, age_x_valid_cat, age_y_train_cat, age_y_valid_cat\n",
    ")\n"
   ]
  },
  {
   "cell_type": "code",
   "execution_count": 96,
   "metadata": {},
   "outputs": [],
   "source": [
    "age_x_train_pca, age_x_valid_pca, age_n_components, age_pca_cat = do_pca(\n",
    "    age_x_train_cat, age_x_valid_cat, n_components=180\n",
    ")\n"
   ]
  },
  {
   "cell_type": "code",
   "execution_count": 97,
   "metadata": {},
   "outputs": [
    {
     "data": {
      "text/html": [
       "<style>#sk-container-id-8 {color: black;}#sk-container-id-8 pre{padding: 0;}#sk-container-id-8 div.sk-toggleable {background-color: white;}#sk-container-id-8 label.sk-toggleable__label {cursor: pointer;display: block;width: 100%;margin-bottom: 0;padding: 0.3em;box-sizing: border-box;text-align: center;}#sk-container-id-8 label.sk-toggleable__label-arrow:before {content: \"▸\";float: left;margin-right: 0.25em;color: #696969;}#sk-container-id-8 label.sk-toggleable__label-arrow:hover:before {color: black;}#sk-container-id-8 div.sk-estimator:hover label.sk-toggleable__label-arrow:before {color: black;}#sk-container-id-8 div.sk-toggleable__content {max-height: 0;max-width: 0;overflow: hidden;text-align: left;background-color: #f0f8ff;}#sk-container-id-8 div.sk-toggleable__content pre {margin: 0.2em;color: black;border-radius: 0.25em;background-color: #f0f8ff;}#sk-container-id-8 input.sk-toggleable__control:checked~div.sk-toggleable__content {max-height: 200px;max-width: 100%;overflow: auto;}#sk-container-id-8 input.sk-toggleable__control:checked~label.sk-toggleable__label-arrow:before {content: \"▾\";}#sk-container-id-8 div.sk-estimator input.sk-toggleable__control:checked~label.sk-toggleable__label {background-color: #d4ebff;}#sk-container-id-8 div.sk-label input.sk-toggleable__control:checked~label.sk-toggleable__label {background-color: #d4ebff;}#sk-container-id-8 input.sk-hidden--visually {border: 0;clip: rect(1px 1px 1px 1px);clip: rect(1px, 1px, 1px, 1px);height: 1px;margin: -1px;overflow: hidden;padding: 0;position: absolute;width: 1px;}#sk-container-id-8 div.sk-estimator {font-family: monospace;background-color: #f0f8ff;border: 1px dotted black;border-radius: 0.25em;box-sizing: border-box;margin-bottom: 0.5em;}#sk-container-id-8 div.sk-estimator:hover {background-color: #d4ebff;}#sk-container-id-8 div.sk-parallel-item::after {content: \"\";width: 100%;border-bottom: 1px solid gray;flex-grow: 1;}#sk-container-id-8 div.sk-label:hover label.sk-toggleable__label {background-color: #d4ebff;}#sk-container-id-8 div.sk-serial::before {content: \"\";position: absolute;border-left: 1px solid gray;box-sizing: border-box;top: 0;bottom: 0;left: 50%;z-index: 0;}#sk-container-id-8 div.sk-serial {display: flex;flex-direction: column;align-items: center;background-color: white;padding-right: 0.2em;padding-left: 0.2em;position: relative;}#sk-container-id-8 div.sk-item {position: relative;z-index: 1;}#sk-container-id-8 div.sk-parallel {display: flex;align-items: stretch;justify-content: center;background-color: white;position: relative;}#sk-container-id-8 div.sk-item::before, #sk-container-id-8 div.sk-parallel-item::before {content: \"\";position: absolute;border-left: 1px solid gray;box-sizing: border-box;top: 0;bottom: 0;left: 50%;z-index: -1;}#sk-container-id-8 div.sk-parallel-item {display: flex;flex-direction: column;z-index: 1;position: relative;background-color: white;}#sk-container-id-8 div.sk-parallel-item:first-child::after {align-self: flex-end;width: 50%;}#sk-container-id-8 div.sk-parallel-item:last-child::after {align-self: flex-start;width: 50%;}#sk-container-id-8 div.sk-parallel-item:only-child::after {width: 0;}#sk-container-id-8 div.sk-dashed-wrapped {border: 1px dashed gray;margin: 0 0.4em 0.5em 0.4em;box-sizing: border-box;padding-bottom: 0.4em;background-color: white;}#sk-container-id-8 div.sk-label label {font-family: monospace;font-weight: bold;display: inline-block;line-height: 1.2em;}#sk-container-id-8 div.sk-label-container {text-align: center;}#sk-container-id-8 div.sk-container {/* jupyter's `normalize.less` sets `[hidden] { display: none; }` but bootstrap.min.css set `[hidden] { display: none !important; }` so we also need the `!important` here to be able to override the default hidden behavior on the sphinx rendered scikit-learn.org. See: https://github.com/scikit-learn/scikit-learn/issues/21755 */display: inline-block !important;position: relative;}#sk-container-id-8 div.sk-text-repr-fallback {display: none;}</style><div id=\"sk-container-id-8\" class=\"sk-top-container\"><div class=\"sk-text-repr-fallback\"><pre>SVC()</pre><b>In a Jupyter environment, please rerun this cell to show the HTML representation or trust the notebook. <br />On GitHub, the HTML representation is unable to render, please try loading this page with nbviewer.org.</b></div><div class=\"sk-container\" hidden><div class=\"sk-item\"><div class=\"sk-estimator sk-toggleable\"><input class=\"sk-toggleable__control sk-hidden--visually\" id=\"sk-estimator-id-8\" type=\"checkbox\" checked><label for=\"sk-estimator-id-8\" class=\"sk-toggleable__label sk-toggleable__label-arrow\">SVC</label><div class=\"sk-toggleable__content\"><pre>SVC()</pre></div></div></div></div></div>"
      ],
      "text/plain": [
       "SVC()"
      ]
     },
     "execution_count": 97,
     "metadata": {},
     "output_type": "execute_result"
    }
   ],
   "source": [
    "age_final = SVC()\n",
    "age_final.fit(age_x_train_pca, age_y_train_cat)\n"
   ]
  },
  {
   "cell_type": "code",
   "execution_count": 98,
   "metadata": {},
   "outputs": [
    {
     "name": "stdout",
     "output_type": "stream",
     "text": [
      "Accuracy:  0.9021739130434783\n",
      "Confusion matrix: \n",
      "[[ 34   0   0   0   2   0   0   0   0   0   0   0   0   0   0   0   0]\n",
      " [  1  65   0   0   3   0   1   0   1   0   0   0   0   0   0   0   0]\n",
      " [  1   1  42   0   2   0   0   0   0   0   0   0   0   0   0   0   0]\n",
      " [  0   2   0  65   9   0   1   0   0   2   0   0   0   0   0   0   0]\n",
      " [  0   1   0   2 111   0   0   0   0   1   0   0   0   0   0   0   0]\n",
      " [  0   0   0   1   8  69   0   1   1   1   0   0   0   0   0   0   0]\n",
      " [  1   0   0   0   1   1  43   0   0   0   0   0   0   0   0   0   0]\n",
      " [  1   0   0   0   1   0   0  41   1   1   0   0   0   0   0   0   0]\n",
      " [  0   0   0   0   2   0   0   0  46   0   0   0   0   0   0   0   0]\n",
      " [  1   2   0   0   3   0   1   0   0  58   0   0   0   0   0   0   0]\n",
      " [  0   0   0   0   2   0   0   0   0   0   9   0   0   0   0   0   0]\n",
      " [  0   0   1   1   3   0   0   0   0   0   0  25   0   0   0   0   0]\n",
      " [  0   0   1   0   0   0   0   0   0   0   0   0  10   0   0   0   0]\n",
      " [  0   0   0   0   0   0   0   1   0   0   0   0   0  10   0   0   0]\n",
      " [  0   0   0   0   0   0   0   0   0   0   0   0   0   0   8   0   0]\n",
      " [  0   0   0   0   3   1   0   0   0   0   0   0   0   0   0  10   0]\n",
      " [  0   0   0   0   0   0   1   0   0   0   0   0   0   0   0   0  18]]\n",
      "Precision, recall, f1-score: \n",
      "Precision, Recall and F1 Score: (0.9136234829703318, 0.9021739130434783, 0.9035652971678031, None)\n"
     ]
    }
   ],
   "source": [
    "age_precision_recall_fscore_svc_final, age_cm_final = validate_model(\n",
    "    age_final, age_x_valid_pca, age_y_valid_cat\n",
    ")\n",
    "\n",
    "print(\"Precision, Recall and F1 Score:\", age_precision_recall_fscore_svc_final)\n"
   ]
  },
  {
   "cell_type": "code",
   "execution_count": 57,
   "metadata": {},
   "outputs": [
    {
     "name": "stdout",
     "output_type": "stream",
     "text": [
      "Function Initialised\n",
      "Fitting 5 folds for each of 6 candidates, totalling 30 fits\n"
     ]
    },
    {
     "ename": "ValueError",
     "evalue": "y should be a 1d array, got an array of shape (736, 768) instead.",
     "output_type": "error",
     "traceback": [
      "\u001b[1;31m---------------------------------------------------------------------------\u001b[0m",
      "\u001b[1;31mValueError\u001b[0m                                Traceback (most recent call last)",
      "\u001b[1;32md:\\repos\\CS4622-ML-Labs\\MiniProject\\src\\miniProject.ipynb Cell 44\u001b[0m line \u001b[0;36m7\n\u001b[0;32m      <a href='vscode-notebook-cell:/d%3A/repos/CS4622-ML-Labs/MiniProject/src/miniProject.ipynb#Y114sZmlsZQ%3D%3D?line=0'>1</a>\u001b[0m id_grid \u001b[39m=\u001b[39m {\n\u001b[0;32m      <a href='vscode-notebook-cell:/d%3A/repos/CS4622-ML-Labs/MiniProject/src/miniProject.ipynb#Y114sZmlsZQ%3D%3D?line=1'>2</a>\u001b[0m     \u001b[39m\"\u001b[39m\u001b[39mC\u001b[39m\u001b[39m\"\u001b[39m: [\u001b[39m30\u001b[39m],\n\u001b[0;32m      <a href='vscode-notebook-cell:/d%3A/repos/CS4622-ML-Labs/MiniProject/src/miniProject.ipynb#Y114sZmlsZQ%3D%3D?line=2'>3</a>\u001b[0m     \u001b[39m\"\u001b[39m\u001b[39mgamma\u001b[39m\u001b[39m\"\u001b[39m: [\u001b[39m\"\u001b[39m\u001b[39mscale\u001b[39m\u001b[39m\"\u001b[39m],\n\u001b[0;32m      <a href='vscode-notebook-cell:/d%3A/repos/CS4622-ML-Labs/MiniProject/src/miniProject.ipynb#Y114sZmlsZQ%3D%3D?line=3'>4</a>\u001b[0m     \u001b[39m\"\u001b[39m\u001b[39mkernel\u001b[39m\u001b[39m\"\u001b[39m: [\u001b[39m\"\u001b[39m\u001b[39mrbf\u001b[39m\u001b[39m\"\u001b[39m, \u001b[39m\"\u001b[39m\u001b[39mpoly\u001b[39m\u001b[39m\"\u001b[39m],\n\u001b[0;32m      <a href='vscode-notebook-cell:/d%3A/repos/CS4622-ML-Labs/MiniProject/src/miniProject.ipynb#Y114sZmlsZQ%3D%3D?line=4'>5</a>\u001b[0m     \u001b[39m\"\u001b[39m\u001b[39mdegree\u001b[39m\u001b[39m\"\u001b[39m: [\u001b[39m5\u001b[39m, \u001b[39m6\u001b[39m, \u001b[39m7\u001b[39m],\n\u001b[0;32m      <a href='vscode-notebook-cell:/d%3A/repos/CS4622-ML-Labs/MiniProject/src/miniProject.ipynb#Y114sZmlsZQ%3D%3D?line=5'>6</a>\u001b[0m }\n\u001b[1;32m----> <a href='vscode-notebook-cell:/d%3A/repos/CS4622-ML-Labs/MiniProject/src/miniProject.ipynb#Y114sZmlsZQ%3D%3D?line=6'>7</a>\u001b[0m final_accuracy, final_model, pca_obj \u001b[39m=\u001b[39m tune_hyperparameters_svc(\u001b[39m\"\u001b[39;49m\u001b[39mage\u001b[39;49m\u001b[39m\"\u001b[39;49m, id_grid)\n",
      "File \u001b[1;32md:\\repos\\CS4622-ML-Labs\\MiniProject\\src\\tuner.py:223\u001b[0m, in \u001b[0;36mtune_hyperparameters_svc\u001b[1;34m(classifier_label, grid)\u001b[0m\n\u001b[0;32m    220\u001b[0m final_accuracy \u001b[39m=\u001b[39m rs_model\u001b[39m.\u001b[39mscore(x_valid, y_valid)\n\u001b[0;32m    222\u001b[0m full_ds_model \u001b[39m=\u001b[39m SVC(\u001b[39m*\u001b[39m\u001b[39m*\u001b[39mrs_model\u001b[39m.\u001b[39mbest_params_)\n\u001b[1;32m--> 223\u001b[0m full_ds_model\u001b[39m.\u001b[39;49mfit(x_train_i, x_valid_i)\n\u001b[0;32m    224\u001b[0m full_ds_model_score \u001b[39m=\u001b[39m full_ds_model\u001b[39m.\u001b[39mscore(x_valid_i, y_valid)\n\u001b[0;32m    226\u001b[0m \u001b[39mprint\u001b[39m(\u001b[39m\"\u001b[39m\u001b[39mFinal Accuracy: \u001b[39m\u001b[39m\"\u001b[39m, final_accuracy)\n",
      "File \u001b[1;32mc:\\Users\\tharu\\anaconda3\\envs\\CS4622\\lib\\site-packages\\sklearn\\base.py:1151\u001b[0m, in \u001b[0;36m_fit_context.<locals>.decorator.<locals>.wrapper\u001b[1;34m(estimator, *args, **kwargs)\u001b[0m\n\u001b[0;32m   1144\u001b[0m     estimator\u001b[39m.\u001b[39m_validate_params()\n\u001b[0;32m   1146\u001b[0m \u001b[39mwith\u001b[39;00m config_context(\n\u001b[0;32m   1147\u001b[0m     skip_parameter_validation\u001b[39m=\u001b[39m(\n\u001b[0;32m   1148\u001b[0m         prefer_skip_nested_validation \u001b[39mor\u001b[39;00m global_skip_validation\n\u001b[0;32m   1149\u001b[0m     )\n\u001b[0;32m   1150\u001b[0m ):\n\u001b[1;32m-> 1151\u001b[0m     \u001b[39mreturn\u001b[39;00m fit_method(estimator, \u001b[39m*\u001b[39margs, \u001b[39m*\u001b[39m\u001b[39m*\u001b[39mkwargs)\n",
      "File \u001b[1;32mc:\\Users\\tharu\\anaconda3\\envs\\CS4622\\lib\\site-packages\\sklearn\\svm\\_base.py:190\u001b[0m, in \u001b[0;36mBaseLibSVM.fit\u001b[1;34m(self, X, y, sample_weight)\u001b[0m\n\u001b[0;32m    188\u001b[0m     check_consistent_length(X, y)\n\u001b[0;32m    189\u001b[0m \u001b[39melse\u001b[39;00m:\n\u001b[1;32m--> 190\u001b[0m     X, y \u001b[39m=\u001b[39m \u001b[39mself\u001b[39;49m\u001b[39m.\u001b[39;49m_validate_data(\n\u001b[0;32m    191\u001b[0m         X,\n\u001b[0;32m    192\u001b[0m         y,\n\u001b[0;32m    193\u001b[0m         dtype\u001b[39m=\u001b[39;49mnp\u001b[39m.\u001b[39;49mfloat64,\n\u001b[0;32m    194\u001b[0m         order\u001b[39m=\u001b[39;49m\u001b[39m\"\u001b[39;49m\u001b[39mC\u001b[39;49m\u001b[39m\"\u001b[39;49m,\n\u001b[0;32m    195\u001b[0m         accept_sparse\u001b[39m=\u001b[39;49m\u001b[39m\"\u001b[39;49m\u001b[39mcsr\u001b[39;49m\u001b[39m\"\u001b[39;49m,\n\u001b[0;32m    196\u001b[0m         accept_large_sparse\u001b[39m=\u001b[39;49m\u001b[39mFalse\u001b[39;49;00m,\n\u001b[0;32m    197\u001b[0m     )\n\u001b[0;32m    199\u001b[0m y \u001b[39m=\u001b[39m \u001b[39mself\u001b[39m\u001b[39m.\u001b[39m_validate_targets(y)\n\u001b[0;32m    201\u001b[0m sample_weight \u001b[39m=\u001b[39m np\u001b[39m.\u001b[39masarray(\n\u001b[0;32m    202\u001b[0m     [] \u001b[39mif\u001b[39;00m sample_weight \u001b[39mis\u001b[39;00m \u001b[39mNone\u001b[39;00m \u001b[39melse\u001b[39;00m sample_weight, dtype\u001b[39m=\u001b[39mnp\u001b[39m.\u001b[39mfloat64\n\u001b[0;32m    203\u001b[0m )\n",
      "File \u001b[1;32mc:\\Users\\tharu\\anaconda3\\envs\\CS4622\\lib\\site-packages\\sklearn\\base.py:621\u001b[0m, in \u001b[0;36mBaseEstimator._validate_data\u001b[1;34m(self, X, y, reset, validate_separately, cast_to_ndarray, **check_params)\u001b[0m\n\u001b[0;32m    619\u001b[0m         y \u001b[39m=\u001b[39m check_array(y, input_name\u001b[39m=\u001b[39m\u001b[39m\"\u001b[39m\u001b[39my\u001b[39m\u001b[39m\"\u001b[39m, \u001b[39m*\u001b[39m\u001b[39m*\u001b[39mcheck_y_params)\n\u001b[0;32m    620\u001b[0m     \u001b[39melse\u001b[39;00m:\n\u001b[1;32m--> 621\u001b[0m         X, y \u001b[39m=\u001b[39m check_X_y(X, y, \u001b[39m*\u001b[39m\u001b[39m*\u001b[39mcheck_params)\n\u001b[0;32m    622\u001b[0m     out \u001b[39m=\u001b[39m X, y\n\u001b[0;32m    624\u001b[0m \u001b[39mif\u001b[39;00m \u001b[39mnot\u001b[39;00m no_val_X \u001b[39mand\u001b[39;00m check_params\u001b[39m.\u001b[39mget(\u001b[39m\"\u001b[39m\u001b[39mensure_2d\u001b[39m\u001b[39m\"\u001b[39m, \u001b[39mTrue\u001b[39;00m):\n",
      "File \u001b[1;32mc:\\Users\\tharu\\anaconda3\\envs\\CS4622\\lib\\site-packages\\sklearn\\utils\\validation.py:1163\u001b[0m, in \u001b[0;36mcheck_X_y\u001b[1;34m(X, y, accept_sparse, accept_large_sparse, dtype, order, copy, force_all_finite, ensure_2d, allow_nd, multi_output, ensure_min_samples, ensure_min_features, y_numeric, estimator)\u001b[0m\n\u001b[0;32m   1143\u001b[0m     \u001b[39mraise\u001b[39;00m \u001b[39mValueError\u001b[39;00m(\n\u001b[0;32m   1144\u001b[0m         \u001b[39mf\u001b[39m\u001b[39m\"\u001b[39m\u001b[39m{\u001b[39;00mestimator_name\u001b[39m}\u001b[39;00m\u001b[39m requires y to be passed, but the target y is None\u001b[39m\u001b[39m\"\u001b[39m\n\u001b[0;32m   1145\u001b[0m     )\n\u001b[0;32m   1147\u001b[0m X \u001b[39m=\u001b[39m check_array(\n\u001b[0;32m   1148\u001b[0m     X,\n\u001b[0;32m   1149\u001b[0m     accept_sparse\u001b[39m=\u001b[39maccept_sparse,\n\u001b[1;32m   (...)\u001b[0m\n\u001b[0;32m   1160\u001b[0m     input_name\u001b[39m=\u001b[39m\u001b[39m\"\u001b[39m\u001b[39mX\u001b[39m\u001b[39m\"\u001b[39m,\n\u001b[0;32m   1161\u001b[0m )\n\u001b[1;32m-> 1163\u001b[0m y \u001b[39m=\u001b[39m _check_y(y, multi_output\u001b[39m=\u001b[39;49mmulti_output, y_numeric\u001b[39m=\u001b[39;49my_numeric, estimator\u001b[39m=\u001b[39;49mestimator)\n\u001b[0;32m   1165\u001b[0m check_consistent_length(X, y)\n\u001b[0;32m   1167\u001b[0m \u001b[39mreturn\u001b[39;00m X, y\n",
      "File \u001b[1;32mc:\\Users\\tharu\\anaconda3\\envs\\CS4622\\lib\\site-packages\\sklearn\\utils\\validation.py:1184\u001b[0m, in \u001b[0;36m_check_y\u001b[1;34m(y, multi_output, y_numeric, estimator)\u001b[0m\n\u001b[0;32m   1182\u001b[0m \u001b[39melse\u001b[39;00m:\n\u001b[0;32m   1183\u001b[0m     estimator_name \u001b[39m=\u001b[39m _check_estimator_name(estimator)\n\u001b[1;32m-> 1184\u001b[0m     y \u001b[39m=\u001b[39m column_or_1d(y, warn\u001b[39m=\u001b[39;49m\u001b[39mTrue\u001b[39;49;00m)\n\u001b[0;32m   1185\u001b[0m     _assert_all_finite(y, input_name\u001b[39m=\u001b[39m\u001b[39m\"\u001b[39m\u001b[39my\u001b[39m\u001b[39m\"\u001b[39m, estimator_name\u001b[39m=\u001b[39mestimator_name)\n\u001b[0;32m   1186\u001b[0m     _ensure_no_complex_data(y)\n",
      "File \u001b[1;32mc:\\Users\\tharu\\anaconda3\\envs\\CS4622\\lib\\site-packages\\sklearn\\utils\\validation.py:1245\u001b[0m, in \u001b[0;36mcolumn_or_1d\u001b[1;34m(y, dtype, warn)\u001b[0m\n\u001b[0;32m   1234\u001b[0m         warnings\u001b[39m.\u001b[39mwarn(\n\u001b[0;32m   1235\u001b[0m             (\n\u001b[0;32m   1236\u001b[0m                 \u001b[39m\"\u001b[39m\u001b[39mA column-vector y was passed when a 1d array was\u001b[39m\u001b[39m\"\u001b[39m\n\u001b[1;32m   (...)\u001b[0m\n\u001b[0;32m   1241\u001b[0m             stacklevel\u001b[39m=\u001b[39m\u001b[39m2\u001b[39m,\n\u001b[0;32m   1242\u001b[0m         )\n\u001b[0;32m   1243\u001b[0m     \u001b[39mreturn\u001b[39;00m _asarray_with_order(xp\u001b[39m.\u001b[39mreshape(y, (\u001b[39m-\u001b[39m\u001b[39m1\u001b[39m,)), order\u001b[39m=\u001b[39m\u001b[39m\"\u001b[39m\u001b[39mC\u001b[39m\u001b[39m\"\u001b[39m, xp\u001b[39m=\u001b[39mxp)\n\u001b[1;32m-> 1245\u001b[0m \u001b[39mraise\u001b[39;00m \u001b[39mValueError\u001b[39;00m(\n\u001b[0;32m   1246\u001b[0m     \u001b[39m\"\u001b[39m\u001b[39my should be a 1d array, got an array of shape \u001b[39m\u001b[39m{}\u001b[39;00m\u001b[39m instead.\u001b[39m\u001b[39m\"\u001b[39m\u001b[39m.\u001b[39mformat(shape)\n\u001b[0;32m   1247\u001b[0m )\n",
      "\u001b[1;31mValueError\u001b[0m: y should be a 1d array, got an array of shape (736, 768) instead."
     ]
    }
   ],
   "source": [
    "id_grid = {\n",
    "    \"C\": [30],\n",
    "    \"gamma\": [\"scale\"],\n",
    "    \"kernel\": [\"rbf\", \"poly\"],\n",
    "    \"degree\": [5, 6, 7],\n",
    "}\n",
    "final_accuracy, final_model, pca_obj = tune_hyperparameters_svc(\"age\", id_grid)\n"
   ]
  },
  {
   "cell_type": "code",
   "execution_count": null,
   "metadata": {},
   "outputs": [],
   "source": [
    "# hyperparameter tuning for svc\n",
    "age_final_models = {\n",
    "    \"age_SVC\": SVC(),\n",
    "}\n",
    "\n",
    "age_grid = {\n",
    "    \"C\": [0.1, 1, 10],\n",
    "    \"gamma\": [1, 0.1, 0.01],\n",
    "    \"kernel\": [\"rbf\", \"poly\", \"sigmoid\"],\n",
    "    \"degree\": [1, 2, 3, 4, 5],\n",
    "}\n",
    "\n",
    "age_grid = {\n",
    "    \"C\": [0.1, 1],\n",
    "    \"gamma\": [1, 0.01],\n",
    "    \"kernel\": [\"rbf\"],\n",
    "    \"degree\": [1, 2],\n",
    "}\n",
    "\n",
    "\n",
    "age_rs_model = tune_hyperparameters(\n",
    "    age_final_models,\n",
    "    age_grid,\n",
    "    age_x_train_pca,\n",
    "    age_x_valid_pca,\n",
    "    age_y_train_cat,\n",
    "    age_y_valid_cat,\n",
    ")\n"
   ]
  },
  {
   "cell_type": "markdown",
   "metadata": {},
   "source": [
    "# Label 3 - Gender\n"
   ]
  },
  {
   "cell_type": "code",
   "execution_count": 17,
   "metadata": {},
   "outputs": [],
   "source": [
    "# Handling NaN values in the age\n",
    "# Combine X and y into a single DataFrame\n",
    "\n",
    "gender_data_train_cat = pd.concat([x_train_scaled, gender_train], axis=1)\n",
    "gender_data_valid_cat = pd.concat([x_valid_scaled, gender_valid], axis=1)\n",
    "\n",
    "# Remove rows with null values\n",
    "gender_data_cleaned_train_cat = gender_data_train_cat.dropna()\n",
    "gender_data_cleaned_valid_cat = gender_data_valid_cat.dropna()\n",
    "\n",
    "# Separate X and y again\n",
    "gender_x_train_cat = gender_data_cleaned_train_cat.drop(columns=[\"label_3\"])\n",
    "gender_y_train_cat = gender_data_cleaned_train_cat[\"label_3\"]\n",
    "gender_x_valid_cat = gender_data_cleaned_valid_cat.drop(columns=[\"label_3\"])\n",
    "gender_y_valid_cat = gender_data_cleaned_valid_cat[\"label_3\"].to_frame()\n"
   ]
  },
  {
   "cell_type": "code",
   "execution_count": 18,
   "metadata": {},
   "outputs": [],
   "source": [
    "gender_x_test_cat = x_test_scaled\n",
    "\n",
    "gender_initial = SVC(kernel=\"rbf\", C=20, gamma=\"scale\")\n",
    "gender_initial.fit(gender_x_train_cat, gender_y_train_cat)\n",
    "\n",
    "gender_initial_test_preds = gender_initial.predict(gender_x_test_cat)\n",
    "pd.DataFrame(gender_initial_test_preds, columns=[\"label_3\"]).to_csv(\n",
    "    \"gender_initial_test_preds.csv\")\n"
   ]
  },
  {
   "cell_type": "code",
   "execution_count": 101,
   "metadata": {},
   "outputs": [
    {
     "data": {
      "text/html": [
       "<style>#sk-container-id-9 {color: black;}#sk-container-id-9 pre{padding: 0;}#sk-container-id-9 div.sk-toggleable {background-color: white;}#sk-container-id-9 label.sk-toggleable__label {cursor: pointer;display: block;width: 100%;margin-bottom: 0;padding: 0.3em;box-sizing: border-box;text-align: center;}#sk-container-id-9 label.sk-toggleable__label-arrow:before {content: \"▸\";float: left;margin-right: 0.25em;color: #696969;}#sk-container-id-9 label.sk-toggleable__label-arrow:hover:before {color: black;}#sk-container-id-9 div.sk-estimator:hover label.sk-toggleable__label-arrow:before {color: black;}#sk-container-id-9 div.sk-toggleable__content {max-height: 0;max-width: 0;overflow: hidden;text-align: left;background-color: #f0f8ff;}#sk-container-id-9 div.sk-toggleable__content pre {margin: 0.2em;color: black;border-radius: 0.25em;background-color: #f0f8ff;}#sk-container-id-9 input.sk-toggleable__control:checked~div.sk-toggleable__content {max-height: 200px;max-width: 100%;overflow: auto;}#sk-container-id-9 input.sk-toggleable__control:checked~label.sk-toggleable__label-arrow:before {content: \"▾\";}#sk-container-id-9 div.sk-estimator input.sk-toggleable__control:checked~label.sk-toggleable__label {background-color: #d4ebff;}#sk-container-id-9 div.sk-label input.sk-toggleable__control:checked~label.sk-toggleable__label {background-color: #d4ebff;}#sk-container-id-9 input.sk-hidden--visually {border: 0;clip: rect(1px 1px 1px 1px);clip: rect(1px, 1px, 1px, 1px);height: 1px;margin: -1px;overflow: hidden;padding: 0;position: absolute;width: 1px;}#sk-container-id-9 div.sk-estimator {font-family: monospace;background-color: #f0f8ff;border: 1px dotted black;border-radius: 0.25em;box-sizing: border-box;margin-bottom: 0.5em;}#sk-container-id-9 div.sk-estimator:hover {background-color: #d4ebff;}#sk-container-id-9 div.sk-parallel-item::after {content: \"\";width: 100%;border-bottom: 1px solid gray;flex-grow: 1;}#sk-container-id-9 div.sk-label:hover label.sk-toggleable__label {background-color: #d4ebff;}#sk-container-id-9 div.sk-serial::before {content: \"\";position: absolute;border-left: 1px solid gray;box-sizing: border-box;top: 0;bottom: 0;left: 50%;z-index: 0;}#sk-container-id-9 div.sk-serial {display: flex;flex-direction: column;align-items: center;background-color: white;padding-right: 0.2em;padding-left: 0.2em;position: relative;}#sk-container-id-9 div.sk-item {position: relative;z-index: 1;}#sk-container-id-9 div.sk-parallel {display: flex;align-items: stretch;justify-content: center;background-color: white;position: relative;}#sk-container-id-9 div.sk-item::before, #sk-container-id-9 div.sk-parallel-item::before {content: \"\";position: absolute;border-left: 1px solid gray;box-sizing: border-box;top: 0;bottom: 0;left: 50%;z-index: -1;}#sk-container-id-9 div.sk-parallel-item {display: flex;flex-direction: column;z-index: 1;position: relative;background-color: white;}#sk-container-id-9 div.sk-parallel-item:first-child::after {align-self: flex-end;width: 50%;}#sk-container-id-9 div.sk-parallel-item:last-child::after {align-self: flex-start;width: 50%;}#sk-container-id-9 div.sk-parallel-item:only-child::after {width: 0;}#sk-container-id-9 div.sk-dashed-wrapped {border: 1px dashed gray;margin: 0 0.4em 0.5em 0.4em;box-sizing: border-box;padding-bottom: 0.4em;background-color: white;}#sk-container-id-9 div.sk-label label {font-family: monospace;font-weight: bold;display: inline-block;line-height: 1.2em;}#sk-container-id-9 div.sk-label-container {text-align: center;}#sk-container-id-9 div.sk-container {/* jupyter's `normalize.less` sets `[hidden] { display: none; }` but bootstrap.min.css set `[hidden] { display: none !important; }` so we also need the `!important` here to be able to override the default hidden behavior on the sphinx rendered scikit-learn.org. See: https://github.com/scikit-learn/scikit-learn/issues/21755 */display: inline-block !important;position: relative;}#sk-container-id-9 div.sk-text-repr-fallback {display: none;}</style><div id=\"sk-container-id-9\" class=\"sk-top-container\"><div class=\"sk-text-repr-fallback\"><pre>SVC()</pre><b>In a Jupyter environment, please rerun this cell to show the HTML representation or trust the notebook. <br />On GitHub, the HTML representation is unable to render, please try loading this page with nbviewer.org.</b></div><div class=\"sk-container\" hidden><div class=\"sk-item\"><div class=\"sk-estimator sk-toggleable\"><input class=\"sk-toggleable__control sk-hidden--visually\" id=\"sk-estimator-id-9\" type=\"checkbox\" checked><label for=\"sk-estimator-id-9\" class=\"sk-toggleable__label sk-toggleable__label-arrow\">SVC</label><div class=\"sk-toggleable__content\"><pre>SVC()</pre></div></div></div></div></div>"
      ],
      "text/plain": [
       "SVC()"
      ]
     },
     "execution_count": 101,
     "metadata": {},
     "output_type": "execute_result"
    }
   ],
   "source": [
    "gender_initial = SVC()\n",
    "gender_initial.fit(gender_x_train_cat, gender_y_train_cat)\n"
   ]
  },
  {
   "cell_type": "code",
   "execution_count": 19,
   "metadata": {},
   "outputs": [
    {
     "name": "stdout",
     "output_type": "stream",
     "text": [
      "Accuracy:  1.0\n",
      "Confusion matrix: \n",
      "[[142   0]\n",
      " [  0 608]]\n",
      "Precision, recall, f1-score: \n",
      "Precision, Recall and F1 Score: (1.0, 1.0, 1.0, None)\n"
     ]
    }
   ],
   "source": [
    "gender_precision_recall_fscore_svc_initial, gender_cm_initial = validate_model(\n",
    "    gender_initial, gender_x_valid_cat, gender_y_valid_cat\n",
    ")\n",
    "\n",
    "print(\"Precision, Recall and F1 Score:\",\n",
    "      gender_precision_recall_fscore_svc_initial)\n"
   ]
  },
  {
   "cell_type": "code",
   "execution_count": 104,
   "metadata": {},
   "outputs": [
    {
     "name": "stdout",
     "output_type": "stream",
     "text": [
      "Number of components:  308\n",
      "Accuracy:  0.9973333333333333\n",
      "Confusion matrix: \n",
      "[[141   1]\n",
      " [  1 607]]\n",
      "Precision, recall, f1-score: \n",
      "Precision, Recall and F1 Score: (0.9973333333333333, 0.9973333333333333, 0.9973333333333333, None)\n",
      "Accuracy:  0.9973333333333333\n",
      "Number of components:  189\n",
      "Accuracy:  0.9973333333333333\n",
      "Confusion matrix: \n",
      "[[141   1]\n",
      " [  1 607]]\n",
      "Precision, recall, f1-score: \n",
      "Precision, Recall and F1 Score: (0.9973333333333333, 0.9973333333333333, 0.9973333333333333, None)\n",
      "Accuracy:  0.9973333333333333\n",
      "Number of components:  128\n",
      "Accuracy:  0.9973333333333333\n",
      "Confusion matrix: \n",
      "[[140   2]\n",
      " [  0 608]]\n",
      "Precision, recall, f1-score: \n",
      "Precision, Recall and F1 Score: (0.9973420765027322, 0.9973333333333333, 0.9973260664500576, None)\n",
      "Accuracy:  0.9973333333333333\n",
      "Number of components:  92\n",
      "Accuracy:  0.9946666666666667\n",
      "Confusion matrix: \n",
      "[[139   3]\n",
      " [  1 607]]\n",
      "Precision, recall, f1-score: \n",
      "Precision, Recall and F1 Score: (0.9946607338017173, 0.9946666666666667, 0.9946521329001151, None)\n",
      "Accuracy:  0.9946666666666667\n",
      "Number of components:  68\n",
      "Accuracy:  0.992\n",
      "Confusion matrix: \n",
      "[[138   4]\n",
      " [  2 606]]\n",
      "Precision, recall, f1-score: \n",
      "Precision, Recall and F1 Score: (0.9919793911007024, 0.992, 0.9919781993501731, None)\n",
      "Accuracy:  0.992\n",
      "Number of components:  52\n",
      "Accuracy:  0.9906666666666667\n",
      "Confusion matrix: \n",
      "[[137   5]\n",
      " [  2 606]]\n",
      "Precision, recall, f1-score: \n",
      "Precision, Recall and F1 Score: (0.9906418459340548, 0.9906666666666667, 0.9906283294262357, None)\n",
      "Accuracy:  0.9906666666666667\n",
      "Number of components:  41\n",
      "Accuracy:  0.992\n",
      "Confusion matrix: \n",
      "[[137   5]\n",
      " [  1 607]]\n",
      "Precision, recall, f1-score: \n",
      "Precision, Recall and F1 Score: (0.9920049256417544, 0.992, 0.9919559718969555, None)\n",
      "Accuracy:  0.992\n",
      "Number of components:  32\n",
      "Accuracy:  0.9933333333333333\n",
      "Confusion matrix: \n",
      "[[137   5]\n",
      " [  0 608]]\n",
      "Precision, recall, f1-score: \n",
      "Precision, Recall and F1 Score: (0.9933877107123437, 0.9933333333333333, 0.993287246190472, None)\n",
      "Accuracy:  0.9933333333333333\n",
      "Number of components:  26\n",
      "Accuracy:  0.9893333333333333\n",
      "Confusion matrix: \n",
      "[[135   7]\n",
      " [  1 607]]\n",
      "Precision, recall, f1-score: \n",
      "Precision, Recall and F1 Score: (0.9893657150156481, 0.9893333333333333, 0.9892444119990423, None)\n",
      "Accuracy:  0.9893333333333333\n",
      "Number of components:  22\n",
      "Accuracy:  0.9826666666666667\n",
      "Confusion matrix: \n",
      "[[134   8]\n",
      " [  5 603]]\n",
      "Precision, recall, f1-score: \n",
      "Precision, Recall and F1 Score: (0.9825751549333366, 0.9826666666666667, 0.9825954689344377, None)\n",
      "Accuracy:  0.9826666666666667\n",
      "Number of components:  19\n",
      "Accuracy:  0.9786666666666667\n",
      "Confusion matrix: \n",
      "[[131  11]\n",
      " [  5 603]]\n",
      "Precision, recall, f1-score: \n",
      "Precision, Recall and F1 Score: (0.9785158714951778, 0.9786666666666667, 0.9784888239980847, None)\n",
      "Accuracy:  0.9786666666666667\n",
      "Number of components:  17\n",
      "Accuracy:  0.9706666666666667\n",
      "Confusion matrix: \n",
      "[[130  12]\n",
      " [ 10 598]]\n",
      "Precision, recall, f1-score: \n",
      "Precision, Recall and F1 Score: (0.970528649492584, 0.9706666666666667, 0.9705867309506342, None)\n",
      "Accuracy:  0.9706666666666667\n",
      "Number of components:  15\n",
      "Accuracy:  0.972\n",
      "Confusion matrix: \n",
      "[[129  13]\n",
      " [  8 600]]\n",
      "Precision, recall, f1-score: \n",
      "Precision, Recall and F1 Score: (0.971752086781534, 0.972, 0.9718064339999825, None)\n",
      "Accuracy:  0.972\n",
      "Number of components:  13\n",
      "Accuracy:  0.9453333333333334\n",
      "Confusion matrix: \n",
      "[[115  27]\n",
      " [ 14 594]]\n",
      "Precision, recall, f1-score: \n",
      "Precision, Recall and F1 Score: (0.9442058195708347, 0.9453333333333334, 0.9443112641704124, None)\n",
      "Accuracy:  0.9453333333333334\n",
      "Final number of components:  13\n",
      "Final Precision, Recall and F1 Score: (0.9442058195708347, 0.9453333333333334, 0.9443112641704124, None)\n"
     ]
    }
   ],
   "source": [
    "gender_n_pca, gender_pca_cat = find_min_pca_components(\n",
    "    gender_x_train_cat,\n",
    "    gender_x_valid_cat,\n",
    "    gender_y_train_cat,\n",
    "    gender_y_valid_cat,\n",
    "    threshold=0.95,\n",
    ")\n"
   ]
  },
  {
   "cell_type": "code",
   "execution_count": 105,
   "metadata": {},
   "outputs": [],
   "source": [
    "gender_x_train_pca, gender_x_valid_pca, gender_n_components, gender_pca_cat = do_pca(\n",
    "    gender_x_train_cat, gender_x_valid_cat, n_components=32\n",
    ")\n"
   ]
  },
  {
   "cell_type": "code",
   "execution_count": 106,
   "metadata": {},
   "outputs": [
    {
     "data": {
      "text/html": [
       "<style>#sk-container-id-10 {color: black;}#sk-container-id-10 pre{padding: 0;}#sk-container-id-10 div.sk-toggleable {background-color: white;}#sk-container-id-10 label.sk-toggleable__label {cursor: pointer;display: block;width: 100%;margin-bottom: 0;padding: 0.3em;box-sizing: border-box;text-align: center;}#sk-container-id-10 label.sk-toggleable__label-arrow:before {content: \"▸\";float: left;margin-right: 0.25em;color: #696969;}#sk-container-id-10 label.sk-toggleable__label-arrow:hover:before {color: black;}#sk-container-id-10 div.sk-estimator:hover label.sk-toggleable__label-arrow:before {color: black;}#sk-container-id-10 div.sk-toggleable__content {max-height: 0;max-width: 0;overflow: hidden;text-align: left;background-color: #f0f8ff;}#sk-container-id-10 div.sk-toggleable__content pre {margin: 0.2em;color: black;border-radius: 0.25em;background-color: #f0f8ff;}#sk-container-id-10 input.sk-toggleable__control:checked~div.sk-toggleable__content {max-height: 200px;max-width: 100%;overflow: auto;}#sk-container-id-10 input.sk-toggleable__control:checked~label.sk-toggleable__label-arrow:before {content: \"▾\";}#sk-container-id-10 div.sk-estimator input.sk-toggleable__control:checked~label.sk-toggleable__label {background-color: #d4ebff;}#sk-container-id-10 div.sk-label input.sk-toggleable__control:checked~label.sk-toggleable__label {background-color: #d4ebff;}#sk-container-id-10 input.sk-hidden--visually {border: 0;clip: rect(1px 1px 1px 1px);clip: rect(1px, 1px, 1px, 1px);height: 1px;margin: -1px;overflow: hidden;padding: 0;position: absolute;width: 1px;}#sk-container-id-10 div.sk-estimator {font-family: monospace;background-color: #f0f8ff;border: 1px dotted black;border-radius: 0.25em;box-sizing: border-box;margin-bottom: 0.5em;}#sk-container-id-10 div.sk-estimator:hover {background-color: #d4ebff;}#sk-container-id-10 div.sk-parallel-item::after {content: \"\";width: 100%;border-bottom: 1px solid gray;flex-grow: 1;}#sk-container-id-10 div.sk-label:hover label.sk-toggleable__label {background-color: #d4ebff;}#sk-container-id-10 div.sk-serial::before {content: \"\";position: absolute;border-left: 1px solid gray;box-sizing: border-box;top: 0;bottom: 0;left: 50%;z-index: 0;}#sk-container-id-10 div.sk-serial {display: flex;flex-direction: column;align-items: center;background-color: white;padding-right: 0.2em;padding-left: 0.2em;position: relative;}#sk-container-id-10 div.sk-item {position: relative;z-index: 1;}#sk-container-id-10 div.sk-parallel {display: flex;align-items: stretch;justify-content: center;background-color: white;position: relative;}#sk-container-id-10 div.sk-item::before, #sk-container-id-10 div.sk-parallel-item::before {content: \"\";position: absolute;border-left: 1px solid gray;box-sizing: border-box;top: 0;bottom: 0;left: 50%;z-index: -1;}#sk-container-id-10 div.sk-parallel-item {display: flex;flex-direction: column;z-index: 1;position: relative;background-color: white;}#sk-container-id-10 div.sk-parallel-item:first-child::after {align-self: flex-end;width: 50%;}#sk-container-id-10 div.sk-parallel-item:last-child::after {align-self: flex-start;width: 50%;}#sk-container-id-10 div.sk-parallel-item:only-child::after {width: 0;}#sk-container-id-10 div.sk-dashed-wrapped {border: 1px dashed gray;margin: 0 0.4em 0.5em 0.4em;box-sizing: border-box;padding-bottom: 0.4em;background-color: white;}#sk-container-id-10 div.sk-label label {font-family: monospace;font-weight: bold;display: inline-block;line-height: 1.2em;}#sk-container-id-10 div.sk-label-container {text-align: center;}#sk-container-id-10 div.sk-container {/* jupyter's `normalize.less` sets `[hidden] { display: none; }` but bootstrap.min.css set `[hidden] { display: none !important; }` so we also need the `!important` here to be able to override the default hidden behavior on the sphinx rendered scikit-learn.org. See: https://github.com/scikit-learn/scikit-learn/issues/21755 */display: inline-block !important;position: relative;}#sk-container-id-10 div.sk-text-repr-fallback {display: none;}</style><div id=\"sk-container-id-10\" class=\"sk-top-container\"><div class=\"sk-text-repr-fallback\"><pre>SVC()</pre><b>In a Jupyter environment, please rerun this cell to show the HTML representation or trust the notebook. <br />On GitHub, the HTML representation is unable to render, please try loading this page with nbviewer.org.</b></div><div class=\"sk-container\" hidden><div class=\"sk-item\"><div class=\"sk-estimator sk-toggleable\"><input class=\"sk-toggleable__control sk-hidden--visually\" id=\"sk-estimator-id-10\" type=\"checkbox\" checked><label for=\"sk-estimator-id-10\" class=\"sk-toggleable__label sk-toggleable__label-arrow\">SVC</label><div class=\"sk-toggleable__content\"><pre>SVC()</pre></div></div></div></div></div>"
      ],
      "text/plain": [
       "SVC()"
      ]
     },
     "execution_count": 106,
     "metadata": {},
     "output_type": "execute_result"
    }
   ],
   "source": [
    "gender_final = SVC()\n",
    "gender_final.fit(gender_x_train_pca, gender_y_train_cat)\n"
   ]
  },
  {
   "cell_type": "code",
   "execution_count": 107,
   "metadata": {},
   "outputs": [
    {
     "name": "stdout",
     "output_type": "stream",
     "text": [
      "Accuracy:  0.9933333333333333\n",
      "Confusion matrix: \n",
      "[[137   5]\n",
      " [  0 608]]\n",
      "Precision, recall, f1-score: \n",
      "Precision, Recall and F1 Score: (0.9933877107123437, 0.9933333333333333, 0.993287246190472, None)\n"
     ]
    }
   ],
   "source": [
    "gender_precision_recall_fscore_svc_final, gender_cm_final = validate_model(\n",
    "    gender_final, gender_x_valid_pca, gender_y_valid_cat\n",
    ")\n",
    "\n",
    "print(\"Precision, Recall and F1 Score:\",\n",
    "      gender_precision_recall_fscore_svc_final)\n"
   ]
  },
  {
   "cell_type": "code",
   "execution_count": null,
   "metadata": {},
   "outputs": [],
   "source": [
    "# hyperparameter tuning for svc\n",
    "gender_final_models = {\n",
    "    \"gender_SVC\": SVC(),\n",
    "}\n",
    "\n",
    "gender_grid = {\n",
    "    \"C\": [0.1, 1, 10],\n",
    "    \"gamma\": [1, 0.1, 0.01],\n",
    "    \"kernel\": [\"rbf\", \"poly\", \"sigmoid\"],\n",
    "    \"degree\": [1, 2, 3, 4, 5],\n",
    "}\n",
    "\n",
    "gender_grid = {\n",
    "    \"C\": [0.1, 1],\n",
    "    \"gamma\": [1, 0.01],\n",
    "    \"kernel\": [\"rbf\"],\n",
    "    \"degree\": [1, 2],\n",
    "}\n",
    "\n",
    "\n",
    "gender_rs_model = tune_hyperparameters(\n",
    "    gender_final_models,\n",
    "    gender_grid,\n",
    "    gender_x_train_pca,\n",
    "    gender_x_valid_pca,\n",
    "    gender_y_train_cat,\n",
    "    gender_y_valid_cat,\n",
    ")\n"
   ]
  },
  {
   "cell_type": "code",
   "execution_count": null,
   "metadata": {},
   "outputs": [],
   "source": [
    "# validate model\n",
    "gender_precision_recall_fscore_svc_final, gender_cm_final = validate_model(\n",
    "    gender_rs_model._best_estimator, gender_x_valid_pca, gender_y_valid_cat\n",
    ")\n",
    "\n",
    "print(\"Precision, Recall and F1 Score:\",\n",
    "      gender_precision_recall_fscore_svc_final)\n"
   ]
  },
  {
   "cell_type": "code",
   "execution_count": null,
   "metadata": {},
   "outputs": [],
   "source": [
    "id_data_test_cat = pd.concat([x_test_scaled, id_test], axis=1)\n",
    "\n",
    "# Remove rows with null values\n",
    "id_data_cleaned_test_cat = id_data_test_cat.dropna()\n",
    "\n",
    "# Separate X and y again\n",
    "id_x_test_cat = id_data_cleaned_test_cat.drop(columns=[\"label_1\"])\n",
    "id_y_test_cat = id_data_cleaned_test_cat[\"label_1\"].to_frame()\n"
   ]
  },
  {
   "cell_type": "markdown",
   "metadata": {},
   "source": [
    "# Label 4\n"
   ]
  },
  {
   "cell_type": "code",
   "execution_count": 20,
   "metadata": {},
   "outputs": [],
   "source": [
    "# Handling NaN values in the age\n",
    "# Combine X and y into a single DataFrame\n",
    "\n",
    "accent_data_train_cat = pd.concat([x_train_scaled, accent_train], axis=1)\n",
    "accent_data_valid_cat = pd.concat([x_valid_scaled, accent_valid], axis=1)\n",
    "\n",
    "# Remove rows with null values\n",
    "accent_data_cleaned_train_cat = accent_data_train_cat.dropna()\n",
    "accent_data_cleaned_valid_cat = accent_data_valid_cat.dropna()\n",
    "\n",
    "# Separate X and y again\n",
    "accent_x_train_cat = accent_data_cleaned_train_cat.drop(columns=[\"label_4\"])\n",
    "accent_y_train_cat = accent_data_cleaned_train_cat[\"label_4\"]\n",
    "accent_x_valid_cat = accent_data_cleaned_valid_cat.drop(columns=[\"label_4\"])\n",
    "accent_y_valid_cat = accent_data_cleaned_valid_cat[\"label_4\"].to_frame()\n"
   ]
  },
  {
   "cell_type": "code",
   "execution_count": 21,
   "metadata": {},
   "outputs": [],
   "source": [
    "accent_x_test_cat = x_test_scaled\n",
    "\n",
    "accent_initial = SVC(kernel=\"rbf\", C=20, gamma=\"scale\")\n",
    "accent_initial.fit(accent_x_train_cat, accent_y_train_cat)\n",
    "\n",
    "accent_initial_test_preds = accent_initial.predict(accent_x_test_cat)\n",
    "pd.DataFrame(accent_initial_test_preds, columns=[\"label_4\"]).to_csv(\n",
    "    \"accent_initial_test_preds.csv\")\n"
   ]
  },
  {
   "cell_type": "code",
   "execution_count": 22,
   "metadata": {},
   "outputs": [
    {
     "name": "stdout",
     "output_type": "stream",
     "text": [
      "Accuracy:  0.98\n",
      "Confusion matrix: \n",
      "[[ 21   0   0   0   0   0   0   0   0   0   0   0   0   0]\n",
      " [  0  11   0   0   0   0   0   0   0   0   0   0   0   0]\n",
      " [  0   0  27   0   0   0   0   0   0   0   0   0   0   0]\n",
      " [  0   0   0   8   0   0   0   0   0   0   0   0   0   0]\n",
      " [  0   0   0   0  13   0   2   0   0   0   0   0   0   0]\n",
      " [  0   0   0   0   0  10   1   0   0   0   0   0   0   0]\n",
      " [  0   0   0   0   0   0 532   0   0   0   0   0   0   0]\n",
      " [  0   0   0   0   0   0   3  29   0   0   0   0   0   0]\n",
      " [  0   0   0   0   0   0   1   0  18   0   0   0   0   0]\n",
      " [  0   0   0   0   0   0   3   0   0  14   0   0   0   0]\n",
      " [  0   0   0   0   0   0   1   0   0   0   9   0   0   0]\n",
      " [  0   0   0   0   0   0   1   0   0   0   0  10   0   0]\n",
      " [  0   0   0   0   0   0   2   0   0   0   0   0  24   0]\n",
      " [  0   0   0   0   0   0   1   0   0   0   0   0   0   9]]\n",
      "Precision, recall, f1-score: \n",
      "Precision, Recall and F1 Score: (0.9805484460694699, 0.98, 0.9795468516173848, None)\n"
     ]
    }
   ],
   "source": [
    "accent_precision_recall_fscore_svc_initial, accent_cm_initial = validate_model(\n",
    "    accent_initial, accent_x_valid_cat, accent_y_valid_cat)\n",
    "\n",
    "print(\"Precision, Recall and F1 Score:\",\n",
    "      accent_precision_recall_fscore_svc_initial)\n"
   ]
  }
 ],
 "metadata": {
  "kernelspec": {
   "display_name": "CS4622",
   "language": "python",
   "name": "python3"
  },
  "language_info": {
   "codemirror_mode": {
    "name": "ipython",
    "version": 3
   },
   "file_extension": ".py",
   "mimetype": "text/x-python",
   "name": "python",
   "nbconvert_exporter": "python",
   "pygments_lexer": "ipython3",
   "version": "3.10.12"
  },
  "orig_nbformat": 4
 },
 "nbformat": 4,
 "nbformat_minor": 2
}
