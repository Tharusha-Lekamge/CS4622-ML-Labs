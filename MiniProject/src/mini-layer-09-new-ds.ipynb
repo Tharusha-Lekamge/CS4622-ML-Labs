{
 "cells": [
  {
   "cell_type": "markdown",
   "metadata": {},
   "source": [
    "# Dataset\n"
   ]
  },
  {
   "cell_type": "code",
   "execution_count": 1,
   "metadata": {},
   "outputs": [],
   "source": [
    "# Imports\n",
    "\n",
    "\n",
    "from sklearn.tree import DecisionTreeClassifier\n",
    "from sklearn.linear_model import LinearRegression\n",
    "from sklearn.ensemble import RandomForestClassifier\n",
    "from sklearn.svm import SVC\n",
    "import joblib\n",
    "\n",
    "import math\n",
    "import seaborn as sns\n",
    "import warnings                   # To ignore the warnings\n",
    "import pandas as pd\n",
    "import numpy as np          # For mathematical calculations\n",
    "import matplotlib.pyplot as plt  # For plotting graphs\n",
    "from datetime import datetime    # To access datetime\n",
    "from pandas import Series        # To work on series\n",
    "\n",
    "from sklearn.preprocessing import LabelEncoder\n",
    "from sklearn.preprocessing import StandardScaler\n",
    "from sklearn.preprocessing import RobustScaler\n",
    "from sklearn.metrics import mean_squared_error\n",
    "from sklearn.decomposition import PCA\n",
    "from sklearn.feature_selection import SelectKBest, f_classif\n",
    "\n",
    "from sklearn.metrics import accuracy_score\n",
    "from sklearn.metrics import confusion_matrix\n",
    "from sklearn.metrics import precision_recall_fscore_support\n",
    "\n",
    "from xgboost import XGBClassifier\n",
    "\n",
    "# import RandomizedSearchCV\n",
    "from sklearn.model_selection import RandomizedSearchCV\n",
    "\n",
    "%matplotlib inline\n",
    "warnings.filterwarnings(\"ignore\")\n"
   ]
  },
  {
   "cell_type": "code",
   "execution_count": 2,
   "metadata": {},
   "outputs": [],
   "source": [
    "# Data extraction\n",
    "\n",
    "train_layer_9 = pd.read_csv(\"../data/layer10/train_10.csv\")\n",
    "test_layer_9 = pd.read_csv(\"../data/layer10/test_10.csv\")\n",
    "valid_layer_9 = pd.read_csv(\"../data/layer10/valid_10.csv\")"
   ]
  },
  {
   "cell_type": "code",
   "execution_count": 3,
   "metadata": {},
   "outputs": [],
   "source": [
    "# Extracting x and y\n",
    "\n",
    "x_train = train_layer_9.copy().drop(\n",
    "    columns=[\"label_1\", \"label_2\", \"label_3\", \"label_4\"]\n",
    ")\n",
    "x_valid = valid_layer_9.copy().drop(\n",
    "    columns=[\"label_1\", \"label_2\", \"label_3\", \"label_4\"]\n",
    ")\n",
    "x_feature_names = [\"feature_\" + str(i) for i in range(1, 769)]\n",
    "\n",
    "id_train = train_layer_9[\"label_1\"].to_frame()\n",
    "age_train = train_layer_9[\"label_2\"].to_frame()  # id has NaN\n",
    "gender_train = train_layer_9[\"label_3\"].to_frame()\n",
    "accent_train = train_layer_9[\"label_4\"].to_frame()  # Accent has bias to 6\n",
    "\n",
    "id_valid = valid_layer_9[\"label_1\"].to_frame()\n",
    "age_valid = valid_layer_9[\"label_2\"].to_frame()\n",
    "gender_valid = valid_layer_9[\"label_3\"].to_frame()\n",
    "accent_valid = valid_layer_9[\"label_4\"].to_frame()"
   ]
  },
  {
   "cell_type": "code",
   "execution_count": 4,
   "metadata": {},
   "outputs": [],
   "source": [
    "# Scaling using RobustScaler\n",
    "scaler_robust = RobustScaler()\n",
    "scaler_robust.fit(x_train)\n",
    "\n",
    "x_train_scaled = pd.DataFrame(scaler_robust.transform(x_train), columns=x_feature_names)\n",
    "x_valid_scaled = pd.DataFrame(scaler_robust.transform(x_valid), columns=x_feature_names)\n",
    "\n",
    "x_test = test_layer_9.copy().drop(columns=[\"ID\"])\n",
    "x_test_scaled = pd.DataFrame(scaler_robust.transform(x_test), columns=x_feature_names)"
   ]
  },
  {
   "cell_type": "code",
   "execution_count": 5,
   "metadata": {},
   "outputs": [
    {
     "data": {
      "text/plain": [
       "(480, 1)"
      ]
     },
     "execution_count": 5,
     "metadata": {},
     "output_type": "execute_result"
    }
   ],
   "source": [
    "age_train[age_train[\"label_2\"].isnull()].shape"
   ]
  },
  {
   "cell_type": "markdown",
   "metadata": {},
   "source": [
    "### Support Functions\n"
   ]
  },
  {
   "cell_type": "code",
   "execution_count": 7,
   "metadata": {},
   "outputs": [],
   "source": [
    "def validate_model(model, x_valid, y_valid):\n",
    "    y_pred = model.predict(x_valid)\n",
    "    accuracy = accuracy_score(y_valid, y_pred)\n",
    "    print(\"Accuracy: \", accuracy)\n",
    "    cm = confusion_matrix(y_valid, y_pred)\n",
    "    print(\"Confusion matrix: \")\n",
    "    print(cm)\n",
    "    print(\"Precision, recall, f1-score: \")\n",
    "    prfs_ = precision_recall_fscore_support(y_valid, y_pred, average=\"weighted\")\n",
    "    return prfs_, cm"
   ]
  },
  {
   "cell_type": "code",
   "execution_count": 7,
   "metadata": {},
   "outputs": [],
   "source": [
    "def do_pca(train, valid, variance: float = None, n_components: int = None):\n",
    "    pca_obj = PCA(n_components=0.99, svd_solver=\"full\")\n",
    "    if variance:\n",
    "        pca_obj = PCA(n_components=variance, svd_solver=\"full\")\n",
    "    elif n_components:\n",
    "        pca_obj = PCA(n_components=n_components)\n",
    "    pca_obj.fit(train)\n",
    "    n_components = pca_obj.components_.shape[0]\n",
    "\n",
    "    x_train = pd.DataFrame(\n",
    "        pca_obj.transform(train),\n",
    "        columns=[\"feature_pca_\" + str(i) for i in range(1, n_components + 1)],\n",
    "    )\n",
    "    x_valid = pd.DataFrame(\n",
    "        pca_obj.transform(valid),\n",
    "        columns=[\"feature_pca_\" + str(i) for i in range(1, n_components + 1)],\n",
    "    )\n",
    "\n",
    "    return x_train, x_valid, n_components, pca_obj"
   ]
  },
  {
   "cell_type": "code",
   "execution_count": 8,
   "metadata": {},
   "outputs": [],
   "source": [
    "def fit_and_score(classifier_models, x_train, x_valid, y_train, y_valid):\n",
    "    \"\"\"\n",
    "    Fits and evaluates given classifier models.\n",
    "    classifier_models : a dict of different Scikit-Learn classifier models\n",
    "    x_train : training data (no labels)\n",
    "    x_valid : validation data (no labels)\n",
    "    y_train : training labels\n",
    "    y_valid : validation labels\n",
    "    \"\"\"\n",
    "    # Set random seed\n",
    "    np.random.seed(42)\n",
    "    # Make a dictionary to keep model scores\n",
    "    classifier_model_scores = {}\n",
    "    # Loop through classifier_models\n",
    "    for name, model in classifier_models.items():\n",
    "        print(f\"Fitting {name}...\")\n",
    "        # Fit the model to the data\n",
    "        model.fit(x_train, y_train)\n",
    "        # Evaluate the model and append its score to classifier_model_scores\n",
    "        classifier_model_scores[name] = model.score(x_valid, y_valid)\n",
    "        print(\"Done fitting and scoring model.\")\n",
    "    return classifier_model_scores"
   ]
  },
  {
   "cell_type": "code",
   "execution_count": 9,
   "metadata": {},
   "outputs": [],
   "source": [
    "def tune_hyperparameters(classifier_models, grid, x_train, x_valid, y_train, y_valid):\n",
    "    \"\"\"\n",
    "    Fits and evaluates given classifier models.\n",
    "    classifier_models : a dict of different Scikit-Learn classifier models\n",
    "    grid : a dict of hyperparameters to tune\n",
    "    x_train : training data (no labels)\n",
    "    x_valid : validation data (no labels)\n",
    "    y_train : training labels\n",
    "    y_valid : validation labels\n",
    "    \"\"\"\n",
    "    # Set random seed\n",
    "    np.random.seed(42)\n",
    "    # Make a dictionary to keep model scores\n",
    "    classifier_model_scores = {}\n",
    "    trained_searches = {}\n",
    "    # Loop through classifier_models\n",
    "    for name, model in classifier_models.items():\n",
    "        # Setup random hyperparameter search for model\n",
    "        rs_model = RandomizedSearchCV(\n",
    "            estimator=model,\n",
    "            param_distributions=grid,\n",
    "            n_iter=20,\n",
    "            cv=5,\n",
    "            verbose=3,\n",
    "            random_state=42,\n",
    "            n_jobs=-1,\n",
    "        )\n",
    "        # Fit random hyperparameter search model\n",
    "        fileName = name + \"_rs_model\" + \".pkl\"\n",
    "        rs_model.fit(x_train, y_train)\n",
    "        # Export rs_model using joblib\n",
    "        joblib.dump(rs_model, fileName)\n",
    "        trained_searches[name] = rs_model\n",
    "\n",
    "        # Evaluate the model and append its score to classifier_model_scores\n",
    "        classifier_model_scores[name] = rs_model.score(x_valid, y_valid)\n",
    "        print(\"classifier model scores\", classifier_model_scores)\n",
    "    return trained_searches"
   ]
  },
  {
   "cell_type": "code",
   "execution_count": 10,
   "metadata": {},
   "outputs": [],
   "source": [
    "def write_test_pred_to_csv(model, x_test, csv_name=\"test_pred.csv\"):\n",
    "    y_pred = model.predict(x_test)\n",
    "    y_pred = pd.DataFrame(y_pred, columns=[\"label\"])\n",
    "    y_pred.to_csv(csv_name, index=False)"
   ]
  },
  {
   "cell_type": "code",
   "execution_count": 11,
   "metadata": {},
   "outputs": [],
   "source": [
    "def find_min_pca_components(\n",
    "    x_train, x_valid, y_train, y_valid, threshold: float = 0.90\n",
    "):\n",
    "    # Find min number of components for 90% accuracy\n",
    "    score = 1\n",
    "\n",
    "    while score > threshold:\n",
    "        x_train, x_valid, id_n_components, id_pca_cat = do_pca(\n",
    "            x_train, x_valid, variance=0.95\n",
    "        )\n",
    "\n",
    "        print(\"Number of components: \", id_n_components)\n",
    "\n",
    "        id_final = SVC()\n",
    "        id_final.fit(x_train, y_train)\n",
    "\n",
    "        precision_recall_fscore_svc_final, cm_final = validate_model(\n",
    "            id_final, x_valid, y_valid\n",
    "        )\n",
    "\n",
    "        print(\"Precision, Recall and F1 Score:\", precision_recall_fscore_svc_final)\n",
    "\n",
    "        y_pred = id_final.predict(x_valid)\n",
    "        score = accuracy_score(y_valid, y_pred)\n",
    "        print(\"Accuracy: \", score)\n",
    "\n",
    "    print(\"Final number of components: \", id_n_components)\n",
    "    print(\"Final Precision, Recall and F1 Score:\", precision_recall_fscore_svc_final)\n",
    "    return id_n_components, id_pca_cat"
   ]
  },
  {
   "cell_type": "markdown",
   "metadata": {},
   "source": [
    "# Label 1\n"
   ]
  },
  {
   "cell_type": "markdown",
   "metadata": {},
   "source": [
    "use {'kernel': 'rbf', 'gamma': 0.001, 'degree': 5, 'C': 10}\n"
   ]
  },
  {
   "cell_type": "code",
   "execution_count": 12,
   "metadata": {},
   "outputs": [],
   "source": [
    "import shap"
   ]
  },
  {
   "cell_type": "code",
   "execution_count": 13,
   "metadata": {},
   "outputs": [],
   "source": [
    "id_data_train_cat = pd.concat([x_train_scaled, id_train], axis=1)\n",
    "id_data_valid_cat = pd.concat([x_valid_scaled, id_valid], axis=1)\n",
    "\n",
    "# Remove rows with null values\n",
    "id_data_cleaned_train_cat = id_data_train_cat.dropna()\n",
    "id_data_cleaned_valid_cat = id_data_valid_cat.dropna()\n",
    "\n",
    "# Separate X and y again\n",
    "id_x_train_cat = id_data_cleaned_train_cat.drop(columns=[\"label_1\"])\n",
    "id_y_train_cat = id_data_cleaned_train_cat[\"label_1\"]\n",
    "id_x_valid_cat = id_data_cleaned_valid_cat.drop(columns=[\"label_1\"])\n",
    "id_y_valid_cat = id_data_cleaned_valid_cat[\"label_1\"].to_frame()\n",
    "\n",
    "id_x_test_cat = x_test_scaled"
   ]
  },
  {
   "cell_type": "markdown",
   "metadata": {},
   "source": [
    "### Initial Model SVC\n"
   ]
  },
  {
   "cell_type": "code",
   "execution_count": 14,
   "metadata": {},
   "outputs": [
    {
     "data": {
      "text/html": [
       "<style>#sk-container-id-1 {color: black;}#sk-container-id-1 pre{padding: 0;}#sk-container-id-1 div.sk-toggleable {background-color: white;}#sk-container-id-1 label.sk-toggleable__label {cursor: pointer;display: block;width: 100%;margin-bottom: 0;padding: 0.3em;box-sizing: border-box;text-align: center;}#sk-container-id-1 label.sk-toggleable__label-arrow:before {content: \"▸\";float: left;margin-right: 0.25em;color: #696969;}#sk-container-id-1 label.sk-toggleable__label-arrow:hover:before {color: black;}#sk-container-id-1 div.sk-estimator:hover label.sk-toggleable__label-arrow:before {color: black;}#sk-container-id-1 div.sk-toggleable__content {max-height: 0;max-width: 0;overflow: hidden;text-align: left;background-color: #f0f8ff;}#sk-container-id-1 div.sk-toggleable__content pre {margin: 0.2em;color: black;border-radius: 0.25em;background-color: #f0f8ff;}#sk-container-id-1 input.sk-toggleable__control:checked~div.sk-toggleable__content {max-height: 200px;max-width: 100%;overflow: auto;}#sk-container-id-1 input.sk-toggleable__control:checked~label.sk-toggleable__label-arrow:before {content: \"▾\";}#sk-container-id-1 div.sk-estimator input.sk-toggleable__control:checked~label.sk-toggleable__label {background-color: #d4ebff;}#sk-container-id-1 div.sk-label input.sk-toggleable__control:checked~label.sk-toggleable__label {background-color: #d4ebff;}#sk-container-id-1 input.sk-hidden--visually {border: 0;clip: rect(1px 1px 1px 1px);clip: rect(1px, 1px, 1px, 1px);height: 1px;margin: -1px;overflow: hidden;padding: 0;position: absolute;width: 1px;}#sk-container-id-1 div.sk-estimator {font-family: monospace;background-color: #f0f8ff;border: 1px dotted black;border-radius: 0.25em;box-sizing: border-box;margin-bottom: 0.5em;}#sk-container-id-1 div.sk-estimator:hover {background-color: #d4ebff;}#sk-container-id-1 div.sk-parallel-item::after {content: \"\";width: 100%;border-bottom: 1px solid gray;flex-grow: 1;}#sk-container-id-1 div.sk-label:hover label.sk-toggleable__label {background-color: #d4ebff;}#sk-container-id-1 div.sk-serial::before {content: \"\";position: absolute;border-left: 1px solid gray;box-sizing: border-box;top: 0;bottom: 0;left: 50%;z-index: 0;}#sk-container-id-1 div.sk-serial {display: flex;flex-direction: column;align-items: center;background-color: white;padding-right: 0.2em;padding-left: 0.2em;position: relative;}#sk-container-id-1 div.sk-item {position: relative;z-index: 1;}#sk-container-id-1 div.sk-parallel {display: flex;align-items: stretch;justify-content: center;background-color: white;position: relative;}#sk-container-id-1 div.sk-item::before, #sk-container-id-1 div.sk-parallel-item::before {content: \"\";position: absolute;border-left: 1px solid gray;box-sizing: border-box;top: 0;bottom: 0;left: 50%;z-index: -1;}#sk-container-id-1 div.sk-parallel-item {display: flex;flex-direction: column;z-index: 1;position: relative;background-color: white;}#sk-container-id-1 div.sk-parallel-item:first-child::after {align-self: flex-end;width: 50%;}#sk-container-id-1 div.sk-parallel-item:last-child::after {align-self: flex-start;width: 50%;}#sk-container-id-1 div.sk-parallel-item:only-child::after {width: 0;}#sk-container-id-1 div.sk-dashed-wrapped {border: 1px dashed gray;margin: 0 0.4em 0.5em 0.4em;box-sizing: border-box;padding-bottom: 0.4em;background-color: white;}#sk-container-id-1 div.sk-label label {font-family: monospace;font-weight: bold;display: inline-block;line-height: 1.2em;}#sk-container-id-1 div.sk-label-container {text-align: center;}#sk-container-id-1 div.sk-container {/* jupyter's `normalize.less` sets `[hidden] { display: none; }` but bootstrap.min.css set `[hidden] { display: none !important; }` so we also need the `!important` here to be able to override the default hidden behavior on the sphinx rendered scikit-learn.org. See: https://github.com/scikit-learn/scikit-learn/issues/21755 */display: inline-block !important;position: relative;}#sk-container-id-1 div.sk-text-repr-fallback {display: none;}</style><div id=\"sk-container-id-1\" class=\"sk-top-container\"><div class=\"sk-text-repr-fallback\"><pre>SVC(C=20)</pre><b>In a Jupyter environment, please rerun this cell to show the HTML representation or trust the notebook. <br />On GitHub, the HTML representation is unable to render, please try loading this page with nbviewer.org.</b></div><div class=\"sk-container\" hidden><div class=\"sk-item\"><div class=\"sk-estimator sk-toggleable\"><input class=\"sk-toggleable__control sk-hidden--visually\" id=\"sk-estimator-id-1\" type=\"checkbox\" checked><label for=\"sk-estimator-id-1\" class=\"sk-toggleable__label sk-toggleable__label-arrow\">SVC</label><div class=\"sk-toggleable__content\"><pre>SVC(C=20)</pre></div></div></div></div></div>"
      ],
      "text/plain": [
       "SVC(C=20)"
      ]
     },
     "execution_count": 14,
     "metadata": {},
     "output_type": "execute_result"
    }
   ],
   "source": [
    "id_initial = SVC(kernel=\"rbf\", C=20, gamma=\"scale\")\n",
    "# {'kernel': 'rbf', 'gamma': 'scale', 'C': 20}\n",
    "id_initial.fit(id_x_train_cat, id_y_train_cat)"
   ]
  },
  {
   "cell_type": "code",
   "execution_count": 15,
   "metadata": {},
   "outputs": [
    {
     "name": "stdout",
     "output_type": "stream",
     "text": [
      "Accuracy:  0.968\n",
      "Confusion matrix: \n",
      "[[12  0  0 ...  0  0  0]\n",
      " [ 0  9  0 ...  0  0  0]\n",
      " [ 0  0 12 ...  0  0  0]\n",
      " ...\n",
      " [ 0  0  0 ... 20  0  0]\n",
      " [ 0  0  0 ...  0 10  0]\n",
      " [ 0  0  0 ...  0  0 10]]\n",
      "Precision, recall, f1-score: \n",
      "Precision, Recall and F1 Score: (0.9710426720052107, 0.968, 0.9681729568549567, None)\n"
     ]
    }
   ],
   "source": [
    "precision_recall_fscore_svc_initial, cm_initial = validate_model(\n",
    "    id_initial, id_x_valid_cat, id_y_valid_cat\n",
    ")\n",
    "\n",
    "print(\"Precision, Recall and F1 Score:\", precision_recall_fscore_svc_initial)\n",
    "# Accuracy:  0.9573333333333334 ->"
   ]
  },
  {
   "cell_type": "code",
   "execution_count": 16,
   "metadata": {},
   "outputs": [],
   "source": [
    "id_initial_test_preds = id_initial.predict(id_x_valid_cat)\n",
    "pd.DataFrame(id_initial_test_preds, columns=[\"label_1\"]).to_csv(\n",
    "    \"id_initial_valid_preds.csv\"\n",
    ")"
   ]
  },
  {
   "cell_type": "markdown",
   "metadata": {},
   "source": [
    "### Data Processing - PCA\n"
   ]
  },
  {
   "cell_type": "code",
   "execution_count": 17,
   "metadata": {},
   "outputs": [],
   "source": [
    "id_x_train_pca, id_x_valid_pca, id_n_components, id_pca_cat = do_pca(\n",
    "    id_x_train_cat, id_x_valid_cat, n_components=70\n",
    ")\n",
    "id_x_test_pca = pd.DataFrame(\n",
    "    id_pca_cat.transform(id_x_test_cat),\n",
    "    columns=[\"feature_pca_\" + str(i) for i in range(1, id_n_components + 1)],\n",
    ")"
   ]
  },
  {
   "cell_type": "code",
   "execution_count": 18,
   "metadata": {},
   "outputs": [
    {
     "data": {
      "image/png": "[encoded data removed]",
      "text/plain": [
       "<Figure size 640x480 with 1 Axes>"
      ]
     },
     "metadata": {},
     "output_type": "display_data"
    }
   ],
   "source": [
    "# Plot variance vs number of components\n",
    "plt.figure()\n",
    "plt.plot(np.cumsum(id_pca_cat.explained_variance_ratio_))\n",
    "plt.xlabel(\"Number of Components\")\n",
    "plt.ylabel(\"Variance (%)\")  # for each component\n",
    "plt.title(\"Explained Variance for ID - 99% variance\")\n",
    "# vertical line at 70\n",
    "plt.axvline(x=70, c=\"b\")\n",
    "# label the line\n",
    "plt.text(75, 0.6, \"70 components cutoff\")\n",
    "plt.show()"
   ]
  },
  {
   "cell_type": "code",
   "execution_count": 19,
   "metadata": {},
   "outputs": [
    {
     "name": "stdout",
     "output_type": "stream",
     "text": [
      "Number of components:  70\n"
     ]
    }
   ],
   "source": [
    "print(\"Number of components: \", id_n_components)"
   ]
  },
  {
   "cell_type": "markdown",
   "metadata": {},
   "source": [
    "### Final Model SVC\n"
   ]
  },
  {
   "cell_type": "code",
   "execution_count": 20,
   "metadata": {},
   "outputs": [
    {
     "data": {
      "text/html": [
       "<style>#sk-container-id-2 {color: black;}#sk-container-id-2 pre{padding: 0;}#sk-container-id-2 div.sk-toggleable {background-color: white;}#sk-container-id-2 label.sk-toggleable__label {cursor: pointer;display: block;width: 100%;margin-bottom: 0;padding: 0.3em;box-sizing: border-box;text-align: center;}#sk-container-id-2 label.sk-toggleable__label-arrow:before {content: \"▸\";float: left;margin-right: 0.25em;color: #696969;}#sk-container-id-2 label.sk-toggleable__label-arrow:hover:before {color: black;}#sk-container-id-2 div.sk-estimator:hover label.sk-toggleable__label-arrow:before {color: black;}#sk-container-id-2 div.sk-toggleable__content {max-height: 0;max-width: 0;overflow: hidden;text-align: left;background-color: #f0f8ff;}#sk-container-id-2 div.sk-toggleable__content pre {margin: 0.2em;color: black;border-radius: 0.25em;background-color: #f0f8ff;}#sk-container-id-2 input.sk-toggleable__control:checked~div.sk-toggleable__content {max-height: 200px;max-width: 100%;overflow: auto;}#sk-container-id-2 input.sk-toggleable__control:checked~label.sk-toggleable__label-arrow:before {content: \"▾\";}#sk-container-id-2 div.sk-estimator input.sk-toggleable__control:checked~label.sk-toggleable__label {background-color: #d4ebff;}#sk-container-id-2 div.sk-label input.sk-toggleable__control:checked~label.sk-toggleable__label {background-color: #d4ebff;}#sk-container-id-2 input.sk-hidden--visually {border: 0;clip: rect(1px 1px 1px 1px);clip: rect(1px, 1px, 1px, 1px);height: 1px;margin: -1px;overflow: hidden;padding: 0;position: absolute;width: 1px;}#sk-container-id-2 div.sk-estimator {font-family: monospace;background-color: #f0f8ff;border: 1px dotted black;border-radius: 0.25em;box-sizing: border-box;margin-bottom: 0.5em;}#sk-container-id-2 div.sk-estimator:hover {background-color: #d4ebff;}#sk-container-id-2 div.sk-parallel-item::after {content: \"\";width: 100%;border-bottom: 1px solid gray;flex-grow: 1;}#sk-container-id-2 div.sk-label:hover label.sk-toggleable__label {background-color: #d4ebff;}#sk-container-id-2 div.sk-serial::before {content: \"\";position: absolute;border-left: 1px solid gray;box-sizing: border-box;top: 0;bottom: 0;left: 50%;z-index: 0;}#sk-container-id-2 div.sk-serial {display: flex;flex-direction: column;align-items: center;background-color: white;padding-right: 0.2em;padding-left: 0.2em;position: relative;}#sk-container-id-2 div.sk-item {position: relative;z-index: 1;}#sk-container-id-2 div.sk-parallel {display: flex;align-items: stretch;justify-content: center;background-color: white;position: relative;}#sk-container-id-2 div.sk-item::before, #sk-container-id-2 div.sk-parallel-item::before {content: \"\";position: absolute;border-left: 1px solid gray;box-sizing: border-box;top: 0;bottom: 0;left: 50%;z-index: -1;}#sk-container-id-2 div.sk-parallel-item {display: flex;flex-direction: column;z-index: 1;position: relative;background-color: white;}#sk-container-id-2 div.sk-parallel-item:first-child::after {align-self: flex-end;width: 50%;}#sk-container-id-2 div.sk-parallel-item:last-child::after {align-self: flex-start;width: 50%;}#sk-container-id-2 div.sk-parallel-item:only-child::after {width: 0;}#sk-container-id-2 div.sk-dashed-wrapped {border: 1px dashed gray;margin: 0 0.4em 0.5em 0.4em;box-sizing: border-box;padding-bottom: 0.4em;background-color: white;}#sk-container-id-2 div.sk-label label {font-family: monospace;font-weight: bold;display: inline-block;line-height: 1.2em;}#sk-container-id-2 div.sk-label-container {text-align: center;}#sk-container-id-2 div.sk-container {/* jupyter's `normalize.less` sets `[hidden] { display: none; }` but bootstrap.min.css set `[hidden] { display: none !important; }` so we also need the `!important` here to be able to override the default hidden behavior on the sphinx rendered scikit-learn.org. See: https://github.com/scikit-learn/scikit-learn/issues/21755 */display: inline-block !important;position: relative;}#sk-container-id-2 div.sk-text-repr-fallback {display: none;}</style><div id=\"sk-container-id-2\" class=\"sk-top-container\"><div class=\"sk-text-repr-fallback\"><pre>SVC(C=20, degree=5)</pre><b>In a Jupyter environment, please rerun this cell to show the HTML representation or trust the notebook. <br />On GitHub, the HTML representation is unable to render, please try loading this page with nbviewer.org.</b></div><div class=\"sk-container\" hidden><div class=\"sk-item\"><div class=\"sk-estimator sk-toggleable\"><input class=\"sk-toggleable__control sk-hidden--visually\" id=\"sk-estimator-id-2\" type=\"checkbox\" checked><label for=\"sk-estimator-id-2\" class=\"sk-toggleable__label sk-toggleable__label-arrow\">SVC</label><div class=\"sk-toggleable__content\"><pre>SVC(C=20, degree=5)</pre></div></div></div></div></div>"
      ],
      "text/plain": [
       "SVC(C=20, degree=5)"
      ]
     },
     "execution_count": 20,
     "metadata": {},
     "output_type": "execute_result"
    }
   ],
   "source": [
    "id_final = SVC(kernel=\"rbf\", C=20, gamma=\"scale\", degree=5)\n",
    "id_final.fit(id_x_train_pca, id_y_train_cat)"
   ]
  },
  {
   "cell_type": "code",
   "execution_count": 21,
   "metadata": {},
   "outputs": [
    {
     "name": "stdout",
     "output_type": "stream",
     "text": [
      "Accuracy:  0.948\n",
      "Confusion matrix: \n",
      "[[12  0  0 ...  0  0  0]\n",
      " [ 0  9  0 ...  0  0  0]\n",
      " [ 0  0 12 ...  0  0  0]\n",
      " ...\n",
      " [ 0  0  0 ... 20  0  0]\n",
      " [ 0  0  0 ...  0 10  0]\n",
      " [ 0  0  0 ...  0  0 10]]\n",
      "Precision, recall, f1-score: \n",
      "Precision, Recall and F1 Score: (0.9519632041161453, 0.948, 0.9480309340405871, None)\n"
     ]
    }
   ],
   "source": [
    "precision_recall_fscore_svc_final, cm_final = validate_model(\n",
    "    id_final, id_x_valid_pca, id_y_valid_cat\n",
    ")\n",
    "\n",
    "print(\"Precision, Recall and F1 Score:\", precision_recall_fscore_svc_final)"
   ]
  },
  {
   "cell_type": "code",
   "execution_count": 22,
   "metadata": {},
   "outputs": [],
   "source": [
    "id_final_train_preds = id_final.predict(id_x_train_pca)\n",
    "pd.DataFrame(id_final_train_preds, columns=[\"label_1\"]).to_csv(\n",
    "    \"id_final_train_preds.csv\"\n",
    ")\n",
    "id_final_test_preds = id_final.predict(id_x_test_pca)\n",
    "pd.DataFrame(id_final_test_preds, columns=[\"label_1\"]).to_csv(\n",
    "    \"id_final_test_preds.csv\")\n",
    "id_final_valid_preds = id_final.predict(id_x_valid_pca)\n",
    "pd.DataFrame(id_final_valid_preds, columns=[\"label_1\"]).to_csv(\n",
    "    \"id_final_valid_preds.csv\"\n",
    ")\n"
   ]
  },
  {
   "cell_type": "markdown",
   "metadata": {},
   "source": [
    "# Label 2\n"
   ]
  },
  {
   "cell_type": "markdown",
   "metadata": {},
   "source": [
    "{'kernel': 'rbf', 'gamma': 0.001, 'degree': 5, 'C': 10}\n"
   ]
  },
  {
   "cell_type": "code",
   "execution_count": 23,
   "metadata": {},
   "outputs": [],
   "source": [
    "# Handling NaN values in the age\n",
    "# Combine X and y into a single DataFrame\n",
    "\n",
    "age_data_train_cat = pd.concat([x_train_scaled, age_train], axis=1)\n",
    "age_data_valid_cat = pd.concat([x_valid_scaled, age_valid], axis=1)\n",
    "\n",
    "# Remove rows with null values\n",
    "age_data_cleaned_train_cat = age_data_train_cat.dropna()\n",
    "age_data_cleaned_valid_cat = age_data_valid_cat.dropna()\n",
    "\n",
    "# Separate X and y again\n",
    "age_x_train_cat = age_data_cleaned_train_cat.drop(columns=[\"label_2\"])\n",
    "age_y_train_cat = age_data_cleaned_train_cat[\"label_2\"]\n",
    "age_x_valid_cat = age_data_cleaned_valid_cat.drop(columns=[\"label_2\"])\n",
    "age_y_valid_cat = age_data_cleaned_valid_cat[\"label_2\"].to_frame()\n",
    "\n",
    "age_x_test_cat = x_test_scaled"
   ]
  },
  {
   "cell_type": "code",
   "execution_count": 24,
   "metadata": {},
   "outputs": [
    {
     "data": {
      "image/png": "[encoded data removed]",
      "text/plain": [
       "<Figure size 640x480 with 1 Axes>"
      ]
     },
     "metadata": {},
     "output_type": "display_data"
    }
   ],
   "source": [
    "age_x_train_pca, age_x_valid_pca, age_n_components, age_pca_cat = do_pca(\n",
    "    age_x_train_cat, age_x_valid_cat\n",
    ")\n",
    "\n",
    "# Plot variance vs number of components\n",
    "plt.figure()\n",
    "plt.plot(np.cumsum(age_pca_cat.explained_variance_ratio_))\n",
    "plt.xlabel(\"Number of Components\")\n",
    "plt.ylabel(\"Variance (%)\")  # for each component\n",
    "plt.title(\"Explained Variance for Age - 99% variance\")\n",
    "# vertical line at 70\n",
    "plt.axvline(x=180, c=\"b\")\n",
    "# label the line\n",
    "plt.text(185, 0.6, \"180 components cutoff\")\n",
    "plt.show()"
   ]
  },
  {
   "cell_type": "code",
   "execution_count": 25,
   "metadata": {},
   "outputs": [],
   "source": [
    "age_x_train_pca, age_x_valid_pca, age_n_components, age_pca_cat = do_pca(\n",
    "    age_x_train_cat, age_x_valid_cat, n_components=180\n",
    ")\n",
    "age_x_test_pca = pd.DataFrame(\n",
    "    age_pca_cat.transform(age_x_test_cat),\n",
    "    columns=[\"feature_pca_\" + str(i) for i in range(1, age_n_components + 1)],\n",
    ")"
   ]
  },
  {
   "cell_type": "code",
   "execution_count": 26,
   "metadata": {},
   "outputs": [
    {
     "data": {
      "text/html": [
       "<style>#sk-container-id-3 {color: black;}#sk-container-id-3 pre{padding: 0;}#sk-container-id-3 div.sk-toggleable {background-color: white;}#sk-container-id-3 label.sk-toggleable__label {cursor: pointer;display: block;width: 100%;margin-bottom: 0;padding: 0.3em;box-sizing: border-box;text-align: center;}#sk-container-id-3 label.sk-toggleable__label-arrow:before {content: \"▸\";float: left;margin-right: 0.25em;color: #696969;}#sk-container-id-3 label.sk-toggleable__label-arrow:hover:before {color: black;}#sk-container-id-3 div.sk-estimator:hover label.sk-toggleable__label-arrow:before {color: black;}#sk-container-id-3 div.sk-toggleable__content {max-height: 0;max-width: 0;overflow: hidden;text-align: left;background-color: #f0f8ff;}#sk-container-id-3 div.sk-toggleable__content pre {margin: 0.2em;color: black;border-radius: 0.25em;background-color: #f0f8ff;}#sk-container-id-3 input.sk-toggleable__control:checked~div.sk-toggleable__content {max-height: 200px;max-width: 100%;overflow: auto;}#sk-container-id-3 input.sk-toggleable__control:checked~label.sk-toggleable__label-arrow:before {content: \"▾\";}#sk-container-id-3 div.sk-estimator input.sk-toggleable__control:checked~label.sk-toggleable__label {background-color: #d4ebff;}#sk-container-id-3 div.sk-label input.sk-toggleable__control:checked~label.sk-toggleable__label {background-color: #d4ebff;}#sk-container-id-3 input.sk-hidden--visually {border: 0;clip: rect(1px 1px 1px 1px);clip: rect(1px, 1px, 1px, 1px);height: 1px;margin: -1px;overflow: hidden;padding: 0;position: absolute;width: 1px;}#sk-container-id-3 div.sk-estimator {font-family: monospace;background-color: #f0f8ff;border: 1px dotted black;border-radius: 0.25em;box-sizing: border-box;margin-bottom: 0.5em;}#sk-container-id-3 div.sk-estimator:hover {background-color: #d4ebff;}#sk-container-id-3 div.sk-parallel-item::after {content: \"\";width: 100%;border-bottom: 1px solid gray;flex-grow: 1;}#sk-container-id-3 div.sk-label:hover label.sk-toggleable__label {background-color: #d4ebff;}#sk-container-id-3 div.sk-serial::before {content: \"\";position: absolute;border-left: 1px solid gray;box-sizing: border-box;top: 0;bottom: 0;left: 50%;z-index: 0;}#sk-container-id-3 div.sk-serial {display: flex;flex-direction: column;align-items: center;background-color: white;padding-right: 0.2em;padding-left: 0.2em;position: relative;}#sk-container-id-3 div.sk-item {position: relative;z-index: 1;}#sk-container-id-3 div.sk-parallel {display: flex;align-items: stretch;justify-content: center;background-color: white;position: relative;}#sk-container-id-3 div.sk-item::before, #sk-container-id-3 div.sk-parallel-item::before {content: \"\";position: absolute;border-left: 1px solid gray;box-sizing: border-box;top: 0;bottom: 0;left: 50%;z-index: -1;}#sk-container-id-3 div.sk-parallel-item {display: flex;flex-direction: column;z-index: 1;position: relative;background-color: white;}#sk-container-id-3 div.sk-parallel-item:first-child::after {align-self: flex-end;width: 50%;}#sk-container-id-3 div.sk-parallel-item:last-child::after {align-self: flex-start;width: 50%;}#sk-container-id-3 div.sk-parallel-item:only-child::after {width: 0;}#sk-container-id-3 div.sk-dashed-wrapped {border: 1px dashed gray;margin: 0 0.4em 0.5em 0.4em;box-sizing: border-box;padding-bottom: 0.4em;background-color: white;}#sk-container-id-3 div.sk-label label {font-family: monospace;font-weight: bold;display: inline-block;line-height: 1.2em;}#sk-container-id-3 div.sk-label-container {text-align: center;}#sk-container-id-3 div.sk-container {/* jupyter's `normalize.less` sets `[hidden] { display: none; }` but bootstrap.min.css set `[hidden] { display: none !important; }` so we also need the `!important` here to be able to override the default hidden behavior on the sphinx rendered scikit-learn.org. See: https://github.com/scikit-learn/scikit-learn/issues/21755 */display: inline-block !important;position: relative;}#sk-container-id-3 div.sk-text-repr-fallback {display: none;}</style><div id=\"sk-container-id-3\" class=\"sk-top-container\"><div class=\"sk-text-repr-fallback\"><pre>SVC(C=30, degree=5)</pre><b>In a Jupyter environment, please rerun this cell to show the HTML representation or trust the notebook. <br />On GitHub, the HTML representation is unable to render, please try loading this page with nbviewer.org.</b></div><div class=\"sk-container\" hidden><div class=\"sk-item\"><div class=\"sk-estimator sk-toggleable\"><input class=\"sk-toggleable__control sk-hidden--visually\" id=\"sk-estimator-id-3\" type=\"checkbox\" checked><label for=\"sk-estimator-id-3\" class=\"sk-toggleable__label sk-toggleable__label-arrow\">SVC</label><div class=\"sk-toggleable__content\"><pre>SVC(C=30, degree=5)</pre></div></div></div></div></div>"
      ],
      "text/plain": [
       "SVC(C=30, degree=5)"
      ]
     },
     "execution_count": 26,
     "metadata": {},
     "output_type": "execute_result"
    }
   ],
   "source": [
    "age_final = SVC(**{\"kernel\": \"rbf\", \"gamma\": \"scale\", \"degree\": 5, \"C\": 30})\n",
    "age_final.fit(age_x_train_pca, age_y_train_cat)\n"
   ]
  },
  {
   "cell_type": "code",
   "execution_count": 27,
   "metadata": {},
   "outputs": [
    {
     "name": "stdout",
     "output_type": "stream",
     "text": [
      "Accuracy:  0.9415760869565217\n",
      "Confusion matrix: \n",
      "[[ 35   1   0   0   0   0   0   0   0   0   0   0   0   0   0   0   0]\n",
      " [  0  68   1   1   1   0   0   0   0   0   0   0   0   0   0   0   0]\n",
      " [  0   1  45   0   0   0   0   0   0   0   0   0   0   0   0   0   0]\n",
      " [  0   6   0  68   3   0   0   0   0   1   0   1   0   0   0   0   0]\n",
      " [  0   1   0   1 111   0   0   1   0   1   0   0   0   0   0   0   0]\n",
      " [  0   1   0   1   1  76   0   0   0   2   0   0   0   0   0   0   0]\n",
      " [  1   1   1   0   1   1  41   0   0   0   0   0   0   0   0   0   0]\n",
      " [  1   0   0   0   0   0   0  44   0   0   0   0   0   0   0   0   0]\n",
      " [  0   0   0   0   1   1   0   0  46   0   0   0   0   0   0   0   0]\n",
      " [  0   1   1   0   0   1   0   0   0  62   0   0   0   0   0   0   0]\n",
      " [  0   0   0   0   0   0   0   0   0   0  11   0   0   0   0   0   0]\n",
      " [  0   0   0   0   0   1   0   0   0   0   0  29   0   0   0   0   0]\n",
      " [  0   0   1   0   0   0   0   0   0   0   0   0  10   0   0   0   0]\n",
      " [  0   0   0   1   0   0   0   0   0   0   0   0   0  10   0   0   0]\n",
      " [  0   0   0   0   0   0   0   0   0   0   0   0   0   0   8   0   0]\n",
      " [  0   3   0   0   0   0   0   0   0   1   0   0   0   0   0  10   0]\n",
      " [  0   0   0   0   0   0   0   0   0   0   0   0   0   0   0   0  19]]\n",
      "Precision, recall, f1-score: \n",
      "Precision, Recall and F1 Score: (0.9447771163806824, 0.9415760869565217, 0.9415905923353182, None)\n"
     ]
    }
   ],
   "source": [
    "age_precision_recall_fscore_svc_final, age_cm_final = validate_model(\n",
    "    age_final, age_x_valid_pca, age_y_valid_cat\n",
    ")\n",
    "\n",
    "print(\"Precision, Recall and F1 Score:\", age_precision_recall_fscore_svc_final)"
   ]
  },
  {
   "cell_type": "code",
   "execution_count": 28,
   "metadata": {},
   "outputs": [],
   "source": [
    "age_final_test_preds = age_final.predict(age_x_test_pca)\n",
    "pd.DataFrame(age_final_test_preds, columns=[\"label_1\"]).to_csv(\n",
    "    \"age_final_test_preds.csv\"\n",
    ")\n",
    "age_final_train_preds = age_final.predict(age_x_train_pca)\n",
    "pd.DataFrame(age_final_train_preds, columns=[\"label_1\"]).to_csv(\n",
    "    \"age_final_train_preds.csv\"\n",
    ")\n",
    "age_final_valid_preds = age_final.predict(age_x_valid_pca)\n",
    "pd.DataFrame(age_final_valid_preds, columns=[\"label_1\"]).to_csv(\n",
    "    \"age_final_valid_preds.csv\"\n",
    ")"
   ]
  },
  {
   "cell_type": "markdown",
   "metadata": {},
   "source": [
    "# Label 3 - Gender\n"
   ]
  },
  {
   "cell_type": "code",
   "execution_count": 29,
   "metadata": {},
   "outputs": [],
   "source": [
    "# Handling NaN values in the age\n",
    "# Combine X and y into a single DataFrame\n",
    "\n",
    "gender_data_train_cat = pd.concat([x_train_scaled, gender_train], axis=1)\n",
    "gender_data_valid_cat = pd.concat([x_valid_scaled, gender_valid], axis=1)\n",
    "\n",
    "# Remove rows with null values\n",
    "gender_data_cleaned_train_cat = gender_data_train_cat.dropna()\n",
    "gender_data_cleaned_valid_cat = gender_data_valid_cat.dropna()\n",
    "\n",
    "# Separate X and y again\n",
    "gender_x_train_cat = gender_data_cleaned_train_cat.drop(columns=[\"label_3\"])\n",
    "gender_y_train_cat = gender_data_cleaned_train_cat[\"label_3\"]\n",
    "gender_x_valid_cat = gender_data_cleaned_valid_cat.drop(columns=[\"label_3\"])\n",
    "gender_y_valid_cat = gender_data_cleaned_valid_cat[\"label_3\"].to_frame()\n",
    "\n",
    "gender_x_test_cat = x_test_scaled\n"
   ]
  },
  {
   "cell_type": "code",
   "execution_count": 30,
   "metadata": {},
   "outputs": [
    {
     "data": {
      "image/png": "[encoded data removed]",
      "text/plain": [
       "<Figure size 640x480 with 1 Axes>"
      ]
     },
     "metadata": {},
     "output_type": "display_data"
    }
   ],
   "source": [
    "gender_x_train_pca, gender_x_valid_pca, gender_n_components, gender_pca_cat = do_pca(\n",
    "    gender_x_train_cat, gender_x_valid_cat\n",
    ")\n",
    "\n",
    "# Plot variance vs number of components\n",
    "plt.figure()\n",
    "plt.plot(np.cumsum(gender_pca_cat.explained_variance_ratio_))\n",
    "plt.xlabel(\"Number of Components\")\n",
    "plt.ylabel(\"Variance (%)\")  # for each component\n",
    "plt.title(\"Explained Variance for gender - 99% variance\")\n",
    "# vertical line at 70\n",
    "plt.axvline(x=32, c=\"b\")\n",
    "# label the line\n",
    "plt.text(35, 0.6, \"32 components cutoff\")\n",
    "plt.show()"
   ]
  },
  {
   "cell_type": "code",
   "execution_count": 31,
   "metadata": {},
   "outputs": [],
   "source": [
    "gender_x_train_pca, gender_x_valid_pca, gender_n_components, gender_pca_cat = do_pca(\n",
    "    gender_x_train_cat, gender_x_valid_cat, n_components=32\n",
    ")\n",
    "gender_x_test_pca = pd.DataFrame(\n",
    "    gender_pca_cat.transform(gender_x_test_cat),\n",
    "    columns=[\"feature_pca_\" + str(i)\n",
    "             for i in range(1, gender_n_components + 1)],\n",
    ")\n"
   ]
  },
  {
   "cell_type": "code",
   "execution_count": 32,
   "metadata": {},
   "outputs": [
    {
     "data": {
      "text/html": [
       "<style>#sk-container-id-4 {color: black;}#sk-container-id-4 pre{padding: 0;}#sk-container-id-4 div.sk-toggleable {background-color: white;}#sk-container-id-4 label.sk-toggleable__label {cursor: pointer;display: block;width: 100%;margin-bottom: 0;padding: 0.3em;box-sizing: border-box;text-align: center;}#sk-container-id-4 label.sk-toggleable__label-arrow:before {content: \"▸\";float: left;margin-right: 0.25em;color: #696969;}#sk-container-id-4 label.sk-toggleable__label-arrow:hover:before {color: black;}#sk-container-id-4 div.sk-estimator:hover label.sk-toggleable__label-arrow:before {color: black;}#sk-container-id-4 div.sk-toggleable__content {max-height: 0;max-width: 0;overflow: hidden;text-align: left;background-color: #f0f8ff;}#sk-container-id-4 div.sk-toggleable__content pre {margin: 0.2em;color: black;border-radius: 0.25em;background-color: #f0f8ff;}#sk-container-id-4 input.sk-toggleable__control:checked~div.sk-toggleable__content {max-height: 200px;max-width: 100%;overflow: auto;}#sk-container-id-4 input.sk-toggleable__control:checked~label.sk-toggleable__label-arrow:before {content: \"▾\";}#sk-container-id-4 div.sk-estimator input.sk-toggleable__control:checked~label.sk-toggleable__label {background-color: #d4ebff;}#sk-container-id-4 div.sk-label input.sk-toggleable__control:checked~label.sk-toggleable__label {background-color: #d4ebff;}#sk-container-id-4 input.sk-hidden--visually {border: 0;clip: rect(1px 1px 1px 1px);clip: rect(1px, 1px, 1px, 1px);height: 1px;margin: -1px;overflow: hidden;padding: 0;position: absolute;width: 1px;}#sk-container-id-4 div.sk-estimator {font-family: monospace;background-color: #f0f8ff;border: 1px dotted black;border-radius: 0.25em;box-sizing: border-box;margin-bottom: 0.5em;}#sk-container-id-4 div.sk-estimator:hover {background-color: #d4ebff;}#sk-container-id-4 div.sk-parallel-item::after {content: \"\";width: 100%;border-bottom: 1px solid gray;flex-grow: 1;}#sk-container-id-4 div.sk-label:hover label.sk-toggleable__label {background-color: #d4ebff;}#sk-container-id-4 div.sk-serial::before {content: \"\";position: absolute;border-left: 1px solid gray;box-sizing: border-box;top: 0;bottom: 0;left: 50%;z-index: 0;}#sk-container-id-4 div.sk-serial {display: flex;flex-direction: column;align-items: center;background-color: white;padding-right: 0.2em;padding-left: 0.2em;position: relative;}#sk-container-id-4 div.sk-item {position: relative;z-index: 1;}#sk-container-id-4 div.sk-parallel {display: flex;align-items: stretch;justify-content: center;background-color: white;position: relative;}#sk-container-id-4 div.sk-item::before, #sk-container-id-4 div.sk-parallel-item::before {content: \"\";position: absolute;border-left: 1px solid gray;box-sizing: border-box;top: 0;bottom: 0;left: 50%;z-index: -1;}#sk-container-id-4 div.sk-parallel-item {display: flex;flex-direction: column;z-index: 1;position: relative;background-color: white;}#sk-container-id-4 div.sk-parallel-item:first-child::after {align-self: flex-end;width: 50%;}#sk-container-id-4 div.sk-parallel-item:last-child::after {align-self: flex-start;width: 50%;}#sk-container-id-4 div.sk-parallel-item:only-child::after {width: 0;}#sk-container-id-4 div.sk-dashed-wrapped {border: 1px dashed gray;margin: 0 0.4em 0.5em 0.4em;box-sizing: border-box;padding-bottom: 0.4em;background-color: white;}#sk-container-id-4 div.sk-label label {font-family: monospace;font-weight: bold;display: inline-block;line-height: 1.2em;}#sk-container-id-4 div.sk-label-container {text-align: center;}#sk-container-id-4 div.sk-container {/* jupyter's `normalize.less` sets `[hidden] { display: none; }` but bootstrap.min.css set `[hidden] { display: none !important; }` so we also need the `!important` here to be able to override the default hidden behavior on the sphinx rendered scikit-learn.org. See: https://github.com/scikit-learn/scikit-learn/issues/21755 */display: inline-block !important;position: relative;}#sk-container-id-4 div.sk-text-repr-fallback {display: none;}</style><div id=\"sk-container-id-4\" class=\"sk-top-container\"><div class=\"sk-text-repr-fallback\"><pre>SVC(C=10)</pre><b>In a Jupyter environment, please rerun this cell to show the HTML representation or trust the notebook. <br />On GitHub, the HTML representation is unable to render, please try loading this page with nbviewer.org.</b></div><div class=\"sk-container\" hidden><div class=\"sk-item\"><div class=\"sk-estimator sk-toggleable\"><input class=\"sk-toggleable__control sk-hidden--visually\" id=\"sk-estimator-id-4\" type=\"checkbox\" checked><label for=\"sk-estimator-id-4\" class=\"sk-toggleable__label sk-toggleable__label-arrow\">SVC</label><div class=\"sk-toggleable__content\"><pre>SVC(C=10)</pre></div></div></div></div></div>"
      ],
      "text/plain": [
       "SVC(C=10)"
      ]
     },
     "execution_count": 32,
     "metadata": {},
     "output_type": "execute_result"
    }
   ],
   "source": [
    "gender_final = SVC(kernel=\"rbf\", C=10, gamma=\"scale\")\n",
    "gender_final.fit(gender_x_train_pca, gender_y_train_cat)"
   ]
  },
  {
   "cell_type": "code",
   "execution_count": 33,
   "metadata": {},
   "outputs": [
    {
     "name": "stdout",
     "output_type": "stream",
     "text": [
      "Accuracy:  0.9946666666666667\n",
      "Confusion matrix: \n",
      "[[141   1]\n",
      " [  3 605]]\n",
      "Precision, recall, f1-score: \n",
      "Precision, Recall and F1 Score: (0.9947178217821782, 0.9946666666666667, 0.9946809214947601, None)\n"
     ]
    }
   ],
   "source": [
    "gender_precision_recall_fscore_svc_final, gender_cm_final = validate_model(\n",
    "    gender_final, gender_x_valid_pca, gender_y_valid_cat\n",
    ")\n",
    "\n",
    "print(\"Precision, Recall and F1 Score:\", gender_precision_recall_fscore_svc_final)"
   ]
  },
  {
   "cell_type": "code",
   "execution_count": 34,
   "metadata": {},
   "outputs": [],
   "source": [
    "gender_final_test_preds = gender_final.predict(gender_x_test_pca)\n",
    "pd.DataFrame(gender_final_test_preds, columns=[\"label_1\"]).to_csv(\n",
    "    \"gender_final_test_preds.csv\"\n",
    ")\n",
    "gender_final_train_preds = gender_final.predict(gender_x_train_pca)\n",
    "pd.DataFrame(gender_final_train_preds, columns=[\"label_1\"]).to_csv(\n",
    "    \"gender_final_train_preds.csv\"\n",
    ")\n",
    "gender_final_valid_preds = gender_final.predict(gender_x_valid_pca)\n",
    "pd.DataFrame(gender_final_valid_preds, columns=[\"label_1\"]).to_csv(\n",
    "    \"gender_final_valid_preds.csv\"\n",
    ")"
   ]
  },
  {
   "cell_type": "markdown",
   "metadata": {},
   "source": [
    "# Label 4\n"
   ]
  },
  {
   "cell_type": "code",
   "execution_count": 5,
   "metadata": {},
   "outputs": [],
   "source": [
    "# Handling NaN values in the age\n",
    "# Combine X and y into a single DataFrame\n",
    "\n",
    "accent_data_train_cat = pd.concat([x_train_scaled, accent_train], axis=1)\n",
    "accent_data_valid_cat = pd.concat([x_valid_scaled, accent_valid], axis=1)\n",
    "\n",
    "# Remove rows with null values\n",
    "accent_data_cleaned_train_cat = accent_data_train_cat.dropna()\n",
    "accent_data_cleaned_valid_cat = accent_data_valid_cat.dropna()\n",
    "\n",
    "# Separate X and y again\n",
    "accent_x_train_cat = accent_data_cleaned_train_cat.drop(columns=[\"label_4\"])\n",
    "accent_y_train_cat = accent_data_cleaned_train_cat[\"label_4\"]\n",
    "accent_x_valid_cat = accent_data_cleaned_valid_cat.drop(columns=[\"label_4\"])\n",
    "accent_y_valid_cat = accent_data_cleaned_valid_cat[\"label_4\"].to_frame()\n",
    "\n",
    "accent_x_test_cat = x_test_scaled\n"
   ]
  },
  {
   "cell_type": "code",
   "execution_count": 36,
   "metadata": {},
   "outputs": [
    {
     "data": {
      "image/png": "[encoded data removed]",
      "text/plain": [
       "<Figure size 640x480 with 1 Axes>"
      ]
     },
     "metadata": {},
     "output_type": "display_data"
    }
   ],
   "source": [
    "accent_x_train_pca, accent_x_valid_pca, accent_n_components, accent_pca_cat = do_pca(\n",
    "    accent_x_train_cat, accent_x_valid_cat\n",
    ")\n",
    "\n",
    "# Plot variance vs number of components\n",
    "plt.figure()\n",
    "plt.plot(np.cumsum(accent_pca_cat.explained_variance_ratio_))\n",
    "plt.xlabel(\"Number of Components\")\n",
    "plt.ylabel(\"Variance (%)\")  # for each component\n",
    "plt.title(\"Explained Variance for accent - 99% variance\")\n",
    "# vertical line at 70\n",
    "plt.axvline(x=32, c=\"b\")\n",
    "# label the line\n",
    "plt.text(35, 0.6, \"32 components cutoff\")\n",
    "plt.show()"
   ]
  },
  {
   "cell_type": "code",
   "execution_count": 37,
   "metadata": {},
   "outputs": [],
   "source": [
    "accent_x_train_pca, accent_x_valid_pca, accent_n_components, accent_pca_cat = do_pca(\n",
    "    accent_x_train_cat, accent_x_valid_cat, n_components=130\n",
    ")\n",
    "accent_x_test_pca = pd.DataFrame(\n",
    "    accent_pca_cat.transform(accent_x_test_cat),\n",
    "    columns=[\"feature_pca_\" + str(i) for i in range(1, accent_n_components + 1)],\n",
    ")"
   ]
  },
  {
   "cell_type": "code",
   "execution_count": 38,
   "metadata": {},
   "outputs": [
    {
     "data": {
      "text/html": [
       "<style>#sk-container-id-5 {color: black;}#sk-container-id-5 pre{padding: 0;}#sk-container-id-5 div.sk-toggleable {background-color: white;}#sk-container-id-5 label.sk-toggleable__label {cursor: pointer;display: block;width: 100%;margin-bottom: 0;padding: 0.3em;box-sizing: border-box;text-align: center;}#sk-container-id-5 label.sk-toggleable__label-arrow:before {content: \"▸\";float: left;margin-right: 0.25em;color: #696969;}#sk-container-id-5 label.sk-toggleable__label-arrow:hover:before {color: black;}#sk-container-id-5 div.sk-estimator:hover label.sk-toggleable__label-arrow:before {color: black;}#sk-container-id-5 div.sk-toggleable__content {max-height: 0;max-width: 0;overflow: hidden;text-align: left;background-color: #f0f8ff;}#sk-container-id-5 div.sk-toggleable__content pre {margin: 0.2em;color: black;border-radius: 0.25em;background-color: #f0f8ff;}#sk-container-id-5 input.sk-toggleable__control:checked~div.sk-toggleable__content {max-height: 200px;max-width: 100%;overflow: auto;}#sk-container-id-5 input.sk-toggleable__control:checked~label.sk-toggleable__label-arrow:before {content: \"▾\";}#sk-container-id-5 div.sk-estimator input.sk-toggleable__control:checked~label.sk-toggleable__label {background-color: #d4ebff;}#sk-container-id-5 div.sk-label input.sk-toggleable__control:checked~label.sk-toggleable__label {background-color: #d4ebff;}#sk-container-id-5 input.sk-hidden--visually {border: 0;clip: rect(1px 1px 1px 1px);clip: rect(1px, 1px, 1px, 1px);height: 1px;margin: -1px;overflow: hidden;padding: 0;position: absolute;width: 1px;}#sk-container-id-5 div.sk-estimator {font-family: monospace;background-color: #f0f8ff;border: 1px dotted black;border-radius: 0.25em;box-sizing: border-box;margin-bottom: 0.5em;}#sk-container-id-5 div.sk-estimator:hover {background-color: #d4ebff;}#sk-container-id-5 div.sk-parallel-item::after {content: \"\";width: 100%;border-bottom: 1px solid gray;flex-grow: 1;}#sk-container-id-5 div.sk-label:hover label.sk-toggleable__label {background-color: #d4ebff;}#sk-container-id-5 div.sk-serial::before {content: \"\";position: absolute;border-left: 1px solid gray;box-sizing: border-box;top: 0;bottom: 0;left: 50%;z-index: 0;}#sk-container-id-5 div.sk-serial {display: flex;flex-direction: column;align-items: center;background-color: white;padding-right: 0.2em;padding-left: 0.2em;position: relative;}#sk-container-id-5 div.sk-item {position: relative;z-index: 1;}#sk-container-id-5 div.sk-parallel {display: flex;align-items: stretch;justify-content: center;background-color: white;position: relative;}#sk-container-id-5 div.sk-item::before, #sk-container-id-5 div.sk-parallel-item::before {content: \"\";position: absolute;border-left: 1px solid gray;box-sizing: border-box;top: 0;bottom: 0;left: 50%;z-index: -1;}#sk-container-id-5 div.sk-parallel-item {display: flex;flex-direction: column;z-index: 1;position: relative;background-color: white;}#sk-container-id-5 div.sk-parallel-item:first-child::after {align-self: flex-end;width: 50%;}#sk-container-id-5 div.sk-parallel-item:last-child::after {align-self: flex-start;width: 50%;}#sk-container-id-5 div.sk-parallel-item:only-child::after {width: 0;}#sk-container-id-5 div.sk-dashed-wrapped {border: 1px dashed gray;margin: 0 0.4em 0.5em 0.4em;box-sizing: border-box;padding-bottom: 0.4em;background-color: white;}#sk-container-id-5 div.sk-label label {font-family: monospace;font-weight: bold;display: inline-block;line-height: 1.2em;}#sk-container-id-5 div.sk-label-container {text-align: center;}#sk-container-id-5 div.sk-container {/* jupyter's `normalize.less` sets `[hidden] { display: none; }` but bootstrap.min.css set `[hidden] { display: none !important; }` so we also need the `!important` here to be able to override the default hidden behavior on the sphinx rendered scikit-learn.org. See: https://github.com/scikit-learn/scikit-learn/issues/21755 */display: inline-block !important;position: relative;}#sk-container-id-5 div.sk-text-repr-fallback {display: none;}</style><div id=\"sk-container-id-5\" class=\"sk-top-container\"><div class=\"sk-text-repr-fallback\"><pre>SVC(C=10)</pre><b>In a Jupyter environment, please rerun this cell to show the HTML representation or trust the notebook. <br />On GitHub, the HTML representation is unable to render, please try loading this page with nbviewer.org.</b></div><div class=\"sk-container\" hidden><div class=\"sk-item\"><div class=\"sk-estimator sk-toggleable\"><input class=\"sk-toggleable__control sk-hidden--visually\" id=\"sk-estimator-id-5\" type=\"checkbox\" checked><label for=\"sk-estimator-id-5\" class=\"sk-toggleable__label sk-toggleable__label-arrow\">SVC</label><div class=\"sk-toggleable__content\"><pre>SVC(C=10)</pre></div></div></div></div></div>"
      ],
      "text/plain": [
       "SVC(C=10)"
      ]
     },
     "execution_count": 38,
     "metadata": {},
     "output_type": "execute_result"
    }
   ],
   "source": [
    "accent_final = SVC(kernel=\"rbf\", C=10, gamma=\"scale\")\n",
    "accent_final.fit(accent_x_train_pca, accent_y_train_cat)"
   ]
  },
  {
   "cell_type": "code",
   "execution_count": 39,
   "metadata": {},
   "outputs": [
    {
     "name": "stdout",
     "output_type": "stream",
     "text": [
      "Accuracy:  0.9746666666666667\n",
      "Confusion matrix: \n",
      "[[ 21   0   0   0   0   0   0   0   0   0   0   0   0   0]\n",
      " [  0  11   0   0   0   0   0   0   0   0   0   0   0   0]\n",
      " [  1   0  25   0   0   0   1   0   0   0   0   0   0   0]\n",
      " [  0   0   0   8   0   0   0   0   0   0   0   0   0   0]\n",
      " [  0   0   0   0  13   0   2   0   0   0   0   0   0   0]\n",
      " [  0   0   0   0   0  10   1   0   0   0   0   0   0   0]\n",
      " [  0   0   0   0   0   1 531   0   0   0   0   0   0   0]\n",
      " [  0   0   0   0   0   0   4  28   0   0   0   0   0   0]\n",
      " [  0   0   0   0   0   0   1   0  18   0   0   0   0   0]\n",
      " [  0   0   0   0   0   0   3   0   0  14   0   0   0   0]\n",
      " [  0   0   0   0   0   0   1   0   0   0   9   0   0   0]\n",
      " [  0   0   0   0   0   0   1   0   0   0   0  10   0   0]\n",
      " [  0   0   0   0   0   0   3   0   0   0   0   0  23   0]\n",
      " [  0   0   0   0   0   0   0   0   0   0   0   0   0  10]]\n",
      "Precision, recall, f1-score: \n",
      "Precision, Recall and F1 Score: (0.9753890732138907, 0.9746666666666667, 0.9741348012603647, None)\n"
     ]
    }
   ],
   "source": [
    "accent_precision_recall_fscore_svc_final, accent_cm_final = validate_model(\n",
    "    accent_final, accent_x_valid_pca, accent_y_valid_cat\n",
    ")\n",
    "\n",
    "print(\"Precision, Recall and F1 Score:\", accent_precision_recall_fscore_svc_final)"
   ]
  },
  {
   "cell_type": "code",
   "execution_count": 40,
   "metadata": {},
   "outputs": [],
   "source": [
    "accent_final_test_preds = accent_final.predict(accent_x_test_pca)\n",
    "pd.DataFrame(accent_final_test_preds, columns=[\"label_1\"]).to_csv(\n",
    "    \"accent_final_test_preds.csv\"\n",
    ")\n",
    "accent_final_train_preds = accent_final.predict(accent_x_train_pca)\n",
    "pd.DataFrame(accent_final_train_preds, columns=[\"label_1\"]).to_csv(\n",
    "    \"accent_final_train_preds.csv\"\n",
    ")\n",
    "accent_final_valid_preds = accent_final.predict(accent_x_valid_pca)\n",
    "pd.DataFrame(accent_final_valid_preds, columns=[\"label_1\"]).to_csv(\n",
    "    \"accent_final_valid_preds.csv\"\n",
    ")"
   ]
  },
  {
   "cell_type": "code",
   "execution_count": 8,
   "metadata": {},
   "outputs": [
    {
     "name": "stdout",
     "output_type": "stream",
     "text": [
      "Accuracy:  0.9813333333333333\n",
      "Confusion matrix: \n",
      "[[ 21   0   0   0   0   0   0   0   0   0   0   0   0   0]\n",
      " [  0  11   0   0   0   0   0   0   0   0   0   0   0   0]\n",
      " [  1   0  26   0   0   0   0   0   0   0   0   0   0   0]\n",
      " [  0   0   0   8   0   0   0   0   0   0   0   0   0   0]\n",
      " [  0   0   0   0  13   0   2   0   0   0   0   0   0   0]\n",
      " [  0   0   0   0   0  10   1   0   0   0   0   0   0   0]\n",
      " [  0   0   0   0   0   0 532   0   0   0   0   0   0   0]\n",
      " [  0   0   0   0   0   0   1  31   0   0   0   0   0   0]\n",
      " [  0   0   0   0   0   0   1   0  18   0   0   0   0   0]\n",
      " [  0   0   0   0   0   0   3   0   0  14   0   0   0   0]\n",
      " [  0   0   0   0   0   0   1   0   0   0   9   0   0   0]\n",
      " [  0   0   0   0   0   0   1   0   0   0   0  10   0   0]\n",
      " [  0   0   0   0   0   0   3   0   0   0   0   0  23   0]\n",
      " [  0   0   0   0   0   0   0   0   0   0   0   0   0  10]]\n",
      "Precision, recall, f1-score: \n"
     ]
    }
   ],
   "source": [
    "# A sklearn pipeline to do the above steps\n",
    "from sklearn.pipeline import Pipeline\n",
    "\n",
    "pipeline = Pipeline(\n",
    "    [(\"pca\", PCA(n_components=130)), (\"model\", SVC(kernel=\"rbf\", C=10, gamma=\"scale\"))]\n",
    ")\n",
    "\n",
    "pipeline.fit(accent_x_train_cat, accent_y_train_cat)\n",
    "\n",
    "accent_precision_recall_fscore_svc_final, accent_cm_final = validate_model(\n",
    "    pipeline, accent_x_valid_cat, accent_y_valid_cat\n",
    ")"
   ]
  }
 ],
 "metadata": {
  "kernelspec": {
   "display_name": "CS4622",
   "language": "python",
   "name": "python3"
  },
  "language_info": {
   "codemirror_mode": {
    "name": "ipython",
    "version": 3
   },
   "file_extension": ".py",
   "mimetype": "text/x-python",
   "name": "python",
   "nbconvert_exporter": "python",
   "pygments_lexer": "ipython3",
   "version": "3.10.12"
  },
  "orig_nbformat": 4
 },
 "nbformat": 4,
 "nbformat_minor": 2
}
