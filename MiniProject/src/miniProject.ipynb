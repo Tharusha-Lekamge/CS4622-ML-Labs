{
 "cells": [
  {
   "cell_type": "markdown",
   "metadata": {},
   "source": [
    "# Dataset\n"
   ]
  },
  {
   "cell_type": "code",
   "execution_count": 1,
   "metadata": {},
   "outputs": [],
   "source": [
    "# Imports\n",
    "\n",
    "\n",
    "from sklearn.tree import DecisionTreeClassifier\n",
    "from sklearn.linear_model import LinearRegression\n",
    "from sklearn.ensemble import RandomForestClassifier\n",
    "from sklearn.svm import SVC\n",
    "import joblib\n",
    "\n",
    "import math\n",
    "import seaborn as sns\n",
    "import warnings                   # To ignore the warnings\n",
    "import pandas as pd\n",
    "import numpy as np          # For mathematical calculations\n",
    "import matplotlib.pyplot as plt  # For plotting graphs\n",
    "from datetime import datetime    # To access datetime\n",
    "from pandas import Series        # To work on series\n",
    "\n",
    "from sklearn.preprocessing import LabelEncoder\n",
    "from sklearn.preprocessing import StandardScaler\n",
    "from sklearn.preprocessing import RobustScaler\n",
    "from sklearn.metrics import mean_squared_error\n",
    "from sklearn.decomposition import PCA\n",
    "from sklearn.feature_selection import SelectKBest, f_classif\n",
    "\n",
    "from sklearn.metrics import accuracy_score\n",
    "from sklearn.metrics import confusion_matrix\n",
    "from sklearn.metrics import precision_recall_fscore_support\n",
    "\n",
    "from xgboost import XGBClassifier\n",
    "\n",
    "# import RandomizedSearchCV\n",
    "from sklearn.model_selection import RandomizedSearchCV\n",
    "\n",
    "%matplotlib inline\n",
    "warnings.filterwarnings(\"ignore\")\n"
   ]
  },
  {
   "cell_type": "code",
   "execution_count": 2,
   "metadata": {},
   "outputs": [],
   "source": [
    "# Data extraction\n",
    "\n",
    "train_layer_9 = pd.read_csv(\"../data/layer09/train_09.csv\")\n",
    "test_layer_9 = pd.read_csv(\"../data/layer09/test_09.csv\")\n",
    "valid_layer_9 = pd.read_csv(\"../data/layer09/valid_09.csv\")"
   ]
  },
  {
   "cell_type": "code",
   "execution_count": 3,
   "metadata": {},
   "outputs": [],
   "source": [
    "# Extracting x and y\n",
    "\n",
    "x_train = train_layer_9.copy().drop(\n",
    "    columns=[\"label_1\", \"label_2\", \"label_3\", \"label_4\"]\n",
    ")\n",
    "x_valid = valid_layer_9.copy().drop(\n",
    "    columns=[\"label_1\", \"label_2\", \"label_3\", \"label_4\"]\n",
    ")\n",
    "x_feature_names = [\"feature_\" + str(i) for i in range(1, 769)]\n",
    "\n",
    "id_train = train_layer_9[\"label_1\"].to_frame()\n",
    "age_train = train_layer_9[\"label_2\"].to_frame()  # id has NaN\n",
    "gender_train = train_layer_9[\"label_3\"].to_frame()\n",
    "accent_train = train_layer_9[\"label_4\"].to_frame()  # Accent has bias to 6\n",
    "\n",
    "id_valid = valid_layer_9[\"label_1\"].to_frame()\n",
    "age_valid = valid_layer_9[\"label_2\"].to_frame()\n",
    "gender_valid = valid_layer_9[\"label_3\"].to_frame()\n",
    "accent_valid = valid_layer_9[\"label_4\"].to_frame()"
   ]
  },
  {
   "cell_type": "code",
   "execution_count": 4,
   "metadata": {},
   "outputs": [
    {
     "name": "stdout",
     "output_type": "stream",
     "text": [
      "Train dataset: \n",
      "          feature_1     feature_2     feature_3     feature_4     feature_5  \\\n",
      "count  28520.000000  28520.000000  28520.000000  28520.000000  28520.000000   \n",
      "mean      -0.015964      0.075453      0.045892      0.046230     -0.068548   \n",
      "std        0.048122      0.047099      0.059531      0.056354      0.062569   \n",
      "min       -0.300831     -0.113586     -0.183329     -0.212180     -0.385634   \n",
      "25%       -0.048373      0.046609      0.004613      0.007529     -0.109321   \n",
      "50%       -0.017313      0.073738      0.049874      0.044959     -0.068874   \n",
      "75%        0.015003      0.101526      0.087481      0.082385     -0.026185   \n",
      "max        0.316810      0.519338      0.344814      0.443703      0.169458   \n",
      "\n",
      "          feature_6     feature_7     feature_8     feature_9    feature_10  \\\n",
      "count  28520.000000  28520.000000  28520.000000  28520.000000  28520.000000   \n",
      "mean      -0.090882      0.034405     -0.038091      0.049623      0.036286   \n",
      "std        0.054895      0.065229      0.058487      0.051186      0.060626   \n",
      "min       -0.331156     -0.320988     -0.519168     -0.171353     -0.404408   \n",
      "25%       -0.128968      0.001598     -0.073965      0.015015     -0.001981   \n",
      "50%       -0.089224      0.039623     -0.034788      0.050111      0.036198   \n",
      "75%       -0.052010      0.076055      0.002081      0.085094      0.074090   \n",
      "max        0.298595      0.309478      0.246881      0.260366      0.270373   \n",
      "\n",
      "       ...   feature_763   feature_764   feature_765   feature_766  \\\n",
      "count  ...  28520.000000  28520.000000  28520.000000  28520.000000   \n",
      "mean   ...     -0.058015      0.017027     -0.002970      0.053544   \n",
      "std    ...      0.075779      0.055990      0.055413      0.082085   \n",
      "min    ...     -0.343703     -0.401326     -0.355695     -0.390809   \n",
      "25%    ...     -0.105128     -0.014950     -0.039802      0.003270   \n",
      "50%    ...     -0.069593      0.021222     -0.003279      0.057083   \n",
      "75%    ...     -0.028467      0.053432      0.033408      0.109684   \n",
      "max    ...      0.388045      0.215233      0.205440      0.332756   \n",
      "\n",
      "        feature_767   feature_768       label_1       label_2       label_3  \\\n",
      "count  28520.000000  28520.000000  28520.000000  28040.000000  28520.000000   \n",
      "mean       0.033636      0.003864     30.498843     27.975107      0.799299   \n",
      "std        0.070793      0.059617     17.328389      5.735913      0.400532   \n",
      "min       -0.470045     -0.242932      1.000000     22.000000      0.000000   \n",
      "25%       -0.006049     -0.038369     15.000000     25.000000      1.000000   \n",
      "50%        0.036988      0.004224     30.000000     27.000000      1.000000   \n",
      "75%        0.078949      0.044731     46.000000     30.000000      1.000000   \n",
      "max        0.269439      0.385349     60.000000     61.000000      1.000000   \n",
      "\n",
      "            label_4  \n",
      "count  28520.000000  \n",
      "mean       5.997125  \n",
      "std        2.375567  \n",
      "min        0.000000  \n",
      "25%        6.000000  \n",
      "50%        6.000000  \n",
      "75%        6.000000  \n",
      "max       13.000000  \n",
      "\n",
      "[8 rows x 772 columns]\n",
      "Valid dataset: \n",
      "        feature_1   feature_2   feature_3   feature_4   feature_5   feature_6  \\\n",
      "count  750.000000  750.000000  750.000000  750.000000  750.000000  750.000000   \n",
      "mean    -0.018988    0.075818    0.044829    0.045316   -0.069247   -0.089643   \n",
      "std      0.050568    0.049984    0.059515    0.059270    0.063371    0.053985   \n",
      "min     -0.190967   -0.106234   -0.145767   -0.127200   -0.312355   -0.252271   \n",
      "25%     -0.050665    0.047918    0.000896    0.005557   -0.111470   -0.124848   \n",
      "50%     -0.020545    0.073620    0.046581    0.046045   -0.069461   -0.087368   \n",
      "75%      0.013240    0.103159    0.088746    0.081649   -0.028054   -0.051137   \n",
      "max      0.211005    0.379939    0.201216    0.307385    0.129518    0.107425   \n",
      "\n",
      "        feature_7   feature_8   feature_9  feature_10  ...  feature_763  \\\n",
      "count  750.000000  750.000000  750.000000  750.000000  ...   750.000000   \n",
      "mean     0.034802   -0.039478    0.048500    0.035011  ...    -0.055725   \n",
      "std      0.065600    0.055940    0.050192    0.059304  ...     0.079710   \n",
      "min     -0.244370   -0.227697   -0.169668   -0.292433  ...    -0.243485   \n",
      "25%      0.001711   -0.076133    0.013896   -0.000902  ...    -0.102712   \n",
      "50%      0.039225   -0.036171    0.047300    0.036478  ...    -0.068246   \n",
      "75%      0.074560   -0.002205    0.085236    0.072094  ...    -0.023024   \n",
      "max      0.203166    0.108071    0.193102    0.230239  ...     0.283009   \n",
      "\n",
      "       feature_764  feature_765  feature_766  feature_767  feature_768  \\\n",
      "count   750.000000   750.000000   750.000000   750.000000   750.000000   \n",
      "mean      0.015040    -0.002415     0.054409     0.029111     0.002104   \n",
      "std       0.054965     0.053953     0.081894     0.074384     0.057913   \n",
      "min      -0.278048    -0.176114    -0.283378    -0.452340    -0.136646   \n",
      "25%      -0.015666    -0.035565     0.006642    -0.010409    -0.039168   \n",
      "50%       0.019985    -0.004083     0.059429     0.035620     0.003251   \n",
      "75%       0.048538     0.032850     0.106252     0.075218     0.041344   \n",
      "max       0.171324     0.175799     0.308740     0.246449     0.285352   \n",
      "\n",
      "          label_1     label_2     label_3     label_4  \n",
      "count  750.000000  736.000000  750.000000  750.000000  \n",
      "mean    30.085333   28.330163    0.810667    6.117333  \n",
      "std     17.489060    6.518500    0.392035    2.227895  \n",
      "min      1.000000   22.000000    0.000000    0.000000  \n",
      "25%     15.000000   25.000000    1.000000    6.000000  \n",
      "50%     29.000000   27.000000    1.000000    6.000000  \n",
      "75%     45.000000   30.000000    1.000000    6.000000  \n",
      "max     60.000000   61.000000    1.000000   13.000000  \n",
      "\n",
      "[8 rows x 772 columns]\n"
     ]
    }
   ],
   "source": [
    "# describe dataset\n",
    "print(\"Train dataset: \")\n",
    "print(train_layer_9.describe())\n",
    "print(\"Valid dataset: \")\n",
    "print(valid_layer_9.describe())"
   ]
  },
  {
   "cell_type": "code",
   "execution_count": 5,
   "metadata": {},
   "outputs": [],
   "source": [
    "# Scaling using RobustScaler\n",
    "scaler_robust = RobustScaler()\n",
    "scaler_robust.fit(x_train)\n",
    "\n",
    "x_train_scaled = pd.DataFrame(scaler_robust.transform(x_train), columns=x_feature_names)\n",
    "x_valid_scaled = pd.DataFrame(scaler_robust.transform(x_valid), columns=x_feature_names)\n",
    "\n",
    "x_test = test_layer_9.copy().drop(columns=[\"ID\"])\n",
    "x_test_scaled = pd.DataFrame(scaler_robust.transform(x_test), columns=x_feature_names)"
   ]
  },
  {
   "cell_type": "code",
   "execution_count": 7,
   "metadata": {},
   "outputs": [
    {
     "data": {
      "text/plain": [
       "(480, 1)"
      ]
     },
     "execution_count": 7,
     "metadata": {},
     "output_type": "execute_result"
    }
   ],
   "source": [
    "age_train[age_train[\"label_2\"].isnull()].shape"
   ]
  },
  {
   "cell_type": "markdown",
   "metadata": {},
   "source": [
    "### Support Functions\n"
   ]
  },
  {
   "cell_type": "code",
   "execution_count": 6,
   "metadata": {},
   "outputs": [],
   "source": [
    "def validate_model(model, x_valid, y_valid):\n",
    "    y_pred = model.predict(x_valid)\n",
    "    accuracy = accuracy_score(y_valid, y_pred)\n",
    "    print(\"Accuracy: \", accuracy)\n",
    "    cm = confusion_matrix(y_valid, y_pred)\n",
    "    print(\"Confusion matrix: \")\n",
    "    print(cm)\n",
    "    print(\"Precision, recall, f1-score: \")\n",
    "    prfs_ = precision_recall_fscore_support(y_valid, y_pred, average=\"weighted\")\n",
    "    return prfs_, cm"
   ]
  },
  {
   "cell_type": "code",
   "execution_count": 8,
   "metadata": {},
   "outputs": [],
   "source": [
    "def do_pca(train, valid, variance: float = None, n_components: int = None):\n",
    "    pca_obj = PCA(n_components=0.95, svd_solver=\"full\")\n",
    "    if variance:\n",
    "        pca_obj = PCA(n_components=variance, svd_solver=\"full\")\n",
    "    elif n_components:\n",
    "        pca_obj = PCA(n_components=n_components)\n",
    "    pca_obj.fit(train)\n",
    "    n_components = pca_obj.components_.shape[0]\n",
    "\n",
    "    x_train = pd.DataFrame(\n",
    "        pca_obj.transform(train),\n",
    "        columns=[\"feature_pca_\" + str(i) for i in range(1, n_components + 1)],\n",
    "    )\n",
    "    x_valid = pd.DataFrame(\n",
    "        pca_obj.transform(valid),\n",
    "        columns=[\"feature_pca_\" + str(i) for i in range(1, n_components + 1)],\n",
    "    )\n",
    "\n",
    "    return x_train, x_valid, n_components, pca_obj"
   ]
  },
  {
   "cell_type": "code",
   "execution_count": 9,
   "metadata": {},
   "outputs": [],
   "source": [
    "def fit_and_score(classifier_models, x_train, x_valid, y_train, y_valid):\n",
    "    \"\"\"\n",
    "    Fits and evaluates given classifier models.\n",
    "    classifier_models : a dict of different Scikit-Learn classifier models\n",
    "    x_train : training data (no labels)\n",
    "    x_valid : validation data (no labels)\n",
    "    y_train : training labels\n",
    "    y_valid : validation labels\n",
    "    \"\"\"\n",
    "    # Set random seed\n",
    "    np.random.seed(42)\n",
    "    # Make a dictionary to keep model scores\n",
    "    classifier_model_scores = {}\n",
    "    # Loop through classifier_models\n",
    "    for name, model in classifier_models.items():\n",
    "        print(f\"Fitting {name}...\")\n",
    "        # Fit the model to the data\n",
    "        model.fit(x_train, y_train)\n",
    "        # Evaluate the model and append its score to classifier_model_scores\n",
    "        classifier_model_scores[name] = model.score(x_valid, y_valid)\n",
    "        print(\"Done fitting and scoring model.\")\n",
    "    return classifier_model_scores"
   ]
  },
  {
   "cell_type": "code",
   "execution_count": 10,
   "metadata": {},
   "outputs": [],
   "source": [
    "def tune_hyperparameters(classifier_models, grid, x_train, x_valid, y_train, y_valid):\n",
    "    \"\"\"\n",
    "    Fits and evaluates given classifier models.\n",
    "    classifier_models : a dict of different Scikit-Learn classifier models\n",
    "    grid : a dict of hyperparameters to tune\n",
    "    x_train : training data (no labels)\n",
    "    x_valid : validation data (no labels)\n",
    "    y_train : training labels\n",
    "    y_valid : validation labels\n",
    "    \"\"\"\n",
    "    # Set random seed\n",
    "    np.random.seed(42)\n",
    "    # Make a dictionary to keep model scores\n",
    "    classifier_model_scores = {}\n",
    "    trained_searches = {}\n",
    "    # Loop through classifier_models\n",
    "    for name, model in classifier_models.items():\n",
    "        # Setup random hyperparameter search for model\n",
    "        rs_model = RandomizedSearchCV(\n",
    "            estimator=model,\n",
    "            param_distributions=grid,\n",
    "            n_iter=20,\n",
    "            cv=5,\n",
    "            verbose=3,\n",
    "            random_state=42,\n",
    "            n_jobs=-1,\n",
    "        )\n",
    "        # Fit random hyperparameter search model\n",
    "        fileName = name + \"_rs_model\" + \".pkl\"\n",
    "        rs_model.fit(x_train, y_train)\n",
    "        # Export rs_model using joblib\n",
    "        joblib.dump(rs_model, fileName)\n",
    "        trained_searches[name] = rs_model\n",
    "\n",
    "        # Evaluate the model and append its score to classifier_model_scores\n",
    "        classifier_model_scores[name] = rs_model.score(x_valid, y_valid)\n",
    "        print(\"classifier model scores\", classifier_model_scores)\n",
    "    return trained_searches"
   ]
  },
  {
   "cell_type": "code",
   "execution_count": 11,
   "metadata": {},
   "outputs": [],
   "source": [
    "def write_test_pred_to_csv(model, x_test, csv_name=\"test_pred.csv\"):\n",
    "    y_pred = model.predict(x_test)\n",
    "    y_pred = pd.DataFrame(y_pred, columns=[\"label\"])\n",
    "    y_pred.to_csv(csv_name, index=False)"
   ]
  },
  {
   "cell_type": "code",
   "execution_count": 12,
   "metadata": {},
   "outputs": [],
   "source": [
    "def find_min_pca_components(\n",
    "    x_train, x_valid, y_train, y_valid, threshold: float = 0.90\n",
    "):\n",
    "    # Find min number of components for 90% accuracy\n",
    "    score = 1\n",
    "\n",
    "    while score > threshold:\n",
    "        x_train, x_valid, id_n_components, id_pca_cat = do_pca(\n",
    "            x_train, x_valid, variance=0.95\n",
    "        )\n",
    "\n",
    "        print(\"Number of components: \", id_n_components)\n",
    "\n",
    "        id_final = SVC()\n",
    "        id_final.fit(x_train, y_train)\n",
    "\n",
    "        precision_recall_fscore_svc_final, cm_final = validate_model(\n",
    "            id_final, x_valid, y_valid\n",
    "        )\n",
    "\n",
    "        print(\"Precision, Recall and F1 Score:\", precision_recall_fscore_svc_final)\n",
    "\n",
    "        y_pred = id_final.predict(x_valid)\n",
    "        score = accuracy_score(y_valid, y_pred)\n",
    "        print(\"Accuracy: \", score)\n",
    "\n",
    "    print(\"Final number of components: \", id_n_components)\n",
    "    print(\"Final Precision, Recall and F1 Score:\", precision_recall_fscore_svc_final)\n",
    "    return id_n_components, id_pca_cat"
   ]
  },
  {
   "cell_type": "markdown",
   "metadata": {},
   "source": [
    "# Label 1\n"
   ]
  },
  {
   "cell_type": "markdown",
   "metadata": {},
   "source": [
    "use {'kernel': 'rbf', 'gamma': 0.001, 'degree': 5, 'C': 10}\n"
   ]
  },
  {
   "cell_type": "code",
   "execution_count": 13,
   "metadata": {},
   "outputs": [],
   "source": [
    "id_data_train_cat = pd.concat([x_train_scaled, id_train], axis=1)\n",
    "id_data_valid_cat = pd.concat([x_valid_scaled, id_valid], axis=1)\n",
    "\n",
    "# Remove rows with null values\n",
    "id_data_cleaned_train_cat = id_data_train_cat.dropna()\n",
    "id_data_cleaned_valid_cat = id_data_valid_cat.dropna()\n",
    "\n",
    "# Separate X and y again\n",
    "id_x_train_cat = id_data_cleaned_train_cat.drop(columns=[\"label_1\"])\n",
    "id_y_train_cat = id_data_cleaned_train_cat[\"label_1\"]\n",
    "id_x_valid_cat = id_data_cleaned_valid_cat.drop(columns=[\"label_1\"])\n",
    "id_y_valid_cat = id_data_cleaned_valid_cat[\"label_1\"].to_frame()\n",
    "\n",
    "id_x_test_cat = x_test_scaled"
   ]
  },
  {
   "cell_type": "markdown",
   "metadata": {},
   "source": [
    "### Initial Model SVC\n"
   ]
  },
  {
   "cell_type": "code",
   "execution_count": 38,
   "metadata": {},
   "outputs": [
    {
     "data": {
      "text/html": [
       "<style>#sk-container-id-3 {color: black;}#sk-container-id-3 pre{padding: 0;}#sk-container-id-3 div.sk-toggleable {background-color: white;}#sk-container-id-3 label.sk-toggleable__label {cursor: pointer;display: block;width: 100%;margin-bottom: 0;padding: 0.3em;box-sizing: border-box;text-align: center;}#sk-container-id-3 label.sk-toggleable__label-arrow:before {content: \"▸\";float: left;margin-right: 0.25em;color: #696969;}#sk-container-id-3 label.sk-toggleable__label-arrow:hover:before {color: black;}#sk-container-id-3 div.sk-estimator:hover label.sk-toggleable__label-arrow:before {color: black;}#sk-container-id-3 div.sk-toggleable__content {max-height: 0;max-width: 0;overflow: hidden;text-align: left;background-color: #f0f8ff;}#sk-container-id-3 div.sk-toggleable__content pre {margin: 0.2em;color: black;border-radius: 0.25em;background-color: #f0f8ff;}#sk-container-id-3 input.sk-toggleable__control:checked~div.sk-toggleable__content {max-height: 200px;max-width: 100%;overflow: auto;}#sk-container-id-3 input.sk-toggleable__control:checked~label.sk-toggleable__label-arrow:before {content: \"▾\";}#sk-container-id-3 div.sk-estimator input.sk-toggleable__control:checked~label.sk-toggleable__label {background-color: #d4ebff;}#sk-container-id-3 div.sk-label input.sk-toggleable__control:checked~label.sk-toggleable__label {background-color: #d4ebff;}#sk-container-id-3 input.sk-hidden--visually {border: 0;clip: rect(1px 1px 1px 1px);clip: rect(1px, 1px, 1px, 1px);height: 1px;margin: -1px;overflow: hidden;padding: 0;position: absolute;width: 1px;}#sk-container-id-3 div.sk-estimator {font-family: monospace;background-color: #f0f8ff;border: 1px dotted black;border-radius: 0.25em;box-sizing: border-box;margin-bottom: 0.5em;}#sk-container-id-3 div.sk-estimator:hover {background-color: #d4ebff;}#sk-container-id-3 div.sk-parallel-item::after {content: \"\";width: 100%;border-bottom: 1px solid gray;flex-grow: 1;}#sk-container-id-3 div.sk-label:hover label.sk-toggleable__label {background-color: #d4ebff;}#sk-container-id-3 div.sk-serial::before {content: \"\";position: absolute;border-left: 1px solid gray;box-sizing: border-box;top: 0;bottom: 0;left: 50%;z-index: 0;}#sk-container-id-3 div.sk-serial {display: flex;flex-direction: column;align-items: center;background-color: white;padding-right: 0.2em;padding-left: 0.2em;position: relative;}#sk-container-id-3 div.sk-item {position: relative;z-index: 1;}#sk-container-id-3 div.sk-parallel {display: flex;align-items: stretch;justify-content: center;background-color: white;position: relative;}#sk-container-id-3 div.sk-item::before, #sk-container-id-3 div.sk-parallel-item::before {content: \"\";position: absolute;border-left: 1px solid gray;box-sizing: border-box;top: 0;bottom: 0;left: 50%;z-index: -1;}#sk-container-id-3 div.sk-parallel-item {display: flex;flex-direction: column;z-index: 1;position: relative;background-color: white;}#sk-container-id-3 div.sk-parallel-item:first-child::after {align-self: flex-end;width: 50%;}#sk-container-id-3 div.sk-parallel-item:last-child::after {align-self: flex-start;width: 50%;}#sk-container-id-3 div.sk-parallel-item:only-child::after {width: 0;}#sk-container-id-3 div.sk-dashed-wrapped {border: 1px dashed gray;margin: 0 0.4em 0.5em 0.4em;box-sizing: border-box;padding-bottom: 0.4em;background-color: white;}#sk-container-id-3 div.sk-label label {font-family: monospace;font-weight: bold;display: inline-block;line-height: 1.2em;}#sk-container-id-3 div.sk-label-container {text-align: center;}#sk-container-id-3 div.sk-container {/* jupyter's `normalize.less` sets `[hidden] { display: none; }` but bootstrap.min.css set `[hidden] { display: none !important; }` so we also need the `!important` here to be able to override the default hidden behavior on the sphinx rendered scikit-learn.org. See: https://github.com/scikit-learn/scikit-learn/issues/21755 */display: inline-block !important;position: relative;}#sk-container-id-3 div.sk-text-repr-fallback {display: none;}</style><div id=\"sk-container-id-3\" class=\"sk-top-container\"><div class=\"sk-text-repr-fallback\"><pre>SVC(C=20)</pre><b>In a Jupyter environment, please rerun this cell to show the HTML representation or trust the notebook. <br />On GitHub, the HTML representation is unable to render, please try loading this page with nbviewer.org.</b></div><div class=\"sk-container\" hidden><div class=\"sk-item\"><div class=\"sk-estimator sk-toggleable\"><input class=\"sk-toggleable__control sk-hidden--visually\" id=\"sk-estimator-id-3\" type=\"checkbox\" checked><label for=\"sk-estimator-id-3\" class=\"sk-toggleable__label sk-toggleable__label-arrow\">SVC</label><div class=\"sk-toggleable__content\"><pre>SVC(C=20)</pre></div></div></div></div></div>"
      ],
      "text/plain": [
       "SVC(C=20)"
      ]
     },
     "execution_count": 38,
     "metadata": {},
     "output_type": "execute_result"
    }
   ],
   "source": [
    "id_initial = SVC(kernel=\"rbf\", C=20, gamma=\"scale\")\n",
    "# {'kernel': 'rbf', 'gamma': 'scale', 'C': 20}\n",
    "id_initial.fit(id_x_train_cat, id_y_train_cat)"
   ]
  },
  {
   "cell_type": "code",
   "execution_count": 39,
   "metadata": {},
   "outputs": [
    {
     "name": "stdout",
     "output_type": "stream",
     "text": [
      "Accuracy:  0.9626666666666667\n",
      "Confusion matrix: \n",
      "[[12  0  0 ...  0  0  0]\n",
      " [ 0  9  0 ...  0  0  0]\n",
      " [ 0  0 12 ...  0  0  0]\n",
      " ...\n",
      " [ 0  0  0 ... 20  0  0]\n",
      " [ 0  0  0 ...  0 10  0]\n",
      " [ 0  0  0 ...  0  0 10]]\n",
      "Precision, recall, f1-score: \n",
      "Precision, Recall and F1 Score: (0.9658712615443265, 0.9626666666666667, 0.9626405604263418, None)\n"
     ]
    }
   ],
   "source": [
    "precision_recall_fscore_svc_initial, cm_initial = validate_model(\n",
    "    id_initial, id_x_valid_cat, id_y_valid_cat\n",
    ")\n",
    "\n",
    "print(\"Precision, Recall and F1 Score:\", precision_recall_fscore_svc_initial)\n",
    "# Accuracy:  0.9573333333333334 ->"
   ]
  },
  {
   "cell_type": "code",
   "execution_count": 40,
   "metadata": {},
   "outputs": [],
   "source": [
    "id_initial_test_preds = id_initial.predict(id_x_test_cat)\n",
    "pd.DataFrame(id_initial_test_preds, columns=[\"label_1\"]).to_csv(\n",
    "    \"id_initial_test_preds.csv\"\n",
    ")"
   ]
  },
  {
   "cell_type": "markdown",
   "metadata": {},
   "source": [
    "### Data Processing - PCA\n"
   ]
  },
  {
   "cell_type": "code",
   "execution_count": 14,
   "metadata": {},
   "outputs": [],
   "source": [
    "id_x_train_pca, id_x_valid_pca, id_n_components, id_pca_cat = do_pca(\n",
    "    id_x_train_cat, id_x_valid_cat, n_components=70\n",
    ")\n",
    "id_x_test_pca = pd.DataFrame(\n",
    "    id_pca_cat.transform(id_x_test_cat),\n",
    "    columns=[\"feature_pca_\" + str(i) for i in range(1, id_n_components + 1)],\n",
    ")"
   ]
  },
  {
   "cell_type": "code",
   "execution_count": 15,
   "metadata": {},
   "outputs": [
    {
     "name": "stdout",
     "output_type": "stream",
     "text": [
      "Number of components:  70\n"
     ]
    }
   ],
   "source": [
    "print(\"Number of components: \", id_n_components)"
   ]
  },
  {
   "cell_type": "markdown",
   "metadata": {},
   "source": [
    "### Final Model SVC\n"
   ]
  },
  {
   "cell_type": "code",
   "execution_count": 16,
   "metadata": {},
   "outputs": [
    {
     "data": {
      "text/html": [
       "<style>#sk-container-id-1 {color: black;}#sk-container-id-1 pre{padding: 0;}#sk-container-id-1 div.sk-toggleable {background-color: white;}#sk-container-id-1 label.sk-toggleable__label {cursor: pointer;display: block;width: 100%;margin-bottom: 0;padding: 0.3em;box-sizing: border-box;text-align: center;}#sk-container-id-1 label.sk-toggleable__label-arrow:before {content: \"▸\";float: left;margin-right: 0.25em;color: #696969;}#sk-container-id-1 label.sk-toggleable__label-arrow:hover:before {color: black;}#sk-container-id-1 div.sk-estimator:hover label.sk-toggleable__label-arrow:before {color: black;}#sk-container-id-1 div.sk-toggleable__content {max-height: 0;max-width: 0;overflow: hidden;text-align: left;background-color: #f0f8ff;}#sk-container-id-1 div.sk-toggleable__content pre {margin: 0.2em;color: black;border-radius: 0.25em;background-color: #f0f8ff;}#sk-container-id-1 input.sk-toggleable__control:checked~div.sk-toggleable__content {max-height: 200px;max-width: 100%;overflow: auto;}#sk-container-id-1 input.sk-toggleable__control:checked~label.sk-toggleable__label-arrow:before {content: \"▾\";}#sk-container-id-1 div.sk-estimator input.sk-toggleable__control:checked~label.sk-toggleable__label {background-color: #d4ebff;}#sk-container-id-1 div.sk-label input.sk-toggleable__control:checked~label.sk-toggleable__label {background-color: #d4ebff;}#sk-container-id-1 input.sk-hidden--visually {border: 0;clip: rect(1px 1px 1px 1px);clip: rect(1px, 1px, 1px, 1px);height: 1px;margin: -1px;overflow: hidden;padding: 0;position: absolute;width: 1px;}#sk-container-id-1 div.sk-estimator {font-family: monospace;background-color: #f0f8ff;border: 1px dotted black;border-radius: 0.25em;box-sizing: border-box;margin-bottom: 0.5em;}#sk-container-id-1 div.sk-estimator:hover {background-color: #d4ebff;}#sk-container-id-1 div.sk-parallel-item::after {content: \"\";width: 100%;border-bottom: 1px solid gray;flex-grow: 1;}#sk-container-id-1 div.sk-label:hover label.sk-toggleable__label {background-color: #d4ebff;}#sk-container-id-1 div.sk-serial::before {content: \"\";position: absolute;border-left: 1px solid gray;box-sizing: border-box;top: 0;bottom: 0;left: 50%;z-index: 0;}#sk-container-id-1 div.sk-serial {display: flex;flex-direction: column;align-items: center;background-color: white;padding-right: 0.2em;padding-left: 0.2em;position: relative;}#sk-container-id-1 div.sk-item {position: relative;z-index: 1;}#sk-container-id-1 div.sk-parallel {display: flex;align-items: stretch;justify-content: center;background-color: white;position: relative;}#sk-container-id-1 div.sk-item::before, #sk-container-id-1 div.sk-parallel-item::before {content: \"\";position: absolute;border-left: 1px solid gray;box-sizing: border-box;top: 0;bottom: 0;left: 50%;z-index: -1;}#sk-container-id-1 div.sk-parallel-item {display: flex;flex-direction: column;z-index: 1;position: relative;background-color: white;}#sk-container-id-1 div.sk-parallel-item:first-child::after {align-self: flex-end;width: 50%;}#sk-container-id-1 div.sk-parallel-item:last-child::after {align-self: flex-start;width: 50%;}#sk-container-id-1 div.sk-parallel-item:only-child::after {width: 0;}#sk-container-id-1 div.sk-dashed-wrapped {border: 1px dashed gray;margin: 0 0.4em 0.5em 0.4em;box-sizing: border-box;padding-bottom: 0.4em;background-color: white;}#sk-container-id-1 div.sk-label label {font-family: monospace;font-weight: bold;display: inline-block;line-height: 1.2em;}#sk-container-id-1 div.sk-label-container {text-align: center;}#sk-container-id-1 div.sk-container {/* jupyter's `normalize.less` sets `[hidden] { display: none; }` but bootstrap.min.css set `[hidden] { display: none !important; }` so we also need the `!important` here to be able to override the default hidden behavior on the sphinx rendered scikit-learn.org. See: https://github.com/scikit-learn/scikit-learn/issues/21755 */display: inline-block !important;position: relative;}#sk-container-id-1 div.sk-text-repr-fallback {display: none;}</style><div id=\"sk-container-id-1\" class=\"sk-top-container\"><div class=\"sk-text-repr-fallback\"><pre>SVC(C=10, degree=5, gamma=0.001)</pre><b>In a Jupyter environment, please rerun this cell to show the HTML representation or trust the notebook. <br />On GitHub, the HTML representation is unable to render, please try loading this page with nbviewer.org.</b></div><div class=\"sk-container\" hidden><div class=\"sk-item\"><div class=\"sk-estimator sk-toggleable\"><input class=\"sk-toggleable__control sk-hidden--visually\" id=\"sk-estimator-id-1\" type=\"checkbox\" checked><label for=\"sk-estimator-id-1\" class=\"sk-toggleable__label sk-toggleable__label-arrow\">SVC</label><div class=\"sk-toggleable__content\"><pre>SVC(C=10, degree=5, gamma=0.001)</pre></div></div></div></div></div>"
      ],
      "text/plain": [
       "SVC(C=10, degree=5, gamma=0.001)"
      ]
     },
     "execution_count": 16,
     "metadata": {},
     "output_type": "execute_result"
    }
   ],
   "source": [
    "id_final = SVC(kernel=\"rbf\", C=10, gamma=0.001, degree=5)\n",
    "id_final.fit(id_x_train_pca, id_y_train_cat)"
   ]
  },
  {
   "cell_type": "code",
   "execution_count": 17,
   "metadata": {},
   "outputs": [
    {
     "name": "stdout",
     "output_type": "stream",
     "text": [
      "Accuracy:  0.9266666666666666\n",
      "Confusion matrix: \n",
      "[[11  0  0 ...  0  0  0]\n",
      " [ 0  8  0 ...  0  0  0]\n",
      " [ 0  0 12 ...  0  0  0]\n",
      " ...\n",
      " [ 0  0  0 ... 20  0  0]\n",
      " [ 0  0  0 ...  0 10  0]\n",
      " [ 0  0  0 ...  0  0 10]]\n",
      "Precision, recall, f1-score: \n",
      "Precision, Recall and F1 Score: (0.9337804984489194, 0.9266666666666666, 0.9273571572443967, None)\n"
     ]
    }
   ],
   "source": [
    "precision_recall_fscore_svc_final, cm_final = validate_model(\n",
    "    id_final, id_x_valid_pca, id_y_valid_cat\n",
    ")\n",
    "\n",
    "print(\"Precision, Recall and F1 Score:\", precision_recall_fscore_svc_final)"
   ]
  },
  {
   "cell_type": "code",
   "execution_count": null,
   "metadata": {},
   "outputs": [],
   "source": [
    "# Find min number of components for 90% accuracy\n",
    "score = 1\n",
    "\n",
    "id_x_train_pca = id_x_train_cat\n",
    "id_x_valid_pca = id_x_valid_cat\n",
    "\n",
    "while score > 0.90:\n",
    "    id_x_train_pca, id_x_valid_pca, id_n_components, id_pca_cat = do_pca(\n",
    "        id_x_train_pca, id_x_valid_pca, variance=0.95\n",
    "    )\n",
    "\n",
    "    print(\"Number of components: \", id_n_components)\n",
    "\n",
    "    id_final = SVC()\n",
    "    id_final.fit(id_x_train_pca, id_y_train_cat)\n",
    "\n",
    "    precision_recall_fscore_svc_final, cm_final = validate_model(\n",
    "        id_final, id_x_valid_pca, id_y_valid_cat\n",
    "    )\n",
    "\n",
    "    print(\"Precision, Recall and F1 Score:\", precision_recall_fscore_svc_final)\n",
    "\n",
    "    y_pred = id_final.predict(id_x_valid_pca)\n",
    "    score = accuracy_score(id_y_valid_cat, y_pred)\n",
    "    print(\"Accuracy: \", score)\n",
    "\n",
    "print(\"Final number of components: \", id_n_components)\n",
    "print(\"Final Precision, Recall and F1 Score:\", precision_recall_fscore_svc_final)"
   ]
  },
  {
   "cell_type": "code",
   "execution_count": 49,
   "metadata": {},
   "outputs": [
    {
     "name": "stdout",
     "output_type": "stream",
     "text": [
      "Function Initialised\n",
      "The autoreload extension is already loaded. To reload it, use:\n",
      "  %reload_ext autoreload\n"
     ]
    }
   ],
   "source": [
    "from tuner import tune_hyperparameters_svc\n",
    "%load_ext autoreload\n",
    "%autoreload 2\n"
   ]
  },
  {
   "cell_type": "code",
   "execution_count": 50,
   "metadata": {},
   "outputs": [
    {
     "name": "stdout",
     "output_type": "stream",
     "text": [
      "Fitting 5 folds for each of 5 candidates, totalling 25 fits\n"
     ]
    }
   ],
   "source": [
    "# FUNCTION TUNER\n",
    "id_grid = {\n",
    "    \"C\": [18, 20, 30, 40, 50],\n",
    "    \"gamma\": [\"scale\"],\n",
    "    \"kernel\": [\"rbf\"],\n",
    "}\n",
    "final_accuracy, final_model, pca_obj = tune_hyperparameters_svc(\"id\", id_grid)"
   ]
  },
  {
   "cell_type": "code",
   "execution_count": 55,
   "metadata": {},
   "outputs": [
    {
     "data": {
      "text/plain": [
       "{'kernel': 'rbf', 'gamma': 'scale', 'C': 30}"
      ]
     },
     "execution_count": 55,
     "metadata": {},
     "output_type": "execute_result"
    }
   ],
   "source": [
    "final_model.best_params_"
   ]
  },
  {
   "cell_type": "code",
   "execution_count": 56,
   "metadata": {},
   "outputs": [
    {
     "name": "stdout",
     "output_type": "stream",
     "text": [
      "Accuracy:  0.9626666666666667\n",
      "Confusion matrix: \n",
      "[[12  0  0 ...  0  0  0]\n",
      " [ 0  9  0 ...  0  0  0]\n",
      " [ 0  0 12 ...  0  0  0]\n",
      " ...\n",
      " [ 0  0  0 ... 20  0  0]\n",
      " [ 0  0  0 ...  0 10  0]\n",
      " [ 0  0  0 ...  0  0 10]]\n",
      "Precision, recall, f1-score: \n"
     ]
    }
   ],
   "source": [
    "final_final_model = SVC(**final_model.best_params_)\n",
    "final_final_model.fit(id_x_train_cat, id_y_train_cat)\n",
    "\n",
    "precision_recall_fscore_svc_final_final, cm_final_final = validate_model(\n",
    "    final_final_model, id_x_valid_cat, id_y_valid_cat\n",
    ")"
   ]
  },
  {
   "cell_type": "code",
   "execution_count": 51,
   "metadata": {},
   "outputs": [
    {
     "name": "stdout",
     "output_type": "stream",
     "text": [
      "Accuracy:  0.912\n",
      "Confusion matrix: \n",
      "[[11  0  0 ...  0  0  0]\n",
      " [ 0  9  0 ...  0  0  0]\n",
      " [ 0  0 11 ...  0  0  0]\n",
      " ...\n",
      " [ 0  0  0 ... 20  0  0]\n",
      " [ 0  0  0 ...  0 10  0]\n",
      " [ 0  0  0 ...  0  0 10]]\n",
      "Precision, recall, f1-score: \n",
      "Precision, Recall and F1 Score: (0.9170892152853453, 0.912, 0.9122559054597893, None)\n"
     ]
    }
   ],
   "source": [
    "precision_recall_fscore_svc_final, cm_final = validate_model(\n",
    "    final_model.best_estimator_, id_x_valid_pca, id_y_valid_cat\n",
    ")\n",
    "\n",
    "print(\"Precision, Recall and F1 Score:\", precision_recall_fscore_svc_final)"
   ]
  },
  {
   "cell_type": "code",
   "execution_count": 37,
   "metadata": {},
   "outputs": [
    {
     "name": "stdout",
     "output_type": "stream",
     "text": [
      "Fitting 5 folds for each of 20 candidates, totalling 100 fits\n",
      "classifier model scores {'id_SVC': 0.932}\n",
      "Accuracy:  0.932\n",
      "Confusion matrix: \n",
      "[[12  0  0 ...  0  0  0]\n",
      " [ 0  8  0 ...  0  0  0]\n",
      " [ 0  0 11 ...  0  0  0]\n",
      " ...\n",
      " [ 0  0  0 ... 20  0  0]\n",
      " [ 0  0  0 ...  0 10  0]\n",
      " [ 0  0  0 ...  0  0 10]]\n",
      "Precision, recall, f1-score: \n",
      "{'kernel': 'rbf', 'gamma': 'scale', 'C': 20}\n"
     ]
    },
    {
     "ename": "NameError",
     "evalue": "name 'id_x_test_pca_85' is not defined",
     "output_type": "error",
     "traceback": [
      "\u001b[1;31m---------------------------------------------------------------------------\u001b[0m",
      "\u001b[1;31mNameError\u001b[0m                                 Traceback (most recent call last)",
      "\u001b[1;32md:\\repos\\CS4622-ML-Labs\\MiniProject\\src\\miniProject.ipynb Cell 29\u001b[0m line \u001b[0;36m2\n\u001b[0;32m     <a href='vscode-notebook-cell:/d%3A/repos/CS4622-ML-Labs/MiniProject/src/miniProject.ipynb#X35sZmlsZQ%3D%3D?line=21'>22</a>\u001b[0m id_precision_recall_fscore_svc_final, id_cm_final \u001b[39m=\u001b[39m validate_model(id_rs_model[\u001b[39m\"\u001b[39m\u001b[39mid_SVC\u001b[39m\u001b[39m\"\u001b[39m]\u001b[39m.\u001b[39mbest_estimator_, id_x_valid_pca, id_y_valid_cat)\n\u001b[0;32m     <a href='vscode-notebook-cell:/d%3A/repos/CS4622-ML-Labs/MiniProject/src/miniProject.ipynb#X35sZmlsZQ%3D%3D?line=23'>24</a>\u001b[0m \u001b[39mprint\u001b[39m(id_rs_model[\u001b[39m\"\u001b[39m\u001b[39mid_SVC\u001b[39m\u001b[39m\"\u001b[39m]\u001b[39m.\u001b[39mbest_params_)\n\u001b[1;32m---> <a href='vscode-notebook-cell:/d%3A/repos/CS4622-ML-Labs/MiniProject/src/miniProject.ipynb#X35sZmlsZQ%3D%3D?line=25'>26</a>\u001b[0m id_label_1_final_preds \u001b[39m=\u001b[39m id_rs_model[\u001b[39m\"\u001b[39m\u001b[39mid_SVC\u001b[39m\u001b[39m\"\u001b[39m]\u001b[39m.\u001b[39mbest_estimator_\u001b[39m.\u001b[39mpredict(id_x_test_pca_85)\n\u001b[0;32m     <a href='vscode-notebook-cell:/d%3A/repos/CS4622-ML-Labs/MiniProject/src/miniProject.ipynb#X35sZmlsZQ%3D%3D?line=26'>27</a>\u001b[0m pd\u001b[39m.\u001b[39mDataFrame(id_label_1_final_preds, columns\u001b[39m=\u001b[39m[\u001b[39m\"\u001b[39m\u001b[39mlabel_1\u001b[39m\u001b[39m\"\u001b[39m])\u001b[39m.\u001b[39mto_csv(\u001b[39m\"\u001b[39m\u001b[39mid_label_1_final_preds.csv\u001b[39m\u001b[39m\"\u001b[39m)\n",
      "\u001b[1;31mNameError\u001b[0m: name 'id_x_test_pca_85' is not defined"
     ]
    }
   ],
   "source": [
    "# hyperparameter tuning for svc\n",
    "id_final_models = {\n",
    "    \"id_SVC\": SVC(),\n",
    "}\n",
    "\n",
    "id_grid = {\n",
    "    \"C\": [18, 20, 30, 40, 50],\n",
    "    \"gamma\": [\"scale\"],\n",
    "    \"kernel\": [\"rbf\"],\n",
    "}\n",
    "\n",
    "\n",
    "id_rs_model = tune_hyperparameters(\n",
    "    id_final_models,\n",
    "    id_grid,\n",
    "    id_x_train_pca,\n",
    "    id_x_valid_pca,\n",
    "    id_y_train_cat,\n",
    "    id_y_valid_cat,\n",
    ")\n",
    "\n",
    "id_precision_recall_fscore_svc_final, id_cm_final = validate_model(\n",
    "    id_rs_model[\"id_SVC\"].best_estimator_, id_x_valid_pca, id_y_valid_cat\n",
    ")\n",
    "\n",
    "print(id_rs_model[\"id_SVC\"].best_params_)\n",
    "\n",
    "id_label_1_final_preds = id_rs_model[\"id_SVC\"].best_estimator_.predict(id_x_test_pca_85)\n",
    "pd.DataFrame(id_label_1_final_preds, columns=[\"label_1\"]).to_csv(\n",
    "    \"id_label_1_final_preds.csv\"\n",
    ")"
   ]
  },
  {
   "cell_type": "code",
   "execution_count": null,
   "metadata": {},
   "outputs": [],
   "source": [
    "id_initial_test_preds = id_rs_model[\"id_SVC\"].predict(id_x_test_cat)\n",
    "pd.DataFrame(id_initial_test_preds, columns=[\"label_1\"]).to_csv(\n",
    "    \"id_initial_test_preds.csv\"\n",
    ")"
   ]
  },
  {
   "cell_type": "markdown",
   "metadata": {},
   "source": [
    "# Label 2\n"
   ]
  },
  {
   "cell_type": "markdown",
   "metadata": {},
   "source": [
    "{'kernel': 'rbf', 'gamma': 0.001, 'degree': 5, 'C': 10}\n"
   ]
  },
  {
   "cell_type": "code",
   "execution_count": 11,
   "metadata": {},
   "outputs": [],
   "source": [
    "# Handling NaN values in the age\n",
    "# Combine X and y into a single DataFrame\n",
    "\n",
    "age_data_train_cat = pd.concat([x_train_scaled, age_train], axis=1)\n",
    "age_data_valid_cat = pd.concat([x_valid_scaled, age_valid], axis=1)\n",
    "\n",
    "# Remove rows with null values\n",
    "age_data_cleaned_train_cat = age_data_train_cat.dropna()\n",
    "age_data_cleaned_valid_cat = age_data_valid_cat.dropna()\n",
    "\n",
    "# Separate X and y again\n",
    "age_x_train_cat = age_data_cleaned_train_cat.drop(columns=[\"label_2\"])\n",
    "age_y_train_cat = age_data_cleaned_train_cat[\"label_2\"]\n",
    "age_x_valid_cat = age_data_cleaned_valid_cat.drop(columns=[\"label_2\"])\n",
    "age_y_valid_cat = age_data_cleaned_valid_cat[\"label_2\"].to_frame()\n",
    "\n",
    "age_x_test_cat = x_test_scaled"
   ]
  },
  {
   "cell_type": "code",
   "execution_count": 28,
   "metadata": {},
   "outputs": [],
   "source": [
    "age_x_test_cat = x_test_scaled\n",
    "\n",
    "age_initial = SVC(kernel=\"rbf\", C=10, gamma=0.001)\n",
    "age_initial.fit(age_x_train_cat, age_y_train_cat)\n",
    "\n",
    "age_initial_test_preds = age_initial.predict(age_x_test_cat)\n",
    "pd.DataFrame(age_initial_test_preds, columns=[\"label_2\"]).to_csv(\n",
    "    \"age_initial_test_preds.csv\"\n",
    ")"
   ]
  },
  {
   "cell_type": "code",
   "execution_count": 95,
   "metadata": {},
   "outputs": [
    {
     "name": "stdout",
     "output_type": "stream",
     "text": [
      "Number of components:  307\n",
      "Accuracy:  0.9089673913043478\n",
      "Confusion matrix: \n",
      "[[ 34   0   0   0   2   0   0   0   0   0   0   0   0   0   0   0   0]\n",
      " [  0  66   0   0   3   0   1   0   1   0   0   0   0   0   0   0   0]\n",
      " [  1   0  44   0   1   0   0   0   0   0   0   0   0   0   0   0   0]\n",
      " [  0   2   0  65  10   0   1   0   0   1   0   0   0   0   0   0   0]\n",
      " [  0   1   0   2 110   1   1   0   0   0   0   0   0   0   0   0   0]\n",
      " [  0   1   0   1   7  69   0   0   1   2   0   0   0   0   0   0   0]\n",
      " [  1   0   0   0   1   1  43   0   0   0   0   0   0   0   0   0   0]\n",
      " [  1   0   0   0   2   0   0  41   0   1   0   0   0   0   0   0   0]\n",
      " [  0   0   0   0   3   0   0   0  45   0   0   0   0   0   0   0   0]\n",
      " [  1   2   0   0   1   0   1   0   0  60   0   0   0   0   0   0   0]\n",
      " [  0   0   0   0   1   0   0   0   0   0  10   0   0   0   0   0   0]\n",
      " [  0   0   1   1   2   0   0   0   0   0   0  26   0   0   0   0   0]\n",
      " [  0   0   1   0   0   0   0   0   0   0   0   0  10   0   0   0   0]\n",
      " [  0   1   0   0   0   0   0   0   0   0   0   0   0  10   0   0   0]\n",
      " [  0   0   0   0   0   0   0   0   0   0   0   0   0   0   8   0   0]\n",
      " [  0   1   0   0   3   0   0   0   0   0   0   0   0   0   0  10   0]\n",
      " [  0   0   0   0   0   0   1   0   0   0   0   0   0   0   0   0  18]]\n",
      "Precision, recall, f1-score: \n",
      "Precision, Recall and F1 Score: (0.9190496822182385, 0.9089673913043478, 0.9102602532225754, None)\n",
      "Accuracy:  0.9089673913043478\n",
      "Number of components:  188\n",
      "Accuracy:  0.9021739130434783\n",
      "Confusion matrix: \n",
      "[[ 34   0   0   0   2   0   0   0   0   0   0   0   0   0   0   0   0]\n",
      " [  0  66   0   0   3   0   1   0   1   0   0   0   0   0   0   0   0]\n",
      " [  1   1  42   0   2   0   0   0   0   0   0   0   0   0   0   0   0]\n",
      " [  0   2   0  66   9   0   1   0   0   1   0   0   0   0   0   0   0]\n",
      " [  0   1   0   2 110   1   0   0   0   1   0   0   0   0   0   0   0]\n",
      " [  0   1   0   1   8  69   0   0   1   1   0   0   0   0   0   0   0]\n",
      " [  1   0   0   0   1   1  43   0   0   0   0   0   0   0   0   0   0]\n",
      " [  1   0   0   0   1   0   0  41   1   1   0   0   0   0   0   0   0]\n",
      " [  0   0   0   0   3   0   0   0  45   0   0   0   0   0   0   0   0]\n",
      " [  1   2   1   0   2   0   1   0   0  58   0   0   0   0   0   0   0]\n",
      " [  0   0   0   0   2   0   0   0   0   0   9   0   0   0   0   0   0]\n",
      " [  0   0   1   1   3   0   0   0   0   0   0  25   0   0   0   0   0]\n",
      " [  0   0   1   0   0   0   0   0   0   0   0   0  10   0   0   0   0]\n",
      " [  0   0   0   0   0   0   0   1   0   0   0   0   0  10   0   0   0]\n",
      " [  0   0   0   0   0   0   0   0   0   0   0   0   0   0   8   0   0]\n",
      " [  0   0   0   0   3   1   0   0   0   0   0   0   0   0   0  10   0]\n",
      " [  0   0   0   0   0   0   1   0   0   0   0   0   0   0   0   0  18]]\n",
      "Precision, recall, f1-score: \n",
      "Precision, Recall and F1 Score: (0.9132687677177563, 0.9021739130434783, 0.9036745306390969, None)\n",
      "Accuracy:  0.9021739130434783\n",
      "Number of components:  128\n",
      "Accuracy:  0.8953804347826086\n",
      "Confusion matrix: \n",
      "[[ 32   1   0   0   3   0   0   0   0   0   0   0   0   0   0   0   0]\n",
      " [  1  65   0   0   3   0   1   0   1   0   0   0   0   0   0   0   0]\n",
      " [  1   1  41   0   3   0   0   0   0   0   0   0   0   0   0   0   0]\n",
      " [  0   2   0  65   9   0   1   0   0   2   0   0   0   0   0   0   0]\n",
      " [  0   1   0   1 111   0   1   0   0   1   0   0   0   0   0   0   0]\n",
      " [  0   0   0   1   7  70   0   0   1   2   0   0   0   0   0   0   0]\n",
      " [  1   1   0   0   2   1  41   0   0   0   0   0   0   0   0   0   0]\n",
      " [  1   0   0   0   1   0   0  41   1   1   0   0   0   0   0   0   0]\n",
      " [  0   0   0   0   3   0   0   0  45   0   0   0   0   0   0   0   0]\n",
      " [  1   2   1   0   2   0   1   0   0  58   0   0   0   0   0   0   0]\n",
      " [  0   0   0   0   2   0   0   0   0   0   9   0   0   0   0   0   0]\n",
      " [  0   0   1   1   3   0   0   0   0   0   0  25   0   0   0   0   0]\n",
      " [  0   0   1   0   0   0   0   0   0   0   0   0  10   0   0   0   0]\n",
      " [  0   0   0   0   0   0   0   1   0   0   0   0   0  10   0   0   0]\n",
      " [  0   0   0   0   0   0   0   0   0   0   0   0   0   0   8   0   0]\n",
      " [  0   1   0   0   3   0   0   0   0   0   0   0   0   0   0  10   0]\n",
      " [  0   0   0   0   0   0   1   0   0   0   0   0   0   0   0   0  18]]\n",
      "Precision, recall, f1-score: \n",
      "Precision, Recall and F1 Score: (0.9083594860897187, 0.8953804347826086, 0.8972238865618845, None)\n",
      "Accuracy:  0.8953804347826086\n",
      "Final number of components:  128\n",
      "Final Precision, Recall and F1 Score: (0.9083594860897187, 0.8953804347826086, 0.8972238865618845, None)\n"
     ]
    }
   ],
   "source": [
    "n_pca, pca_cat = find_min_pca_components(\n",
    "    age_x_train_cat, age_x_valid_cat, age_y_train_cat, age_y_valid_cat\n",
    ")"
   ]
  },
  {
   "cell_type": "code",
   "execution_count": 96,
   "metadata": {},
   "outputs": [],
   "source": [
    "age_x_train_pca, age_x_valid_pca, age_n_components, age_pca_cat = do_pca(\n",
    "    age_x_train_cat, age_x_valid_cat, n_components=180\n",
    ")"
   ]
  },
  {
   "cell_type": "code",
   "execution_count": 97,
   "metadata": {},
   "outputs": [
    {
     "data": {
      "text/html": [
       "<style>#sk-container-id-8 {color: black;}#sk-container-id-8 pre{padding: 0;}#sk-container-id-8 div.sk-toggleable {background-color: white;}#sk-container-id-8 label.sk-toggleable__label {cursor: pointer;display: block;width: 100%;margin-bottom: 0;padding: 0.3em;box-sizing: border-box;text-align: center;}#sk-container-id-8 label.sk-toggleable__label-arrow:before {content: \"▸\";float: left;margin-right: 0.25em;color: #696969;}#sk-container-id-8 label.sk-toggleable__label-arrow:hover:before {color: black;}#sk-container-id-8 div.sk-estimator:hover label.sk-toggleable__label-arrow:before {color: black;}#sk-container-id-8 div.sk-toggleable__content {max-height: 0;max-width: 0;overflow: hidden;text-align: left;background-color: #f0f8ff;}#sk-container-id-8 div.sk-toggleable__content pre {margin: 0.2em;color: black;border-radius: 0.25em;background-color: #f0f8ff;}#sk-container-id-8 input.sk-toggleable__control:checked~div.sk-toggleable__content {max-height: 200px;max-width: 100%;overflow: auto;}#sk-container-id-8 input.sk-toggleable__control:checked~label.sk-toggleable__label-arrow:before {content: \"▾\";}#sk-container-id-8 div.sk-estimator input.sk-toggleable__control:checked~label.sk-toggleable__label {background-color: #d4ebff;}#sk-container-id-8 div.sk-label input.sk-toggleable__control:checked~label.sk-toggleable__label {background-color: #d4ebff;}#sk-container-id-8 input.sk-hidden--visually {border: 0;clip: rect(1px 1px 1px 1px);clip: rect(1px, 1px, 1px, 1px);height: 1px;margin: -1px;overflow: hidden;padding: 0;position: absolute;width: 1px;}#sk-container-id-8 div.sk-estimator {font-family: monospace;background-color: #f0f8ff;border: 1px dotted black;border-radius: 0.25em;box-sizing: border-box;margin-bottom: 0.5em;}#sk-container-id-8 div.sk-estimator:hover {background-color: #d4ebff;}#sk-container-id-8 div.sk-parallel-item::after {content: \"\";width: 100%;border-bottom: 1px solid gray;flex-grow: 1;}#sk-container-id-8 div.sk-label:hover label.sk-toggleable__label {background-color: #d4ebff;}#sk-container-id-8 div.sk-serial::before {content: \"\";position: absolute;border-left: 1px solid gray;box-sizing: border-box;top: 0;bottom: 0;left: 50%;z-index: 0;}#sk-container-id-8 div.sk-serial {display: flex;flex-direction: column;align-items: center;background-color: white;padding-right: 0.2em;padding-left: 0.2em;position: relative;}#sk-container-id-8 div.sk-item {position: relative;z-index: 1;}#sk-container-id-8 div.sk-parallel {display: flex;align-items: stretch;justify-content: center;background-color: white;position: relative;}#sk-container-id-8 div.sk-item::before, #sk-container-id-8 div.sk-parallel-item::before {content: \"\";position: absolute;border-left: 1px solid gray;box-sizing: border-box;top: 0;bottom: 0;left: 50%;z-index: -1;}#sk-container-id-8 div.sk-parallel-item {display: flex;flex-direction: column;z-index: 1;position: relative;background-color: white;}#sk-container-id-8 div.sk-parallel-item:first-child::after {align-self: flex-end;width: 50%;}#sk-container-id-8 div.sk-parallel-item:last-child::after {align-self: flex-start;width: 50%;}#sk-container-id-8 div.sk-parallel-item:only-child::after {width: 0;}#sk-container-id-8 div.sk-dashed-wrapped {border: 1px dashed gray;margin: 0 0.4em 0.5em 0.4em;box-sizing: border-box;padding-bottom: 0.4em;background-color: white;}#sk-container-id-8 div.sk-label label {font-family: monospace;font-weight: bold;display: inline-block;line-height: 1.2em;}#sk-container-id-8 div.sk-label-container {text-align: center;}#sk-container-id-8 div.sk-container {/* jupyter's `normalize.less` sets `[hidden] { display: none; }` but bootstrap.min.css set `[hidden] { display: none !important; }` so we also need the `!important` here to be able to override the default hidden behavior on the sphinx rendered scikit-learn.org. See: https://github.com/scikit-learn/scikit-learn/issues/21755 */display: inline-block !important;position: relative;}#sk-container-id-8 div.sk-text-repr-fallback {display: none;}</style><div id=\"sk-container-id-8\" class=\"sk-top-container\"><div class=\"sk-text-repr-fallback\"><pre>SVC()</pre><b>In a Jupyter environment, please rerun this cell to show the HTML representation or trust the notebook. <br />On GitHub, the HTML representation is unable to render, please try loading this page with nbviewer.org.</b></div><div class=\"sk-container\" hidden><div class=\"sk-item\"><div class=\"sk-estimator sk-toggleable\"><input class=\"sk-toggleable__control sk-hidden--visually\" id=\"sk-estimator-id-8\" type=\"checkbox\" checked><label for=\"sk-estimator-id-8\" class=\"sk-toggleable__label sk-toggleable__label-arrow\">SVC</label><div class=\"sk-toggleable__content\"><pre>SVC()</pre></div></div></div></div></div>"
      ],
      "text/plain": [
       "SVC()"
      ]
     },
     "execution_count": 97,
     "metadata": {},
     "output_type": "execute_result"
    }
   ],
   "source": [
    "age_final = SVC()\n",
    "age_final.fit(age_x_train_pca, age_y_train_cat)"
   ]
  },
  {
   "cell_type": "code",
   "execution_count": 98,
   "metadata": {},
   "outputs": [
    {
     "name": "stdout",
     "output_type": "stream",
     "text": [
      "Accuracy:  0.9021739130434783\n",
      "Confusion matrix: \n",
      "[[ 34   0   0   0   2   0   0   0   0   0   0   0   0   0   0   0   0]\n",
      " [  1  65   0   0   3   0   1   0   1   0   0   0   0   0   0   0   0]\n",
      " [  1   1  42   0   2   0   0   0   0   0   0   0   0   0   0   0   0]\n",
      " [  0   2   0  65   9   0   1   0   0   2   0   0   0   0   0   0   0]\n",
      " [  0   1   0   2 111   0   0   0   0   1   0   0   0   0   0   0   0]\n",
      " [  0   0   0   1   8  69   0   1   1   1   0   0   0   0   0   0   0]\n",
      " [  1   0   0   0   1   1  43   0   0   0   0   0   0   0   0   0   0]\n",
      " [  1   0   0   0   1   0   0  41   1   1   0   0   0   0   0   0   0]\n",
      " [  0   0   0   0   2   0   0   0  46   0   0   0   0   0   0   0   0]\n",
      " [  1   2   0   0   3   0   1   0   0  58   0   0   0   0   0   0   0]\n",
      " [  0   0   0   0   2   0   0   0   0   0   9   0   0   0   0   0   0]\n",
      " [  0   0   1   1   3   0   0   0   0   0   0  25   0   0   0   0   0]\n",
      " [  0   0   1   0   0   0   0   0   0   0   0   0  10   0   0   0   0]\n",
      " [  0   0   0   0   0   0   0   1   0   0   0   0   0  10   0   0   0]\n",
      " [  0   0   0   0   0   0   0   0   0   0   0   0   0   0   8   0   0]\n",
      " [  0   0   0   0   3   1   0   0   0   0   0   0   0   0   0  10   0]\n",
      " [  0   0   0   0   0   0   1   0   0   0   0   0   0   0   0   0  18]]\n",
      "Precision, recall, f1-score: \n",
      "Precision, Recall and F1 Score: (0.9136234829703318, 0.9021739130434783, 0.9035652971678031, None)\n"
     ]
    }
   ],
   "source": [
    "age_precision_recall_fscore_svc_final, age_cm_final = validate_model(\n",
    "    age_final, age_x_valid_pca, age_y_valid_cat\n",
    ")\n",
    "\n",
    "print(\"Precision, Recall and F1 Score:\", age_precision_recall_fscore_svc_final)"
   ]
  },
  {
   "cell_type": "code",
   "execution_count": 13,
   "metadata": {},
   "outputs": [
    {
     "name": "stdout",
     "output_type": "stream",
     "text": [
      "Function Initialised\n"
     ]
    }
   ],
   "source": [
    "from tuner import tune_hyperparameters_svc\n",
    "%load_ext autoreload\n",
    "%autoreload 2\n"
   ]
  },
  {
   "cell_type": "code",
   "execution_count": 14,
   "metadata": {},
   "outputs": [
    {
     "name": "stdout",
     "output_type": "stream",
     "text": [
      "Fitting 5 folds for each of 12 candidates, totalling 60 fits\n",
      "Final Accuracy:  0.9320652173913043\n",
      "Full DS Accuracy:  0.9510869565217391\n",
      "Best Params:  {'kernel': 'rbf', 'gamma': 'scale', 'degree': 5, 'C': 30}\n"
     ]
    },
    {
     "ename": "ValueError",
     "evalue": "too many values to unpack (expected 3)",
     "output_type": "error",
     "traceback": [
      "\u001b[1;31m---------------------------------------------------------------------------\u001b[0m",
      "\u001b[1;31mValueError\u001b[0m                                Traceback (most recent call last)",
      "\u001b[1;32md:\\repos\\CS4622-ML-Labs\\MiniProject\\src\\miniProject.ipynb Cell 45\u001b[0m line \u001b[0;36m7\n\u001b[0;32m      <a href='vscode-notebook-cell:/d%3A/repos/CS4622-ML-Labs/MiniProject/src/miniProject.ipynb#X61sZmlsZQ%3D%3D?line=0'>1</a>\u001b[0m id_grid \u001b[39m=\u001b[39m {\n\u001b[0;32m      <a href='vscode-notebook-cell:/d%3A/repos/CS4622-ML-Labs/MiniProject/src/miniProject.ipynb#X61sZmlsZQ%3D%3D?line=1'>2</a>\u001b[0m     \u001b[39m\"\u001b[39m\u001b[39mC\u001b[39m\u001b[39m\"\u001b[39m: [\u001b[39m30\u001b[39m, \u001b[39m100\u001b[39m],\n\u001b[0;32m      <a href='vscode-notebook-cell:/d%3A/repos/CS4622-ML-Labs/MiniProject/src/miniProject.ipynb#X61sZmlsZQ%3D%3D?line=2'>3</a>\u001b[0m     \u001b[39m\"\u001b[39m\u001b[39mgamma\u001b[39m\u001b[39m\"\u001b[39m: [\u001b[39m\"\u001b[39m\u001b[39mscale\u001b[39m\u001b[39m\"\u001b[39m],\n\u001b[0;32m      <a href='vscode-notebook-cell:/d%3A/repos/CS4622-ML-Labs/MiniProject/src/miniProject.ipynb#X61sZmlsZQ%3D%3D?line=3'>4</a>\u001b[0m     \u001b[39m\"\u001b[39m\u001b[39mkernel\u001b[39m\u001b[39m\"\u001b[39m: [\u001b[39m\"\u001b[39m\u001b[39mrbf\u001b[39m\u001b[39m\"\u001b[39m, \u001b[39m\"\u001b[39m\u001b[39mpoly\u001b[39m\u001b[39m\"\u001b[39m],\n\u001b[0;32m      <a href='vscode-notebook-cell:/d%3A/repos/CS4622-ML-Labs/MiniProject/src/miniProject.ipynb#X61sZmlsZQ%3D%3D?line=4'>5</a>\u001b[0m     \u001b[39m\"\u001b[39m\u001b[39mdegree\u001b[39m\u001b[39m\"\u001b[39m: [\u001b[39m5\u001b[39m, \u001b[39m6\u001b[39m, \u001b[39m7\u001b[39m],\n\u001b[0;32m      <a href='vscode-notebook-cell:/d%3A/repos/CS4622-ML-Labs/MiniProject/src/miniProject.ipynb#X61sZmlsZQ%3D%3D?line=5'>6</a>\u001b[0m }\n\u001b[1;32m----> <a href='vscode-notebook-cell:/d%3A/repos/CS4622-ML-Labs/MiniProject/src/miniProject.ipynb#X61sZmlsZQ%3D%3D?line=6'>7</a>\u001b[0m final_accuracy, final_model, pca_obj \u001b[39m=\u001b[39m tune_hyperparameters_svc(\u001b[39m\"\u001b[39m\u001b[39mage\u001b[39m\u001b[39m\"\u001b[39m, id_grid)\n",
      "\u001b[1;31mValueError\u001b[0m: too many values to unpack (expected 3)"
     ]
    }
   ],
   "source": [
    "id_grid = {\n",
    "    \"C\": [30, 100],\n",
    "    \"gamma\": [\"scale\"],\n",
    "    \"kernel\": [\"rbf\", \"poly\"],\n",
    "    \"degree\": [5, 6, 7],\n",
    "}\n",
    "final_accuracy, final_model, pca_obj = tune_hyperparameters_svc(\"age\", id_grid)"
   ]
  },
  {
   "cell_type": "code",
   "execution_count": null,
   "metadata": {},
   "outputs": [],
   "source": [
    "# hyperparameter tuning for svc\n",
    "age_final_models = {\n",
    "    \"age_SVC\": SVC(),\n",
    "}\n",
    "\n",
    "age_grid = {\n",
    "    \"C\": [0.1, 1, 10],\n",
    "    \"gamma\": [1, 0.1, 0.01],\n",
    "    \"kernel\": [\"rbf\", \"poly\", \"sigmoid\"],\n",
    "    \"degree\": [1, 2, 3, 4, 5],\n",
    "}\n",
    "\n",
    "age_grid = {\n",
    "    \"C\": [0.1, 1],\n",
    "    \"gamma\": [1, 0.01],\n",
    "    \"kernel\": [\"rbf\"],\n",
    "    \"degree\": [1, 2],\n",
    "}\n",
    "\n",
    "\n",
    "age_rs_model = tune_hyperparameters(\n",
    "    age_final_models,\n",
    "    age_grid,\n",
    "    age_x_train_pca,\n",
    "    age_x_valid_pca,\n",
    "    age_y_train_cat,\n",
    "    age_y_valid_cat,\n",
    ")"
   ]
  },
  {
   "cell_type": "markdown",
   "metadata": {},
   "source": [
    "# Label 3 - Gender\n"
   ]
  },
  {
   "cell_type": "code",
   "execution_count": 30,
   "metadata": {},
   "outputs": [],
   "source": [
    "# Handling NaN values in the age\n",
    "# Combine X and y into a single DataFrame\n",
    "\n",
    "gender_data_train_cat = pd.concat([x_train_scaled, gender_train], axis=1)\n",
    "gender_data_valid_cat = pd.concat([x_valid_scaled, gender_valid], axis=1)\n",
    "\n",
    "# Remove rows with null values\n",
    "gender_data_cleaned_train_cat = gender_data_train_cat.dropna()\n",
    "gender_data_cleaned_valid_cat = gender_data_valid_cat.dropna()\n",
    "\n",
    "# Separate X and y again\n",
    "gender_x_train_cat = gender_data_cleaned_train_cat.drop(columns=[\"label_3\"])\n",
    "gender_y_train_cat = gender_data_cleaned_train_cat[\"label_3\"]\n",
    "gender_x_valid_cat = gender_data_cleaned_valid_cat.drop(columns=[\"label_3\"])\n",
    "gender_y_valid_cat = gender_data_cleaned_valid_cat[\"label_3\"].to_frame()"
   ]
  },
  {
   "cell_type": "code",
   "execution_count": 31,
   "metadata": {},
   "outputs": [],
   "source": [
    "gender_x_test_cat = x_test_scaled\n",
    "\n",
    "gender_initial = SVC(kernel=\"rbf\", C=10, gamma=0.001)\n",
    "gender_initial.fit(gender_x_train_cat, gender_y_train_cat)\n",
    "\n",
    "gender_initial_test_preds = gender_initial.predict(gender_x_test_cat)\n",
    "pd.DataFrame(gender_initial_test_preds, columns=[\"label_3\"]).to_csv(\n",
    "    \"gender_initial_test_preds.csv\"\n",
    ")"
   ]
  },
  {
   "cell_type": "code",
   "execution_count": 101,
   "metadata": {},
   "outputs": [
    {
     "data": {
      "text/html": [
       "<style>#sk-container-id-9 {color: black;}#sk-container-id-9 pre{padding: 0;}#sk-container-id-9 div.sk-toggleable {background-color: white;}#sk-container-id-9 label.sk-toggleable__label {cursor: pointer;display: block;width: 100%;margin-bottom: 0;padding: 0.3em;box-sizing: border-box;text-align: center;}#sk-container-id-9 label.sk-toggleable__label-arrow:before {content: \"▸\";float: left;margin-right: 0.25em;color: #696969;}#sk-container-id-9 label.sk-toggleable__label-arrow:hover:before {color: black;}#sk-container-id-9 div.sk-estimator:hover label.sk-toggleable__label-arrow:before {color: black;}#sk-container-id-9 div.sk-toggleable__content {max-height: 0;max-width: 0;overflow: hidden;text-align: left;background-color: #f0f8ff;}#sk-container-id-9 div.sk-toggleable__content pre {margin: 0.2em;color: black;border-radius: 0.25em;background-color: #f0f8ff;}#sk-container-id-9 input.sk-toggleable__control:checked~div.sk-toggleable__content {max-height: 200px;max-width: 100%;overflow: auto;}#sk-container-id-9 input.sk-toggleable__control:checked~label.sk-toggleable__label-arrow:before {content: \"▾\";}#sk-container-id-9 div.sk-estimator input.sk-toggleable__control:checked~label.sk-toggleable__label {background-color: #d4ebff;}#sk-container-id-9 div.sk-label input.sk-toggleable__control:checked~label.sk-toggleable__label {background-color: #d4ebff;}#sk-container-id-9 input.sk-hidden--visually {border: 0;clip: rect(1px 1px 1px 1px);clip: rect(1px, 1px, 1px, 1px);height: 1px;margin: -1px;overflow: hidden;padding: 0;position: absolute;width: 1px;}#sk-container-id-9 div.sk-estimator {font-family: monospace;background-color: #f0f8ff;border: 1px dotted black;border-radius: 0.25em;box-sizing: border-box;margin-bottom: 0.5em;}#sk-container-id-9 div.sk-estimator:hover {background-color: #d4ebff;}#sk-container-id-9 div.sk-parallel-item::after {content: \"\";width: 100%;border-bottom: 1px solid gray;flex-grow: 1;}#sk-container-id-9 div.sk-label:hover label.sk-toggleable__label {background-color: #d4ebff;}#sk-container-id-9 div.sk-serial::before {content: \"\";position: absolute;border-left: 1px solid gray;box-sizing: border-box;top: 0;bottom: 0;left: 50%;z-index: 0;}#sk-container-id-9 div.sk-serial {display: flex;flex-direction: column;align-items: center;background-color: white;padding-right: 0.2em;padding-left: 0.2em;position: relative;}#sk-container-id-9 div.sk-item {position: relative;z-index: 1;}#sk-container-id-9 div.sk-parallel {display: flex;align-items: stretch;justify-content: center;background-color: white;position: relative;}#sk-container-id-9 div.sk-item::before, #sk-container-id-9 div.sk-parallel-item::before {content: \"\";position: absolute;border-left: 1px solid gray;box-sizing: border-box;top: 0;bottom: 0;left: 50%;z-index: -1;}#sk-container-id-9 div.sk-parallel-item {display: flex;flex-direction: column;z-index: 1;position: relative;background-color: white;}#sk-container-id-9 div.sk-parallel-item:first-child::after {align-self: flex-end;width: 50%;}#sk-container-id-9 div.sk-parallel-item:last-child::after {align-self: flex-start;width: 50%;}#sk-container-id-9 div.sk-parallel-item:only-child::after {width: 0;}#sk-container-id-9 div.sk-dashed-wrapped {border: 1px dashed gray;margin: 0 0.4em 0.5em 0.4em;box-sizing: border-box;padding-bottom: 0.4em;background-color: white;}#sk-container-id-9 div.sk-label label {font-family: monospace;font-weight: bold;display: inline-block;line-height: 1.2em;}#sk-container-id-9 div.sk-label-container {text-align: center;}#sk-container-id-9 div.sk-container {/* jupyter's `normalize.less` sets `[hidden] { display: none; }` but bootstrap.min.css set `[hidden] { display: none !important; }` so we also need the `!important` here to be able to override the default hidden behavior on the sphinx rendered scikit-learn.org. See: https://github.com/scikit-learn/scikit-learn/issues/21755 */display: inline-block !important;position: relative;}#sk-container-id-9 div.sk-text-repr-fallback {display: none;}</style><div id=\"sk-container-id-9\" class=\"sk-top-container\"><div class=\"sk-text-repr-fallback\"><pre>SVC()</pre><b>In a Jupyter environment, please rerun this cell to show the HTML representation or trust the notebook. <br />On GitHub, the HTML representation is unable to render, please try loading this page with nbviewer.org.</b></div><div class=\"sk-container\" hidden><div class=\"sk-item\"><div class=\"sk-estimator sk-toggleable\"><input class=\"sk-toggleable__control sk-hidden--visually\" id=\"sk-estimator-id-9\" type=\"checkbox\" checked><label for=\"sk-estimator-id-9\" class=\"sk-toggleable__label sk-toggleable__label-arrow\">SVC</label><div class=\"sk-toggleable__content\"><pre>SVC()</pre></div></div></div></div></div>"
      ],
      "text/plain": [
       "SVC()"
      ]
     },
     "execution_count": 101,
     "metadata": {},
     "output_type": "execute_result"
    }
   ],
   "source": [
    "gender_initial = SVC()\n",
    "gender_initial.fit(gender_x_train_cat, gender_y_train_cat)"
   ]
  },
  {
   "cell_type": "code",
   "execution_count": 32,
   "metadata": {},
   "outputs": [
    {
     "name": "stdout",
     "output_type": "stream",
     "text": [
      "Accuracy:  0.996\n",
      "Confusion matrix: \n",
      "[[141   1]\n",
      " [  2 606]]\n",
      "Precision, recall, f1-score: \n",
      "Precision, Recall and F1 Score: (0.9960164514233708, 0.996, 0.9960053714533247, None)\n"
     ]
    }
   ],
   "source": [
    "gender_precision_recall_fscore_svc_initial, gender_cm_initial = validate_model(\n",
    "    gender_initial, gender_x_valid_cat, gender_y_valid_cat\n",
    ")\n",
    "\n",
    "print(\"Precision, Recall and F1 Score:\", gender_precision_recall_fscore_svc_initial)"
   ]
  },
  {
   "cell_type": "code",
   "execution_count": 104,
   "metadata": {},
   "outputs": [
    {
     "name": "stdout",
     "output_type": "stream",
     "text": [
      "Number of components:  308\n",
      "Accuracy:  0.9973333333333333\n",
      "Confusion matrix: \n",
      "[[141   1]\n",
      " [  1 607]]\n",
      "Precision, recall, f1-score: \n",
      "Precision, Recall and F1 Score: (0.9973333333333333, 0.9973333333333333, 0.9973333333333333, None)\n",
      "Accuracy:  0.9973333333333333\n",
      "Number of components:  189\n",
      "Accuracy:  0.9973333333333333\n",
      "Confusion matrix: \n",
      "[[141   1]\n",
      " [  1 607]]\n",
      "Precision, recall, f1-score: \n",
      "Precision, Recall and F1 Score: (0.9973333333333333, 0.9973333333333333, 0.9973333333333333, None)\n",
      "Accuracy:  0.9973333333333333\n",
      "Number of components:  128\n",
      "Accuracy:  0.9973333333333333\n",
      "Confusion matrix: \n",
      "[[140   2]\n",
      " [  0 608]]\n",
      "Precision, recall, f1-score: \n",
      "Precision, Recall and F1 Score: (0.9973420765027322, 0.9973333333333333, 0.9973260664500576, None)\n",
      "Accuracy:  0.9973333333333333\n",
      "Number of components:  92\n",
      "Accuracy:  0.9946666666666667\n",
      "Confusion matrix: \n",
      "[[139   3]\n",
      " [  1 607]]\n",
      "Precision, recall, f1-score: \n",
      "Precision, Recall and F1 Score: (0.9946607338017173, 0.9946666666666667, 0.9946521329001151, None)\n",
      "Accuracy:  0.9946666666666667\n",
      "Number of components:  68\n",
      "Accuracy:  0.992\n",
      "Confusion matrix: \n",
      "[[138   4]\n",
      " [  2 606]]\n",
      "Precision, recall, f1-score: \n",
      "Precision, Recall and F1 Score: (0.9919793911007024, 0.992, 0.9919781993501731, None)\n",
      "Accuracy:  0.992\n",
      "Number of components:  52\n",
      "Accuracy:  0.9906666666666667\n",
      "Confusion matrix: \n",
      "[[137   5]\n",
      " [  2 606]]\n",
      "Precision, recall, f1-score: \n",
      "Precision, Recall and F1 Score: (0.9906418459340548, 0.9906666666666667, 0.9906283294262357, None)\n",
      "Accuracy:  0.9906666666666667\n",
      "Number of components:  41\n",
      "Accuracy:  0.992\n",
      "Confusion matrix: \n",
      "[[137   5]\n",
      " [  1 607]]\n",
      "Precision, recall, f1-score: \n",
      "Precision, Recall and F1 Score: (0.9920049256417544, 0.992, 0.9919559718969555, None)\n",
      "Accuracy:  0.992\n",
      "Number of components:  32\n",
      "Accuracy:  0.9933333333333333\n",
      "Confusion matrix: \n",
      "[[137   5]\n",
      " [  0 608]]\n",
      "Precision, recall, f1-score: \n",
      "Precision, Recall and F1 Score: (0.9933877107123437, 0.9933333333333333, 0.993287246190472, None)\n",
      "Accuracy:  0.9933333333333333\n",
      "Number of components:  26\n",
      "Accuracy:  0.9893333333333333\n",
      "Confusion matrix: \n",
      "[[135   7]\n",
      " [  1 607]]\n",
      "Precision, recall, f1-score: \n",
      "Precision, Recall and F1 Score: (0.9893657150156481, 0.9893333333333333, 0.9892444119990423, None)\n",
      "Accuracy:  0.9893333333333333\n",
      "Number of components:  22\n",
      "Accuracy:  0.9826666666666667\n",
      "Confusion matrix: \n",
      "[[134   8]\n",
      " [  5 603]]\n",
      "Precision, recall, f1-score: \n",
      "Precision, Recall and F1 Score: (0.9825751549333366, 0.9826666666666667, 0.9825954689344377, None)\n",
      "Accuracy:  0.9826666666666667\n",
      "Number of components:  19\n",
      "Accuracy:  0.9786666666666667\n",
      "Confusion matrix: \n",
      "[[131  11]\n",
      " [  5 603]]\n",
      "Precision, recall, f1-score: \n",
      "Precision, Recall and F1 Score: (0.9785158714951778, 0.9786666666666667, 0.9784888239980847, None)\n",
      "Accuracy:  0.9786666666666667\n",
      "Number of components:  17\n",
      "Accuracy:  0.9706666666666667\n",
      "Confusion matrix: \n",
      "[[130  12]\n",
      " [ 10 598]]\n",
      "Precision, recall, f1-score: \n",
      "Precision, Recall and F1 Score: (0.970528649492584, 0.9706666666666667, 0.9705867309506342, None)\n",
      "Accuracy:  0.9706666666666667\n",
      "Number of components:  15\n",
      "Accuracy:  0.972\n",
      "Confusion matrix: \n",
      "[[129  13]\n",
      " [  8 600]]\n",
      "Precision, recall, f1-score: \n",
      "Precision, Recall and F1 Score: (0.971752086781534, 0.972, 0.9718064339999825, None)\n",
      "Accuracy:  0.972\n",
      "Number of components:  13\n",
      "Accuracy:  0.9453333333333334\n",
      "Confusion matrix: \n",
      "[[115  27]\n",
      " [ 14 594]]\n",
      "Precision, recall, f1-score: \n",
      "Precision, Recall and F1 Score: (0.9442058195708347, 0.9453333333333334, 0.9443112641704124, None)\n",
      "Accuracy:  0.9453333333333334\n",
      "Final number of components:  13\n",
      "Final Precision, Recall and F1 Score: (0.9442058195708347, 0.9453333333333334, 0.9443112641704124, None)\n"
     ]
    }
   ],
   "source": [
    "gender_n_pca, gender_pca_cat = find_min_pca_components(\n",
    "    gender_x_train_cat,\n",
    "    gender_x_valid_cat,\n",
    "    gender_y_train_cat,\n",
    "    gender_y_valid_cat,\n",
    "    threshold=0.95,\n",
    ")"
   ]
  },
  {
   "cell_type": "code",
   "execution_count": 105,
   "metadata": {},
   "outputs": [],
   "source": [
    "gender_x_train_pca, gender_x_valid_pca, gender_n_components, gender_pca_cat = do_pca(\n",
    "    gender_x_train_cat, gender_x_valid_cat, n_components=32\n",
    ")"
   ]
  },
  {
   "cell_type": "code",
   "execution_count": 106,
   "metadata": {},
   "outputs": [
    {
     "data": {
      "text/html": [
       "<style>#sk-container-id-10 {color: black;}#sk-container-id-10 pre{padding: 0;}#sk-container-id-10 div.sk-toggleable {background-color: white;}#sk-container-id-10 label.sk-toggleable__label {cursor: pointer;display: block;width: 100%;margin-bottom: 0;padding: 0.3em;box-sizing: border-box;text-align: center;}#sk-container-id-10 label.sk-toggleable__label-arrow:before {content: \"▸\";float: left;margin-right: 0.25em;color: #696969;}#sk-container-id-10 label.sk-toggleable__label-arrow:hover:before {color: black;}#sk-container-id-10 div.sk-estimator:hover label.sk-toggleable__label-arrow:before {color: black;}#sk-container-id-10 div.sk-toggleable__content {max-height: 0;max-width: 0;overflow: hidden;text-align: left;background-color: #f0f8ff;}#sk-container-id-10 div.sk-toggleable__content pre {margin: 0.2em;color: black;border-radius: 0.25em;background-color: #f0f8ff;}#sk-container-id-10 input.sk-toggleable__control:checked~div.sk-toggleable__content {max-height: 200px;max-width: 100%;overflow: auto;}#sk-container-id-10 input.sk-toggleable__control:checked~label.sk-toggleable__label-arrow:before {content: \"▾\";}#sk-container-id-10 div.sk-estimator input.sk-toggleable__control:checked~label.sk-toggleable__label {background-color: #d4ebff;}#sk-container-id-10 div.sk-label input.sk-toggleable__control:checked~label.sk-toggleable__label {background-color: #d4ebff;}#sk-container-id-10 input.sk-hidden--visually {border: 0;clip: rect(1px 1px 1px 1px);clip: rect(1px, 1px, 1px, 1px);height: 1px;margin: -1px;overflow: hidden;padding: 0;position: absolute;width: 1px;}#sk-container-id-10 div.sk-estimator {font-family: monospace;background-color: #f0f8ff;border: 1px dotted black;border-radius: 0.25em;box-sizing: border-box;margin-bottom: 0.5em;}#sk-container-id-10 div.sk-estimator:hover {background-color: #d4ebff;}#sk-container-id-10 div.sk-parallel-item::after {content: \"\";width: 100%;border-bottom: 1px solid gray;flex-grow: 1;}#sk-container-id-10 div.sk-label:hover label.sk-toggleable__label {background-color: #d4ebff;}#sk-container-id-10 div.sk-serial::before {content: \"\";position: absolute;border-left: 1px solid gray;box-sizing: border-box;top: 0;bottom: 0;left: 50%;z-index: 0;}#sk-container-id-10 div.sk-serial {display: flex;flex-direction: column;align-items: center;background-color: white;padding-right: 0.2em;padding-left: 0.2em;position: relative;}#sk-container-id-10 div.sk-item {position: relative;z-index: 1;}#sk-container-id-10 div.sk-parallel {display: flex;align-items: stretch;justify-content: center;background-color: white;position: relative;}#sk-container-id-10 div.sk-item::before, #sk-container-id-10 div.sk-parallel-item::before {content: \"\";position: absolute;border-left: 1px solid gray;box-sizing: border-box;top: 0;bottom: 0;left: 50%;z-index: -1;}#sk-container-id-10 div.sk-parallel-item {display: flex;flex-direction: column;z-index: 1;position: relative;background-color: white;}#sk-container-id-10 div.sk-parallel-item:first-child::after {align-self: flex-end;width: 50%;}#sk-container-id-10 div.sk-parallel-item:last-child::after {align-self: flex-start;width: 50%;}#sk-container-id-10 div.sk-parallel-item:only-child::after {width: 0;}#sk-container-id-10 div.sk-dashed-wrapped {border: 1px dashed gray;margin: 0 0.4em 0.5em 0.4em;box-sizing: border-box;padding-bottom: 0.4em;background-color: white;}#sk-container-id-10 div.sk-label label {font-family: monospace;font-weight: bold;display: inline-block;line-height: 1.2em;}#sk-container-id-10 div.sk-label-container {text-align: center;}#sk-container-id-10 div.sk-container {/* jupyter's `normalize.less` sets `[hidden] { display: none; }` but bootstrap.min.css set `[hidden] { display: none !important; }` so we also need the `!important` here to be able to override the default hidden behavior on the sphinx rendered scikit-learn.org. See: https://github.com/scikit-learn/scikit-learn/issues/21755 */display: inline-block !important;position: relative;}#sk-container-id-10 div.sk-text-repr-fallback {display: none;}</style><div id=\"sk-container-id-10\" class=\"sk-top-container\"><div class=\"sk-text-repr-fallback\"><pre>SVC()</pre><b>In a Jupyter environment, please rerun this cell to show the HTML representation or trust the notebook. <br />On GitHub, the HTML representation is unable to render, please try loading this page with nbviewer.org.</b></div><div class=\"sk-container\" hidden><div class=\"sk-item\"><div class=\"sk-estimator sk-toggleable\"><input class=\"sk-toggleable__control sk-hidden--visually\" id=\"sk-estimator-id-10\" type=\"checkbox\" checked><label for=\"sk-estimator-id-10\" class=\"sk-toggleable__label sk-toggleable__label-arrow\">SVC</label><div class=\"sk-toggleable__content\"><pre>SVC()</pre></div></div></div></div></div>"
      ],
      "text/plain": [
       "SVC()"
      ]
     },
     "execution_count": 106,
     "metadata": {},
     "output_type": "execute_result"
    }
   ],
   "source": [
    "gender_final = SVC()\n",
    "gender_final.fit(gender_x_train_pca, gender_y_train_cat)"
   ]
  },
  {
   "cell_type": "code",
   "execution_count": 107,
   "metadata": {},
   "outputs": [
    {
     "name": "stdout",
     "output_type": "stream",
     "text": [
      "Accuracy:  0.9933333333333333\n",
      "Confusion matrix: \n",
      "[[137   5]\n",
      " [  0 608]]\n",
      "Precision, recall, f1-score: \n",
      "Precision, Recall and F1 Score: (0.9933877107123437, 0.9933333333333333, 0.993287246190472, None)\n"
     ]
    }
   ],
   "source": [
    "gender_precision_recall_fscore_svc_final, gender_cm_final = validate_model(\n",
    "    gender_final, gender_x_valid_pca, gender_y_valid_cat\n",
    ")\n",
    "\n",
    "print(\"Precision, Recall and F1 Score:\", gender_precision_recall_fscore_svc_final)"
   ]
  },
  {
   "cell_type": "code",
   "execution_count": null,
   "metadata": {},
   "outputs": [],
   "source": [
    "# hyperparameter tuning for svc\n",
    "gender_final_models = {\n",
    "    \"gender_SVC\": SVC(),\n",
    "}\n",
    "\n",
    "gender_grid = {\n",
    "    \"C\": [0.1, 1, 10],\n",
    "    \"gamma\": [1, 0.1, 0.01],\n",
    "    \"kernel\": [\"rbf\", \"poly\", \"sigmoid\"],\n",
    "    \"degree\": [1, 2, 3, 4, 5],\n",
    "}\n",
    "\n",
    "gender_grid = {\n",
    "    \"C\": [0.1, 1],\n",
    "    \"gamma\": [1, 0.01],\n",
    "    \"kernel\": [\"rbf\"],\n",
    "    \"degree\": [1, 2],\n",
    "}\n",
    "\n",
    "\n",
    "gender_rs_model = tune_hyperparameters(\n",
    "    gender_final_models,\n",
    "    gender_grid,\n",
    "    gender_x_train_pca,\n",
    "    gender_x_valid_pca,\n",
    "    gender_y_train_cat,\n",
    "    gender_y_valid_cat,\n",
    ")"
   ]
  },
  {
   "cell_type": "code",
   "execution_count": null,
   "metadata": {},
   "outputs": [],
   "source": [
    "# validate model\n",
    "gender_precision_recall_fscore_svc_final, gender_cm_final = validate_model(\n",
    "    gender_rs_model._best_estimator, gender_x_valid_pca, gender_y_valid_cat\n",
    ")\n",
    "\n",
    "print(\"Precision, Recall and F1 Score:\", gender_precision_recall_fscore_svc_final)"
   ]
  },
  {
   "cell_type": "code",
   "execution_count": null,
   "metadata": {},
   "outputs": [],
   "source": [
    "id_data_test_cat = pd.concat([x_test_scaled, id_test], axis=1)\n",
    "\n",
    "# Remove rows with null values\n",
    "id_data_cleaned_test_cat = id_data_test_cat.dropna()\n",
    "\n",
    "# Separate X and y again\n",
    "id_x_test_cat = id_data_cleaned_test_cat.drop(columns=[\"label_1\"])\n",
    "id_y_test_cat = id_data_cleaned_test_cat[\"label_1\"].to_frame()"
   ]
  },
  {
   "cell_type": "markdown",
   "metadata": {},
   "source": [
    "# Label 4\n"
   ]
  },
  {
   "cell_type": "code",
   "execution_count": 33,
   "metadata": {},
   "outputs": [],
   "source": [
    "# Handling NaN values in the age\n",
    "# Combine X and y into a single DataFrame\n",
    "\n",
    "accent_data_train_cat = pd.concat([x_train_scaled, accent_train], axis=1)\n",
    "accent_data_valid_cat = pd.concat([x_valid_scaled, accent_valid], axis=1)\n",
    "\n",
    "# Remove rows with null values\n",
    "accent_data_cleaned_train_cat = accent_data_train_cat.dropna()\n",
    "accent_data_cleaned_valid_cat = accent_data_valid_cat.dropna()\n",
    "\n",
    "# Separate X and y again\n",
    "accent_x_train_cat = accent_data_cleaned_train_cat.drop(columns=[\"label_4\"])\n",
    "accent_y_train_cat = accent_data_cleaned_train_cat[\"label_4\"]\n",
    "accent_x_valid_cat = accent_data_cleaned_valid_cat.drop(columns=[\"label_4\"])\n",
    "accent_y_valid_cat = accent_data_cleaned_valid_cat[\"label_4\"].to_frame()"
   ]
  },
  {
   "cell_type": "code",
   "execution_count": 34,
   "metadata": {},
   "outputs": [],
   "source": [
    "accent_x_test_cat = x_test_scaled\n",
    "\n",
    "accent_initial = SVC(kernel=\"rbf\", C=10, gamma=0.001)\n",
    "accent_initial.fit(accent_x_train_cat, accent_y_train_cat)\n",
    "\n",
    "accent_initial_test_preds = accent_initial.predict(accent_x_test_cat)\n",
    "pd.DataFrame(accent_initial_test_preds, columns=[\"label_4\"]).to_csv(\n",
    "    \"accent_initial_test_preds.csv\"\n",
    ")"
   ]
  },
  {
   "cell_type": "code",
   "execution_count": 35,
   "metadata": {},
   "outputs": [
    {
     "name": "stdout",
     "output_type": "stream",
     "text": [
      "Accuracy:  0.9733333333333334\n",
      "Confusion matrix: \n",
      "[[ 20   0   0   0   0   0   1   0   0   0   0   0   0   0]\n",
      " [  0  11   0   0   0   0   0   0   0   0   0   0   0   0]\n",
      " [  0   0  27   0   0   0   0   0   0   0   0   0   0   0]\n",
      " [  0   0   0   7   0   0   1   0   0   0   0   0   0   0]\n",
      " [  0   0   0   0  12   0   3   0   0   0   0   0   0   0]\n",
      " [  0   0   0   0   0  10   1   0   0   0   0   0   0   0]\n",
      " [  0   0   1   0   0   0 531   0   0   0   0   0   0   0]\n",
      " [  0   0   0   0   0   0   4  28   0   0   0   0   0   0]\n",
      " [  0   0   0   0   0   0   1   0  18   0   0   0   0   0]\n",
      " [  0   0   0   0   0   0   3   0   0  14   0   0   0   0]\n",
      " [  0   0   0   0   0   0   0   0   0   0  10   0   0   0]\n",
      " [  0   0   0   0   0   0   1   0   0   0   0  10   0   0]\n",
      " [  0   0   0   0   0   0   3   0   1   0   0   0  22   0]\n",
      " [  0   0   0   0   0   0   0   0   0   0   0   0   0  10]]\n",
      "Precision, recall, f1-score: \n",
      "Precision, Recall and F1 Score: (0.9741241217798594, 0.9733333333333334, 0.9726046855388014, None)\n"
     ]
    }
   ],
   "source": [
    "accent_precision_recall_fscore_svc_initial, accent_cm_initial = validate_model(\n",
    "    accent_initial, accent_x_valid_cat, accent_y_valid_cat\n",
    ")\n",
    "\n",
    "print(\"Precision, Recall and F1 Score:\", accent_precision_recall_fscore_svc_initial)"
   ]
  }
 ],
 "metadata": {
  "kernelspec": {
   "display_name": "CS4622",
   "language": "python",
   "name": "python3"
  },
  "language_info": {
   "codemirror_mode": {
    "name": "ipython",
    "version": 3
   },
   "file_extension": ".py",
   "mimetype": "text/x-python",
   "name": "python",
   "nbconvert_exporter": "python",
   "pygments_lexer": "ipython3",
   "version": "3.10.12"
  },
  "orig_nbformat": 4
 },
 "nbformat": 4,
 "nbformat_minor": 2
}
